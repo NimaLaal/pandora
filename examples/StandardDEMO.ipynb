{
 "cells": [
  {
   "cell_type": "markdown",
   "metadata": {},
   "source": [
    "# Load Needed Packages"
   ]
  },
  {
   "cell_type": "markdown",
   "metadata": {},
   "source": [
    "#### Note: if you want to change precision or device of JAX, the best way to do it is to follow (as an example)\n",
    "#### `conda activate <your env name>`\n",
    "#### `conda env config vars set JAX_ENABLE_X64=True`\n",
    "#### `conda env config vars set jax_platform_name=cpu`\n",
    "#### `conda activate <your env name>`\n",
    "#### Make sure to restart VScode or jupyter notebook after this! `jax.config.update()` may or may not work because I define default jax arrays in different places."
   ]
  },
  {
   "cell_type": "code",
   "execution_count": 1,
   "metadata": {},
   "outputs": [
    {
     "name": "stderr",
     "output_type": "stream",
     "text": [
      "/home/koonima/FAST/FLASH/GWBFunctions.py:11: UserWarning: The package `interpax` is needed for spline interpolation of ORF.\n",
      "  warnings.warn(\"The package `interpax` is needed for spline interpolation of ORF.\")\n"
     ]
    },
    {
     "name": "stdout",
     "output_type": "stream",
     "text": [
      "The fastshermanmorrison package is not found. The single pulsar analyses are much faster with the fast algorithm!\n",
      "Optional mpi4py package is not installed.  MPI support is not available.\n"
     ]
    }
   ],
   "source": [
    "import jax\n",
    "import jax.numpy as jnp\n",
    "import jax.scipy as jsp\n",
    "import jax.random as jar\n",
    "# jax.config.update('jax_platform_name', 'cuda')\n",
    "# jax.config.update(\"jax_enable_x64\", False)\n",
    "\n",
    "import numpy as np\n",
    "import models, utils, GWBFunctions\n",
    "import LikelihoodCalculator as LC\n",
    "from enterprise_extensions.model_utils import get_tspan\n",
    "import pickle, json, os, corner, glob, random, copy, time, inspect\n",
    "import matplotlib.pyplot as plt\n",
    "from matplotlib.ticker import AutoMinorLocator\n",
    "import matplotlib.lines as mlines\n",
    "\n",
    "plt.style.use('dark_background')\n",
    "hist_settings = dict(\n",
    "    bins = 40,\n",
    "    histtype = 'step',\n",
    "    lw = 3,\n",
    "    density = True\n",
    ")\n",
    "\n",
    "%matplotlib inline\n",
    "%config InlineBackend.figure_format = 'retina'\n",
    "%load_ext autoreload\n",
    "%autoreload 2\n",
    "# %load_ext line_profiler"
   ]
  },
  {
   "cell_type": "markdown",
   "metadata": {},
   "source": [
    "# Choose a data set"
   ]
  },
  {
   "cell_type": "code",
   "execution_count": 2,
   "metadata": {},
   "outputs": [],
   "source": [
    "dsets = ['SIMG45', 'SIMG', 'GSIM', 'GSIMNULL', 'GSIMRED', 'SIMRed', 'SIMBase', 'NIMCast', '15SIM', '12p5', 'A4Cast', 'SIMNULL', 'NIMCast', '15yr', 'AJAXPaper', 'SIMCurn']"
   ]
  },
  {
   "cell_type": "code",
   "execution_count": 3,
   "metadata": {},
   "outputs": [
    {
     "data": {
      "text/plain": [
       "'15yr'"
      ]
     },
     "execution_count": 3,
     "metadata": {},
     "output_type": "execute_result"
    }
   ],
   "source": [
    "id = -3\n",
    "cname = dsets[id]\n",
    "cname"
   ]
  },
  {
   "cell_type": "code",
   "execution_count": 4,
   "metadata": {},
   "outputs": [
    {
     "data": {
      "text/plain": [
       "'15yr'"
      ]
     },
     "execution_count": 4,
     "metadata": {},
     "output_type": "execute_result"
    }
   ],
   "source": [
    "crn_bins = 5\n",
    "Npulsars = 67\n",
    "noise_dict = {}\n",
    "# cname = names[0][0]\n",
    "cname"
   ]
  },
  {
   "cell_type": "code",
   "execution_count": 5,
   "metadata": {},
   "outputs": [
    {
     "name": "stdout",
     "output_type": "stream",
     "text": [
      "Warning: cannot find astropy, units support will not be available.\n"
     ]
    }
   ],
   "source": [
    "if cname == '12p5':\n",
    "    rr = 0\n",
    "    with open(f'../Data/Pickle/channelized_12yr_v3_partim_DE438.pkl', 'rb') as fin:\n",
    "        psrs = pickle.load(fin)\n",
    "    psrlist = [psr.name for psr in psrs]\n",
    "    with open(f'../Data/Pickle/channelized_12p5yr_v3_full_noisedict.json', 'r') as fin:\n",
    "        nd = json.load(fin)\n",
    "    for k, v in nd.items():\n",
    "        if 'equad' in k:\n",
    "            noise_dict.update({k.replace('equad','tnequad' ):v})\n",
    "        else:\n",
    "            noise_dict.update({k:v})\n",
    "elif cname == '15yr':\n",
    "    rr = 0\n",
    "    with open(f'../Data/Pickle/v1p1_de440_pint_bipm2019.pkl', 'rb') as fin:\n",
    "        psrs = pickle.load(fin)[:Npulsars]\n",
    "    psrlist = [psr.name for psr in psrs]\n",
    "    with open(f'../Data/Pickle/v1p1_all_dict.json', 'r') as fin:\n",
    "        noise_dict = json.load(fin)\n",
    "    inc_ecorr = True\n",
    "    backend = 'backend'\n",
    "    tnequad = False\n",
    "    \n",
    "else:\n",
    "    rr = 2\n",
    "    with open(f'../DEMO/Data/Pickle/{cname}/{rr}.pkl', 'rb') as fin:\n",
    "        psrs = pickle.load(fin)\n",
    "    len(psrs)\n",
    "    psrlist = [psr.name for psr in psrs]\n",
    "    for pname in psrlist:\n",
    "        noise_dict.update({pname + '_efac': 1.0})\n",
    "        noise_dict.update({pname + '_log10_t2equad': -np.inf})"
   ]
  },
  {
   "cell_type": "markdown",
   "metadata": {},
   "source": [
    "# Step 1: Model Construction"
   ]
  },
  {
   "cell_type": "markdown",
   "metadata": {},
   "source": [
    "## Frequency-bins"
   ]
  },
  {
   "cell_type": "code",
   "execution_count": 6,
   "metadata": {},
   "outputs": [],
   "source": [
    "Tspan = get_tspan(psrs) # The time-span of the entire PTA\n",
    "crn_bins = 5 # number of frequency-bins for the GWB\n",
    "int_bins = 5 # number of frequency-bins for the non-GWB (IRN) red noise\n",
    "assert int_bins >= crn_bins\n",
    "f_intrin = jnp.arange(1/Tspan, (int_bins + 0.01)/Tspan, 1/Tspan) # an array of frequency-bins for the IRN process\n",
    "f_common = f_intrin[:crn_bins] # an array of frequency-bins for the common process\n",
    "renorm_const = 1. # the factor by which the units are going to change (divided by). Set it to `1` for no unit change (seconds), or let it be `1e9` (nano seconds) for better performance."
   ]
  },
  {
   "cell_type": "markdown",
   "metadata": {},
   "source": [
    "## GWB PSD model"
   ]
  },
  {
   "cell_type": "markdown",
   "metadata": {},
   "source": [
    "### A dictionary is used to store the necessary information about GWB PSD. You can either use the `utils.param_order_help` to make your own dictionary or use one of the pre-made ones. Take a look at `GWBFunctions.py` for a list of supported PSD as well as GWB ORF functions."
   ]
  },
  {
   "cell_type": "markdown",
   "metadata": {},
   "source": [
    "### For example, choose a GWB with HD correlations and fixed spectral index (at 13/3) powerlaw PSD."
   ]
  },
  {
   "cell_type": "code",
   "execution_count": 7,
   "metadata": {},
   "outputs": [
    {
     "data": {
      "text/plain": [
       "{'ordered_gwb_psd_model_params': array(['halflog10_rho'], dtype='<U13'),\n",
       " 'varied_gwb_psd_params': ['halflog10_rho'],\n",
       " 'gwb_psd_param_lower_lim': Array([-9., -9., -9., -9., -9.], dtype=float64),\n",
       " 'gwb_psd_param_upper_lim': Array([-1., -1., -1., -1., -1.], dtype=float64)}"
      ]
     },
     "execution_count": 7,
     "metadata": {},
     "output_type": "execute_result"
    }
   ],
   "source": [
    "# chosen_psd_model, chosen_orf_model, gwb_helper_dictionary = utils.fixed_gamma_hd_pl(renorm_const=renorm_const)\n",
    "chosen_psd_model, chosen_orf_model, gwb_helper_dictionary = utils.hd_spectrum(renorm_const=renorm_const,crn_bins=crn_bins)\n",
    "# chosen_psd_model, chosen_orf_model, gwb_helper_dictionary = utils.varied_gamma_hd_pl(renorm_const=renorm_const)\n",
    "# chosen_psd_model, chosen_orf_model, gwb_helper_dictionary = utils.varied_gamma_gt_pl(renorm_const=renorm_const)\n",
    "# chosen_psd_model, chosen_orf_model, gwb_helper_dictionary = utils.varied_gamma_bin_orf_pl(renorm_const=renorm_const)\n",
    "gwb_helper_dictionary"
   ]
  },
  {
   "cell_type": "markdown",
   "metadata": {},
   "source": [
    "### Now, construct the model using `models.UniformPrior`"
   ]
  },
  {
   "cell_type": "code",
   "execution_count": 8,
   "metadata": {},
   "outputs": [
    {
     "name": "stdout",
     "output_type": "stream",
     "text": [
      "Help on class UniformPrior in module models:\n",
      "\n",
      "class UniformPrior(builtins.object)\n",
      " |  UniformPrior(gwb_psd_func, orf_func, crn_bins, int_bins, f_common, f_intrin, df, psr_pos, Tspan, Npulsars, gwb_helper_dictionary, gamma_min=0, gamma_max=7, log10A_min=Array(-13.5, dtype=float64), log10A_max=Array(-6.5, dtype=float64), renorm_const=1000000000.0)\n",
      " |  \n",
      " |  A class to take care of prior and the phi-matrix construction based on uniform/log-uniform priors.\n",
      " |  \n",
      " |  :param gwb_psd_func: a PSD function from the `GWBFunctions` class\n",
      " |  :param orf_func: an orf function from the `GWBFunctions` class\n",
      " |  :param crn_bins: number of frequency-bins for the GWB\n",
      " |  :param int_bins: number of frequency-bins for the non-GWB (IRN) red noise\n",
      " |  :param `f_common`: an array of frequency-bins for the common process\n",
      " |  :param `f_intrin`: an array of frequency-bins for the IRN process\n",
      " |  :param df: the diffence between consecutive frequency-bins. It is usually 1/Tspan\n",
      " |  :param psr_pos: an array of pulsar-pair sky positions in cartesian-coordinates (every other coordinate system is pretentious and hence not supported!)\n",
      " |  :param Tspan: the baseline (time-span) of the PTA\n",
      " |  :param Npulsars: number of pulsars in the PTA\n",
      " |  :param gwb_helper_dictionary: the helper dictionary from `utils.py` script\n",
      " |  :param gamma_min: the lowest allowed value of the spectral-index of IRN\n",
      " |  :param gamma_max: the highest allowed value of the spectral-index of IRN\n",
      " |  :param log10A_min: the lowest allowed value of log10 of the amplitude of IRN\n",
      " |  :param log10A_max: the highest allowed value of log10 of the amplitude of IRN\n",
      " |  :param renorm_const: the factor by which the units are going to change. Set it to `1` for no unit change, or let it be `1e9` for better performance.\n",
      " |  \n",
      " |  Author:\n",
      " |  Nima Laal (02/12/2025)\n",
      " |  \n",
      " |  Methods defined here:\n",
      " |  \n",
      " |  __init__(self, gwb_psd_func, orf_func, crn_bins, int_bins, f_common, f_intrin, df, psr_pos, Tspan, Npulsars, gwb_helper_dictionary, gamma_min=0, gamma_max=7, log10A_min=Array(-13.5, dtype=float64), log10A_max=Array(-6.5, dtype=float64), renorm_const=1000000000.0)\n",
      " |      Initialize self.  See help(type(self)) for accurate signature.\n",
      " |  \n",
      " |  get_cross_info = <functools.cached_property object>\n",
      " |      Calculates the angular separation as well as their indices (between pairs of pulsars) based on\n",
      " |      their positions and stores them in the memory.\n",
      " |  \n",
      " |  get_lnprior(self, xs)\n",
      " |      A function to return natural log uniform-prior\n",
      " |      \n",
      " |      :param: xs: flattened array of model paraemters (`xs`)\n",
      " |      \n",
      " |      :return: either -infinity or a constant based on the predefined limits of the uniform-prior.\n",
      " |  \n",
      " |  get_phi_diag(self, log10amp, gamma, gwb_psd_params)\n",
      " |      Calculates the diagonal of the phi-matrix based on input parameters `log10amp`, `gamma`, and\n",
      " |      `gwb_psd_params`.\n",
      " |      \n",
      " |      :param log10amp: the amplitude of the IRN\n",
      " |      :param gamma: the spectral index of IRN\n",
      " |      :param gwb_psd_params: the psd parameters of the GWB\n",
      " |      \n",
      " |      :return:\n",
      " |      1. diagonal of the phi-matrix\n",
      " |      2. the common process PSD\n",
      " |  \n",
      " |  get_phi_mat(self, xs)\n",
      " |      Constructs the phi-matrix based on the flattened array of model paraemters (`xs`)\n",
      " |      \n",
      " |      :param xs: flattened array of model paraemters (`xs`)\n",
      " |      \n",
      " |      :return: the phi-matrix` with dimensions `(n_f,n_p, n_p)`.\n",
      " |  \n",
      " |  get_phi_mat_and_common_psd(self, xs)\n",
      " |      Constructs the phi-matrix based on the flattened array of model paraemters (`xs`)\n",
      " |      \n",
      " |      :param xs: flattened array of model paraemters (`xs`)\n",
      " |      \n",
      " |      :return: the phi-matrix` with dimensions `(n_f,n_p, n_p)`.\n",
      " |  \n",
      " |  jax_to_numpy_CPU(self, jax_CPU_array)\n",
      " |      Converts a JAX CPU array to a NumPy array.\n",
      " |      \n",
      " |      :param: jax_CPU_array: a JAX array that is stored on the CPU.\n",
      " |      \n",
      " |      :return: a NumPy array converted from a JAX CPU array using the `np.from_dlpack()` function.\n",
      " |  \n",
      " |  make_initial_guess(self, key)\n",
      " |      Generates an initial guess using uniform random values within\n",
      " |      specified limits.\n",
      " |      \n",
      " |      :param key: RNG key used for generating random numbers in a.\n",
      " |      It is commonly used in libraries like JAX for generating random numbers\n",
      " |      \n",
      " |      :return: an array of random numbers generated using\n",
      " |      JAX's `random.uniform` function. The shape of the array is determined by the number of elements in\n",
      " |      `self.upper_prior_lim_all`. The random numbers are generated within the range specified by `minval =\n",
      " |      self.lower_prior_lim_all` and `maxval = self.upper_prior_lim_all`.\n",
      " |  \n",
      " |  powerlaw(self, log10_A, gamma)\n",
      " |      Calculates a powerlaw expression given amplitude and spectral-index\n",
      " |      \n",
      " |      :param log10_A: the logarithm (base 10) of the amplitude.\n",
      " |      :param gamma: the spectral-index of the powerlaw\n",
      " |      \n",
      " |      :return: a powerlaw expression on predefined frequencies.\n",
      " |  \n",
      " |  spit_neg_infinity(self)\n",
      " |      returns negative infinity using the JAX NumPy library.\n",
      " |      \n",
      " |      :return: negative infinity.\n",
      " |  \n",
      " |  spit_neg_number(self)\n",
      " |      returns the negative value -8.01 (an arbitrary constant used by the uniform prior).\n",
      " |      \n",
      " |      :return: returnins the value -8.01.\n",
      " |  \n",
      " |  ----------------------------------------------------------------------\n",
      " |  Data descriptors defined here:\n",
      " |  \n",
      " |  __dict__\n",
      " |      dictionary for instance variables (if defined)\n",
      " |  \n",
      " |  __weakref__\n",
      " |      list of weak references to the object (if defined)\n",
      "\n"
     ]
    }
   ],
   "source": [
    "help(models.UniformPrior)"
   ]
  },
  {
   "cell_type": "code",
   "execution_count": 9,
   "metadata": {},
   "outputs": [],
   "source": [
    "o = models.UniformPrior(gwb_psd_func = chosen_psd_model,\n",
    "                orf_func = chosen_orf_model,\n",
    "                crn_bins = crn_bins,\n",
    "                int_bins = int_bins,\n",
    "                f_common = f_common, \n",
    "                f_intrin = f_intrin,\n",
    "                df = 1/Tspan,\n",
    "                Tspan = Tspan, \n",
    "                Npulsars = len(psrs),\n",
    "                psr_pos = [psr.pos for psr in psrs],\n",
    "                gwb_helper_dictionary = gwb_helper_dictionary,\n",
    "                gamma_min = 0,\n",
    "                gamma_max = 7,\n",
    "                log10A_min = -20 + 0.5 * jnp.log10(renorm_const), #`0.5 * jnp.log10(renorm_const)` is added to account for change in units,\n",
    "                log10A_max = -11 + 0.5 * jnp.log10(renorm_const), #`0.5 * jnp.log10(renorm_const)` is added to account for change in units,\n",
    "                renorm_const = renorm_const)"
   ]
  },
  {
   "cell_type": "code",
   "execution_count": 10,
   "metadata": {},
   "outputs": [],
   "source": [
    "x0 = o.make_initial_guess(key = jar.key(100)) # Some random draw from the prior given an RNG key"
   ]
  },
  {
   "cell_type": "code",
   "execution_count": 11,
   "metadata": {},
   "outputs": [
    {
     "data": {
      "text/plain": [
       "(5, 67, 67)"
      ]
     },
     "execution_count": 11,
     "metadata": {},
     "output_type": "execute_result"
    }
   ],
   "source": [
    "phimat = o.get_phi_mat(x0)\n",
    "phimat.shape"
   ]
  },
  {
   "cell_type": "markdown",
   "metadata": {},
   "source": [
    "### Here is the phi-matrix. Note that this matrix is batched by `max(int_bins, crn_bins)` and is lower-triangular as fully populating phi (a positive definite matrix) is vain for computational purposes!"
   ]
  },
  {
   "cell_type": "code",
   "execution_count": 12,
   "metadata": {},
   "outputs": [
    {
     "data": {
      "text/plain": [
       "Array([[ 1.13721304e-07,  0.00000000e+00,  0.00000000e+00, ...,\n",
       "         0.00000000e+00,  0.00000000e+00,  0.00000000e+00],\n",
       "       [ 4.38168166e-08,  1.13721316e-07,  0.00000000e+00, ...,\n",
       "         0.00000000e+00,  0.00000000e+00,  0.00000000e+00],\n",
       "       [ 3.29142536e-08,  5.19604098e-08,  1.13721304e-07, ...,\n",
       "         0.00000000e+00,  0.00000000e+00,  0.00000000e+00],\n",
       "       ...,\n",
       "       [-1.15913598e-08,  1.51887022e-09,  1.03131491e-08, ...,\n",
       "         1.13752718e-07,  0.00000000e+00,  0.00000000e+00],\n",
       "       [-1.19664332e-08, -3.05603017e-09,  3.25103762e-10, ...,\n",
       "         2.37859771e-08,  1.13721304e-07,  0.00000000e+00],\n",
       "       [-1.25210477e-08, -2.78271737e-09,  1.75695204e-09, ...,\n",
       "         3.23319078e-08,  5.36935502e-08,  1.22934541e-06]],      dtype=float64)"
      ]
     },
     "execution_count": 12,
     "metadata": {},
     "output_type": "execute_result"
    }
   ],
   "source": [
    "phimat[0]"
   ]
  },
  {
   "cell_type": "markdown",
   "metadata": {},
   "source": [
    "# Step 2: Likelihood Calculation"
   ]
  },
  {
   "cell_type": "code",
   "execution_count": 15,
   "metadata": {},
   "outputs": [
    {
     "name": "stdout",
     "output_type": "stream",
     "text": [
      "Help on class MultiPulsarModel in module LikelihoodCalculator:\n",
      "\n",
      "class MultiPulsarModel(builtins.object)\n",
      " |  MultiPulsarModel(run_type_object, psrs, TNr=Array([False], dtype=bool), TNT=Array([False], dtype=bool), noise_dict=None, backend='none', tnequad=False, inc_ecorr=False, del_pta_after_init=True, matrix_stabilization=True)\n",
      " |  \n",
      " |  A class to calculate likelihood based on given IRN + GWB models (no deterministic signal)\n",
      " |  \n",
      " |  :param run_type_object: a class from `run_types.py`\n",
      " |  :param psrs: an enterprise `psrs` object. Ignored if `TNr` and `TNT` is supplied\n",
      " |  :param TNr: the so-called TNr matrix. It is the product of the basis matrix `F`\n",
      " |  with the inverse of the timing marginalized white noise covaraince matrix D and the timing residulas `r`.\n",
      " |  The naming convension should read FD^-1r but TNr is a more well-known name for this quantity!\n",
      " |  :param TNT: the so-called TNT matrix. It is the product of the basis matrix `F`\n",
      " |  with the inverse of the timing marginalized white noise covaraince matrix D and the `F` transpose matrix.\n",
      " |  The naming convension should read FD^-1F but TNT is a more well-known name for this quantity (it sounds dynamite!)\n",
      " |  :param: noise_dict: the white noise noise dictionary. Ignored if `TNr` and `TNT` is supplied\n",
      " |  :param: backend: the telescope backend. Ignored if `TNr` and `TNT` is supplied\n",
      " |  :param: tnequad: do you want to use the temponest convention?. Ignored if `TNr` and `TNT` is supplied\n",
      " |  :param: inc_ecorr: do you want to use ecorr? Ignored if `TNr` and `TNT` is supplied\n",
      " |  :param: del_pta_after_init: do you want to delete the in-house-made `pta` object? Ignored if `TNr` and `TNT` is supplied\n",
      " |  :param: matrix_stabilization: performing some matrix stabilization on the `TNT` matrix. It is highly recommended!\n",
      " |  \n",
      " |  Author:\n",
      " |  Nima Laal (02/12/2025)\n",
      " |  \n",
      " |  Methods defined here:\n",
      " |  \n",
      " |  __init__(self, run_type_object, psrs, TNr=Array([False], dtype=bool), TNT=Array([False], dtype=bool), noise_dict=None, backend='none', tnequad=False, inc_ecorr=False, del_pta_after_init=True, matrix_stabilization=True)\n",
      " |      Initialize self.  See help(type(self)) for accurate signature.\n",
      " |  \n",
      " |  draw_from_prior(self, x, iter, beta)\n",
      " |      Prior draw.\n",
      " |      \n",
      " |      The function signature is specific to PTMCMCSampler.\n",
      " |  \n",
      " |  get_lnliklihood(self, xs)\n",
      " |      Calculates the log-likelihood of a multi-pulsar noise-modeling (no deterministic signal)\n",
      " |      \n",
      " |      :param: xs: flattened array of model paraemters (`xs`)\n",
      " |      \n",
      " |      :return: returns the natural-log-likelihood\n",
      " |  \n",
      " |  get_lnliklihood_using_phi(self, phi)\n",
      " |      Calculates the log-likelihood of a multi-pulsar noise-modeling (no deterministic signal)\n",
      " |      \n",
      " |      :param: phi: a phi-matrix\n",
      " |      \n",
      " |      :return: returns the natural-log-likelihood\n",
      " |  \n",
      " |  get_lnprior(self, xs)\n",
      " |      A function to return natural log uniform-prior\n",
      " |      \n",
      " |      :param: xs: flattened array of model paraemters (`xs`)\n",
      " |      \n",
      " |      :return: either -infinity or a constant based on the predefined limits of the uniform-prior.\n",
      " |  \n",
      " |  get_mean(self, phiinv)\n",
      " |      Estimates the mean of the Fourier coefficients as well as the log-determinant of the `Sigma` matrix.\n",
      " |      \n",
      " |      :param: `phiinv`: the phiinv matrix of the shape (2*n_freq, n_pulsar, n_pulsar).\n",
      " |      package does this automatically.\n",
      " |      \n",
      " |      :return: the mean of the Fourier coefficients as well as the log-determinant of the `Sigma` matrix.\n",
      " |  \n",
      " |  sample(self, niter, savedir, resume=True, rngkey=Array((), dtype=key<fry>) overlaying:\n",
      " |  [  0 100])\n",
      " |      A function to perform the sampling using PTMCMC\n",
      " |      \n",
      " |      :param niter: the number of sampling iterations\n",
      " |      :param savedir: the directory to save the chains\n",
      " |      :param resume: do you want to resume from a saved chain?\n",
      " |      :param resume: annoying JAX rng key!\n",
      " |  \n",
      " |  to_ent_phiinv(self, phiinv)\n",
      " |      Changes the format of the phiinv matrix from (2*n_freq, n_pulsar, n_pulsar) to (2*n_freq * n_pulsar by 2*n_freq * n_pulsar)\n",
      " |      by adding zeros to the cross-frequency terms.\n",
      " |      \n",
      " |      :param: `phiinv`: the phiinv matrix with the shape (2*n_freq, n_pulsar, n_pulsar).\n",
      " |      \n",
      " |      :return: the phiinv matrix with the shape (2*n_freq * n_pulsar by 2*n_freq * n_pulsar).\n",
      " |  \n",
      " |  ----------------------------------------------------------------------\n",
      " |  Data descriptors defined here:\n",
      " |  \n",
      " |  __dict__\n",
      " |      dictionary for instance variables (if defined)\n",
      " |  \n",
      " |  __weakref__\n",
      " |      list of weak references to the object (if defined)\n",
      "\n"
     ]
    }
   ],
   "source": [
    "help(LC.MultiPulsarModel)"
   ]
  },
  {
   "cell_type": "markdown",
   "metadata": {},
   "source": [
    "### Making the likelihood calculator object is easy. We never change the white noise for multi-pulsar analyses, so the sufficient data is really `TNr` and `TNT` matrices. Thus, you can either supply a `psrs` object to make a `TNr` and `TNT` from, or you can supply both `TNr` and `TNT` directly. `noise_dict`, `backend`, `tnequad`, and `inc_ecorr` are only used when `psrs` is supplied."
   ]
  },
  {
   "cell_type": "code",
   "execution_count": 13,
   "metadata": {},
   "outputs": [
    {
     "data": {
      "text/plain": [
       "[B1855+09_red_noise_gamma:Uniform(pmin=0, pmax=7),\n",
       " B1855+09_red_noise_log10_A:Uniform(pmin=-20, pmax=-11),\n",
       " B1937+21_red_noise_gamma:Uniform(pmin=0, pmax=7),\n",
       " B1937+21_red_noise_log10_A:Uniform(pmin=-20, pmax=-11),\n",
       " B1953+29_red_noise_gamma:Uniform(pmin=0, pmax=7),\n",
       " B1953+29_red_noise_log10_A:Uniform(pmin=-20, pmax=-11),\n",
       " J0023+0923_red_noise_gamma:Uniform(pmin=0, pmax=7),\n",
       " J0023+0923_red_noise_log10_A:Uniform(pmin=-20, pmax=-11),\n",
       " J0030+0451_red_noise_gamma:Uniform(pmin=0, pmax=7),\n",
       " J0030+0451_red_noise_log10_A:Uniform(pmin=-20, pmax=-11),\n",
       " J0340+4130_red_noise_gamma:Uniform(pmin=0, pmax=7),\n",
       " J0340+4130_red_noise_log10_A:Uniform(pmin=-20, pmax=-11),\n",
       " J0406+3039_red_noise_gamma:Uniform(pmin=0, pmax=7),\n",
       " J0406+3039_red_noise_log10_A:Uniform(pmin=-20, pmax=-11),\n",
       " J0437-4715_red_noise_gamma:Uniform(pmin=0, pmax=7),\n",
       " J0437-4715_red_noise_log10_A:Uniform(pmin=-20, pmax=-11),\n",
       " J0509+0856_red_noise_gamma:Uniform(pmin=0, pmax=7),\n",
       " J0509+0856_red_noise_log10_A:Uniform(pmin=-20, pmax=-11),\n",
       " J0557+1551_red_noise_gamma:Uniform(pmin=0, pmax=7),\n",
       " J0557+1551_red_noise_log10_A:Uniform(pmin=-20, pmax=-11),\n",
       " J0605+3757_red_noise_gamma:Uniform(pmin=0, pmax=7),\n",
       " J0605+3757_red_noise_log10_A:Uniform(pmin=-20, pmax=-11),\n",
       " J0610-2100_red_noise_gamma:Uniform(pmin=0, pmax=7),\n",
       " J0610-2100_red_noise_log10_A:Uniform(pmin=-20, pmax=-11),\n",
       " J0613-0200_red_noise_gamma:Uniform(pmin=0, pmax=7),\n",
       " J0613-0200_red_noise_log10_A:Uniform(pmin=-20, pmax=-11),\n",
       " J0636+5128_red_noise_gamma:Uniform(pmin=0, pmax=7),\n",
       " J0636+5128_red_noise_log10_A:Uniform(pmin=-20, pmax=-11),\n",
       " J0645+5158_red_noise_gamma:Uniform(pmin=0, pmax=7),\n",
       " J0645+5158_red_noise_log10_A:Uniform(pmin=-20, pmax=-11),\n",
       " J0709+0458_red_noise_gamma:Uniform(pmin=0, pmax=7),\n",
       " J0709+0458_red_noise_log10_A:Uniform(pmin=-20, pmax=-11),\n",
       " J0740+6620_red_noise_gamma:Uniform(pmin=0, pmax=7),\n",
       " J0740+6620_red_noise_log10_A:Uniform(pmin=-20, pmax=-11),\n",
       " J0931-1902_red_noise_gamma:Uniform(pmin=0, pmax=7),\n",
       " J0931-1902_red_noise_log10_A:Uniform(pmin=-20, pmax=-11),\n",
       " J1012+5307_red_noise_gamma:Uniform(pmin=0, pmax=7),\n",
       " J1012+5307_red_noise_log10_A:Uniform(pmin=-20, pmax=-11),\n",
       " J1012-4235_red_noise_gamma:Uniform(pmin=0, pmax=7),\n",
       " J1012-4235_red_noise_log10_A:Uniform(pmin=-20, pmax=-11),\n",
       " J1022+1001_red_noise_gamma:Uniform(pmin=0, pmax=7),\n",
       " J1022+1001_red_noise_log10_A:Uniform(pmin=-20, pmax=-11),\n",
       " J1024-0719_red_noise_gamma:Uniform(pmin=0, pmax=7),\n",
       " J1024-0719_red_noise_log10_A:Uniform(pmin=-20, pmax=-11),\n",
       " J1125+7819_red_noise_gamma:Uniform(pmin=0, pmax=7),\n",
       " J1125+7819_red_noise_log10_A:Uniform(pmin=-20, pmax=-11),\n",
       " J1312+0051_red_noise_gamma:Uniform(pmin=0, pmax=7),\n",
       " J1312+0051_red_noise_log10_A:Uniform(pmin=-20, pmax=-11),\n",
       " J1453+1902_red_noise_gamma:Uniform(pmin=0, pmax=7),\n",
       " J1453+1902_red_noise_log10_A:Uniform(pmin=-20, pmax=-11),\n",
       " J1455-3330_red_noise_gamma:Uniform(pmin=0, pmax=7),\n",
       " J1455-3330_red_noise_log10_A:Uniform(pmin=-20, pmax=-11),\n",
       " J1600-3053_red_noise_gamma:Uniform(pmin=0, pmax=7),\n",
       " J1600-3053_red_noise_log10_A:Uniform(pmin=-20, pmax=-11),\n",
       " J1614-2230_red_noise_gamma:Uniform(pmin=0, pmax=7),\n",
       " J1614-2230_red_noise_log10_A:Uniform(pmin=-20, pmax=-11),\n",
       " J1630+3734_red_noise_gamma:Uniform(pmin=0, pmax=7),\n",
       " J1630+3734_red_noise_log10_A:Uniform(pmin=-20, pmax=-11),\n",
       " J1640+2224_red_noise_gamma:Uniform(pmin=0, pmax=7),\n",
       " J1640+2224_red_noise_log10_A:Uniform(pmin=-20, pmax=-11),\n",
       " J1643-1224_red_noise_gamma:Uniform(pmin=0, pmax=7),\n",
       " J1643-1224_red_noise_log10_A:Uniform(pmin=-20, pmax=-11),\n",
       " J1705-1903_red_noise_gamma:Uniform(pmin=0, pmax=7),\n",
       " J1705-1903_red_noise_log10_A:Uniform(pmin=-20, pmax=-11),\n",
       " J1713+0747_red_noise_gamma:Uniform(pmin=0, pmax=7),\n",
       " J1713+0747_red_noise_log10_A:Uniform(pmin=-20, pmax=-11),\n",
       " J1719-1438_red_noise_gamma:Uniform(pmin=0, pmax=7),\n",
       " J1719-1438_red_noise_log10_A:Uniform(pmin=-20, pmax=-11),\n",
       " J1730-2304_red_noise_gamma:Uniform(pmin=0, pmax=7),\n",
       " J1730-2304_red_noise_log10_A:Uniform(pmin=-20, pmax=-11),\n",
       " J1738+0333_red_noise_gamma:Uniform(pmin=0, pmax=7),\n",
       " J1738+0333_red_noise_log10_A:Uniform(pmin=-20, pmax=-11),\n",
       " J1741+1351_red_noise_gamma:Uniform(pmin=0, pmax=7),\n",
       " J1741+1351_red_noise_log10_A:Uniform(pmin=-20, pmax=-11),\n",
       " J1744-1134_red_noise_gamma:Uniform(pmin=0, pmax=7),\n",
       " J1744-1134_red_noise_log10_A:Uniform(pmin=-20, pmax=-11),\n",
       " J1745+1017_red_noise_gamma:Uniform(pmin=0, pmax=7),\n",
       " J1745+1017_red_noise_log10_A:Uniform(pmin=-20, pmax=-11),\n",
       " J1747-4036_red_noise_gamma:Uniform(pmin=0, pmax=7),\n",
       " J1747-4036_red_noise_log10_A:Uniform(pmin=-20, pmax=-11),\n",
       " J1751-2857_red_noise_gamma:Uniform(pmin=0, pmax=7),\n",
       " J1751-2857_red_noise_log10_A:Uniform(pmin=-20, pmax=-11),\n",
       " J1802-2124_red_noise_gamma:Uniform(pmin=0, pmax=7),\n",
       " J1802-2124_red_noise_log10_A:Uniform(pmin=-20, pmax=-11),\n",
       " J1811-2405_red_noise_gamma:Uniform(pmin=0, pmax=7),\n",
       " J1811-2405_red_noise_log10_A:Uniform(pmin=-20, pmax=-11),\n",
       " J1832-0836_red_noise_gamma:Uniform(pmin=0, pmax=7),\n",
       " J1832-0836_red_noise_log10_A:Uniform(pmin=-20, pmax=-11),\n",
       " J1843-1113_red_noise_gamma:Uniform(pmin=0, pmax=7),\n",
       " J1843-1113_red_noise_log10_A:Uniform(pmin=-20, pmax=-11),\n",
       " J1853+1303_red_noise_gamma:Uniform(pmin=0, pmax=7),\n",
       " J1853+1303_red_noise_log10_A:Uniform(pmin=-20, pmax=-11),\n",
       " J1903+0327_red_noise_gamma:Uniform(pmin=0, pmax=7),\n",
       " J1903+0327_red_noise_log10_A:Uniform(pmin=-20, pmax=-11),\n",
       " J1909-3744_red_noise_gamma:Uniform(pmin=0, pmax=7),\n",
       " J1909-3744_red_noise_log10_A:Uniform(pmin=-20, pmax=-11),\n",
       " J1910+1256_red_noise_gamma:Uniform(pmin=0, pmax=7),\n",
       " J1910+1256_red_noise_log10_A:Uniform(pmin=-20, pmax=-11),\n",
       " J1911+1347_red_noise_gamma:Uniform(pmin=0, pmax=7),\n",
       " J1911+1347_red_noise_log10_A:Uniform(pmin=-20, pmax=-11),\n",
       " J1918-0642_red_noise_gamma:Uniform(pmin=0, pmax=7),\n",
       " J1918-0642_red_noise_log10_A:Uniform(pmin=-20, pmax=-11),\n",
       " J1923+2515_red_noise_gamma:Uniform(pmin=0, pmax=7),\n",
       " J1923+2515_red_noise_log10_A:Uniform(pmin=-20, pmax=-11),\n",
       " J1944+0907_red_noise_gamma:Uniform(pmin=0, pmax=7),\n",
       " J1944+0907_red_noise_log10_A:Uniform(pmin=-20, pmax=-11),\n",
       " J1946+3417_red_noise_gamma:Uniform(pmin=0, pmax=7),\n",
       " J1946+3417_red_noise_log10_A:Uniform(pmin=-20, pmax=-11),\n",
       " J2010-1323_red_noise_gamma:Uniform(pmin=0, pmax=7),\n",
       " J2010-1323_red_noise_log10_A:Uniform(pmin=-20, pmax=-11),\n",
       " J2017+0603_red_noise_gamma:Uniform(pmin=0, pmax=7),\n",
       " J2017+0603_red_noise_log10_A:Uniform(pmin=-20, pmax=-11),\n",
       " J2033+1734_red_noise_gamma:Uniform(pmin=0, pmax=7),\n",
       " J2033+1734_red_noise_log10_A:Uniform(pmin=-20, pmax=-11),\n",
       " J2043+1711_red_noise_gamma:Uniform(pmin=0, pmax=7),\n",
       " J2043+1711_red_noise_log10_A:Uniform(pmin=-20, pmax=-11),\n",
       " J2124-3358_red_noise_gamma:Uniform(pmin=0, pmax=7),\n",
       " J2124-3358_red_noise_log10_A:Uniform(pmin=-20, pmax=-11),\n",
       " J2145-0750_red_noise_gamma:Uniform(pmin=0, pmax=7),\n",
       " J2145-0750_red_noise_log10_A:Uniform(pmin=-20, pmax=-11),\n",
       " J2214+3000_red_noise_gamma:Uniform(pmin=0, pmax=7),\n",
       " J2214+3000_red_noise_log10_A:Uniform(pmin=-20, pmax=-11),\n",
       " J2229+2643_red_noise_gamma:Uniform(pmin=0, pmax=7),\n",
       " J2229+2643_red_noise_log10_A:Uniform(pmin=-20, pmax=-11),\n",
       " J2234+0611_red_noise_gamma:Uniform(pmin=0, pmax=7),\n",
       " J2234+0611_red_noise_log10_A:Uniform(pmin=-20, pmax=-11),\n",
       " J2234+0944_red_noise_gamma:Uniform(pmin=0, pmax=7),\n",
       " J2234+0944_red_noise_log10_A:Uniform(pmin=-20, pmax=-11),\n",
       " J2302+4442_red_noise_gamma:Uniform(pmin=0, pmax=7),\n",
       " J2302+4442_red_noise_log10_A:Uniform(pmin=-20, pmax=-11),\n",
       " J2317+1439_red_noise_gamma:Uniform(pmin=0, pmax=7),\n",
       " J2317+1439_red_noise_log10_A:Uniform(pmin=-20, pmax=-11),\n",
       " J2322+2057_red_noise_gamma:Uniform(pmin=0, pmax=7),\n",
       " J2322+2057_red_noise_log10_A:Uniform(pmin=-20, pmax=-11),\n",
       " gw_log10_rho:Uniform(pmin=-9, pmax=-4)[5]]"
      ]
     },
     "execution_count": 13,
     "metadata": {},
     "output_type": "execute_result"
    }
   ],
   "source": [
    "m  = LC.MultiPulsarModel(psrs = psrs,\n",
    "                        TNr=jnp.array([False]),\n",
    "                        TNT=jnp.array([False]),\n",
    "                        run_type_object = o,\n",
    "                        noise_dict = noise_dict, \n",
    "                        backend = 'backend', \n",
    "                        tnequad = False, \n",
    "                        inc_ecorr = True, \n",
    "                        del_pta_after_init = False,\n",
    "                        matrix_stabilization = False)\n",
    "m.pta.params"
   ]
  },
  {
   "cell_type": "code",
   "execution_count": 14,
   "metadata": {},
   "outputs": [
    {
     "data": {
      "text/plain": [
       "Array(45864.21266335, dtype=float64)"
      ]
     },
     "execution_count": 14,
     "metadata": {},
     "output_type": "execute_result"
    }
   ],
   "source": [
    "m.get_lnliklihood(x0)"
   ]
  },
  {
   "cell_type": "markdown",
   "metadata": {},
   "source": [
    "# Comparisons to `enterprise`"
   ]
  },
  {
   "cell_type": "code",
   "execution_count": 15,
   "metadata": {},
   "outputs": [
    {
     "data": {
      "text/plain": [
       "(139,)"
      ]
     },
     "execution_count": 15,
     "metadata": {},
     "output_type": "execute_result"
    }
   ],
   "source": [
    "x0 = o.make_initial_guess(key = jar.key(100))\n",
    "x0.shape"
   ]
  },
  {
   "cell_type": "markdown",
   "metadata": {},
   "source": [
    "## phi-mat construction comparison"
   ]
  },
  {
   "cell_type": "code",
   "execution_count": 18,
   "metadata": {},
   "outputs": [
    {
     "name": "stdout",
     "output_type": "stream",
     "text": [
      "37.7 µs ± 1.02 µs per loop (mean ± std. dev. of 7 runs, 10,000 loops each)\n"
     ]
    }
   ],
   "source": [
    "%timeit phi = o.get_phi_mat(x0)"
   ]
  },
  {
   "cell_type": "code",
   "execution_count": 19,
   "metadata": {},
   "outputs": [
    {
     "name": "stdout",
     "output_type": "stream",
     "text": [
      "7.88 ms ± 792 µs per loop (mean ± std. dev. of 7 runs, 100 loops each)\n"
     ]
    }
   ],
   "source": [
    "%timeit ent_phi = m.pta.get_phi(m.pta.map_params(x0))"
   ]
  },
  {
   "cell_type": "markdown",
   "metadata": {},
   "source": [
    "## Likelihood comparison"
   ]
  },
  {
   "cell_type": "code",
   "execution_count": 16,
   "metadata": {},
   "outputs": [
    {
     "name": "stdout",
     "output_type": "stream",
     "text": [
      "1 7969178.804954649\n",
      "2 7970463.753592478\n",
      "3 7955323.971957422\n",
      "4 7970182.545376894\n"
     ]
    }
   ],
   "source": [
    "for _ in np.arange(1, 5, 1, dtype = int):\n",
    "    x0 = o.make_initial_guess(key = jar.key(_))\n",
    "    params = m.pta.map_params(x0)\n",
    "    print(_, m.pta.get_lnlikelihood(params))"
   ]
  },
  {
   "cell_type": "markdown",
   "metadata": {},
   "source": [
    "### White noise is fixed, so `rNr` is just a constant and does not need to be involved in likelihood calculations."
   ]
  },
  {
   "cell_type": "code",
   "execution_count": 17,
   "metadata": {},
   "outputs": [],
   "source": [
    "def lnlike_offset():\n",
    "    likelihood_adjust = 0\n",
    "    likelihood_adjust += -0.5 * np.sum([ell for ell in m.pta.get_rNr_logdet(params)])\n",
    "    likelihood_adjust += sum(m.pta.get_logsignalprior(params))\n",
    "    return likelihood_adjust"
   ]
  },
  {
   "cell_type": "code",
   "execution_count": 18,
   "metadata": {},
   "outputs": [
    {
     "name": "stdout",
     "output_type": "stream",
     "text": [
      "7.12 ns ± 0.0214 ns per loop (mean ± std. dev. of 7 runs, 100,000,000 loops each)\n"
     ]
    }
   ],
   "source": [
    "%timeit lnlike_offset"
   ]
  },
  {
   "cell_type": "markdown",
   "metadata": {},
   "source": [
    "### The likelihood values MUST match given same precision!"
   ]
  },
  {
   "cell_type": "code",
   "execution_count": 19,
   "metadata": {},
   "outputs": [
    {
     "data": {
      "text/plain": [
       "Array(44979.52526641, dtype=float64)"
      ]
     },
     "execution_count": 19,
     "metadata": {},
     "output_type": "execute_result"
    }
   ],
   "source": [
    "m.get_lnliklihood(x0)"
   ]
  },
  {
   "cell_type": "code",
   "execution_count": 20,
   "metadata": {},
   "outputs": [
    {
     "data": {
      "text/plain": [
       "44979.525266406126"
      ]
     },
     "execution_count": 20,
     "metadata": {},
     "output_type": "execute_result"
    }
   ],
   "source": [
    "m.pta.get_lnlikelihood(params) - lnlike_offset()"
   ]
  },
  {
   "cell_type": "markdown",
   "metadata": {},
   "source": [
    "### The timing varies given precision, device (CPU or GPU), number of frequency-bins, and number of pulsars! To keep the comparison fair, you should use CPU and double precision. To get the best performance, you should use GPU and single-precision. Issues related to single-precision will go away if you renormalize the `TNT` matrix and stabilize it numerically (both of which can be done using the classes shown above!).\n",
    "### Also, `%timeit` is not a good way to time a GPU accelerated function!"
   ]
  },
  {
   "cell_type": "code",
   "execution_count": 21,
   "metadata": {},
   "outputs": [
    {
     "name": "stdout",
     "output_type": "stream",
     "text": [
      "4.04 ms ± 10.7 µs per loop (mean ± std. dev. of 7 runs, 100 loops each)\n"
     ]
    }
   ],
   "source": [
    "%timeit o.get_phi_mat(x0); m.get_lnliklihood(x0)"
   ]
  },
  {
   "cell_type": "code",
   "execution_count": 22,
   "metadata": {},
   "outputs": [
    {
     "name": "stdout",
     "output_type": "stream",
     "text": [
      "188 ms ± 14.9 ms per loop (mean ± std. dev. of 7 runs, 10 loops each)\n"
     ]
    }
   ],
   "source": [
    "%timeit m.pta.get_lnlikelihood(m.pta.map_params(x0))"
   ]
  },
  {
   "cell_type": "code",
   "execution_count": null,
   "metadata": {},
   "outputs": [],
   "source": []
  }
 ],
 "metadata": {
  "kernelspec": {
   "display_name": "gent",
   "language": "python",
   "name": "python3"
  },
  "language_info": {
   "codemirror_mode": {
    "name": "ipython",
    "version": 3
   },
   "file_extension": ".py",
   "mimetype": "text/x-python",
   "name": "python",
   "nbconvert_exporter": "python",
   "pygments_lexer": "ipython3",
   "version": "3.9.18"
  }
 },
 "nbformat": 4,
 "nbformat_minor": 2
}
