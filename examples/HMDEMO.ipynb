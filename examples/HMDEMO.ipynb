{
 "cells": [
  {
   "cell_type": "markdown",
   "metadata": {},
   "source": [
    "# Load Needed Packages"
   ]
  },
  {
   "cell_type": "markdown",
   "metadata": {},
   "source": [
    "#### Note: if you want to change precision or device of JAX, the best way to do it is to follow (as an example)\n",
    "#### `conda activate <your env name>`\n",
    "#### `conda env config vars set JAX_ENABLE_X64=True`\n",
    "#### `conda env config vars set jax_platform_name=cpu`\n",
    "#### `conda activate <your env name>`\n",
    "#### Make sure to restart VScode or jupyter notebook after this! `jax.config.update()` may or may not work because I define default jax arrays in different places."
   ]
  },
  {
   "cell_type": "code",
   "execution_count": 1,
   "metadata": {},
   "outputs": [
    {
     "name": "stderr",
     "output_type": "stream",
     "text": [
      "WARNING:2025-02-18 15:37:32,281:jax._src.xla_bridge:987: An NVIDIA GPU may be present on this machine, but a CUDA-enabled jaxlib is not installed. Falling back to cpu.\n",
      "/home/koonima/anaconda3/envs/pandora/lib/python3.11/site-packages/pandora/GWBFunctions.py:11: UserWarning: The package `interpax` is needed for spline interpolation of ORF.\n",
      "  warnings.warn(\"The package `interpax` is needed for spline interpolation of ORF.\")\n"
     ]
    },
    {
     "name": "stdout",
     "output_type": "stream",
     "text": [
      "Optional mpi4py package is not installed.  MPI support is not available.\n"
     ]
    }
   ],
   "source": [
    "import jax\n",
    "import jax.numpy as jnp\n",
    "import jax.scipy as jsp\n",
    "import jax.random as jar\n",
    "# jax.config.update('jax_platform_name', 'cuda')\n",
    "# jax.config.update(\"jax_enable_x64\", False)\n",
    "\n",
    "from pandora import models, utils, GWBFunctions\n",
    "from pandora import LikelihoodCalculator as LC\n",
    "from enterprise_extensions.model_utils import get_tspan\n",
    "import pickle, json, os, corner, glob, random, copy, time, inspect\n",
    "import matplotlib.pyplot as plt\n",
    "from matplotlib.ticker import AutoMinorLocator\n",
    "import matplotlib.lines as mlines\n",
    "\n",
    "plt.style.use('dark_background')\n",
    "hist_settings = dict(\n",
    "    bins = 40,\n",
    "    histtype = 'step',\n",
    "    lw = 3,\n",
    "    density = True\n",
    ")\n",
    "\n",
    "%matplotlib inline\n",
    "%config InlineBackend.figure_format = 'retina'\n",
    "%load_ext autoreload\n",
    "%autoreload 2\n",
    "# %load_ext line_profiler"
   ]
  },
  {
   "cell_type": "markdown",
   "metadata": {},
   "source": [
    "# Choose a data set"
   ]
  },
  {
   "cell_type": "code",
   "execution_count": null,
   "metadata": {},
   "outputs": [],
   "source": [
    "datadir = ...\n",
    "with open(datadir + f'v1p1_de440_pint_bipm2019.pkl', 'rb') as fin:\n",
    "    psrs = pickle.load(fin)\n",
    "psrlist = [psr.name for psr in psrs]\n",
    "with open(datadir + f'v1p1_all_dict.json', 'r') as fin:\n",
    "    noise_dict = json.load(fin)\n",
    "inc_ecorr = True\n",
    "backend = 'backend'\n",
    "tnequad = False"
   ]
  },
  {
   "cell_type": "markdown",
   "metadata": {},
   "source": [
    "# Step 1: Model Construction"
   ]
  },
  {
   "cell_type": "markdown",
   "metadata": {},
   "source": [
    "## Frequency-bins"
   ]
  },
  {
   "cell_type": "code",
   "execution_count": 6,
   "metadata": {},
   "outputs": [],
   "source": [
    "Tspan = get_tspan(psrs) # The time-span of the entire PTA\n",
    "crn_bins = 5 # number of frequency-bins for the GWB\n",
    "int_bins = 5 # number of frequency-bins for the non-GWB (IRN) red noise\n",
    "assert int_bins >= crn_bins\n",
    "f_intrin = jnp.arange(1/Tspan, (int_bins + 0.01)/Tspan, 1/Tspan) # an array of frequency-bins for the IRN process\n",
    "f_common = f_intrin[:crn_bins] # an array of frequency-bins for the common process\n",
    "renorm_const = 1 # the factor by which the units are going to change (divided by). Set it to `1` for no unit change (seconds), or let it be `1e9` (nano seconds)"
   ]
  },
  {
   "cell_type": "markdown",
   "metadata": {},
   "source": [
    "## GWB PSD Model 1"
   ]
  },
  {
   "cell_type": "code",
   "execution_count": 7,
   "metadata": {},
   "outputs": [
    {
     "data": {
      "text/plain": [
       "{'ordered_gwb_psd_model_params': array(['log10_A', 'gamma'], dtype='<U7'),\n",
       " 'fixed_gwb_psd_params': ['gamma'],\n",
       " 'varied_gwb_psd_params': ['log10_A'],\n",
       " 'gwb_psd_param_lower_lim': Array([-16.], dtype=float32),\n",
       " 'gwb_psd_param_upper_lim': Array([-13.], dtype=float32),\n",
       " 'fixed_gwb_psd_param_indices': Array([1], dtype=int32),\n",
       " 'fixed_gwb_psd_param_values': Array([4.3333335], dtype=float32)}"
      ]
     },
     "execution_count": 7,
     "metadata": {},
     "output_type": "execute_result"
    }
   ],
   "source": [
    "chosen_psd_model1, chosen_orf_model1, gwb_helper_dictionary1 = utils.fixed_gamma_hd_pl(renorm_const=renorm_const, lower_amp=-16.0, upper_amp=-13.0)\n",
    "gwb_helper_dictionary1"
   ]
  },
  {
   "cell_type": "code",
   "execution_count": 8,
   "metadata": {},
   "outputs": [],
   "source": [
    "o1 = models.UniformPrior(gwb_psd_func = chosen_psd_model1,\n",
    "                orf_func = chosen_orf_model1,\n",
    "                crn_bins = crn_bins,\n",
    "                int_bins = int_bins,\n",
    "                f_common = f_common, \n",
    "                f_intrin = f_intrin,\n",
    "                df = 1/Tspan,\n",
    "                Tspan = Tspan, \n",
    "                Npulsars = len(psrs),\n",
    "                psr_pos = [psr.pos for psr in psrs],\n",
    "                gwb_helper_dictionary = gwb_helper_dictionary1,\n",
    "                gamma_min = 0,\n",
    "                gamma_max = 7,\n",
    "                log10A_min = -20 + 0.5 * jnp.log10(renorm_const), #`0.5 * jnp.log10(renorm_const)` is added to account for change in units,\n",
    "                log10A_max = -11 + 0.5 * jnp.log10(renorm_const), #`0.5 * jnp.log10(renorm_const)` is added to account for change in units,\n",
    "                renorm_const = renorm_const)"
   ]
  },
  {
   "cell_type": "code",
   "execution_count": 9,
   "metadata": {},
   "outputs": [
    {
     "name": "stdout",
     "output_type": "stream",
     "text": [
      "The delta is 1e-06\n",
      "Condition number of the TNT matrix before stabilizing is: 1.3969157e+19\n",
      "Condition number of the TNT matrix after stabilizing is: 3.8208222e+16\n"
     ]
    }
   ],
   "source": [
    "m1  = LC.MultiPulsarModel(psrs = psrs,\n",
    "                        device_to_run_likelihood_on = 'cuda',\n",
    "                        TNr=jnp.array([False]),\n",
    "                        TNT=jnp.array([False]),\n",
    "                        run_type_object = o1,\n",
    "                        noise_dict = noise_dict, \n",
    "                        backend = 'backend', \n",
    "                        tnequad = False, \n",
    "                        inc_ecorr = True, \n",
    "                        del_pta_after_init = True,\n",
    "                        matrix_stabilization = True)"
   ]
  },
  {
   "cell_type": "markdown",
   "metadata": {},
   "source": [
    "## GWB PSD Model 2"
   ]
  },
  {
   "cell_type": "code",
   "execution_count": 10,
   "metadata": {},
   "outputs": [
    {
     "data": {
      "text/plain": [
       "{'ordered_gwb_psd_model_params': array(['log10_A', 'gamma'], dtype='<U7'),\n",
       " 'varied_gwb_psd_params': ['log10_A', 'gamma'],\n",
       " 'gwb_psd_param_lower_lim': Array([-18.,   0.], dtype=float32),\n",
       " 'gwb_psd_param_upper_lim': Array([-11.,   7.], dtype=float32)}"
      ]
     },
     "execution_count": 10,
     "metadata": {},
     "output_type": "execute_result"
    }
   ],
   "source": [
    "chosen_psd_model2, chosen_orf_model2, gwb_helper_dictionary2 = utils.varied_gamma_hd_pl(renorm_const=renorm_const)\n",
    "gwb_helper_dictionary2"
   ]
  },
  {
   "cell_type": "code",
   "execution_count": 11,
   "metadata": {},
   "outputs": [],
   "source": [
    "o2 = models.UniformPrior(gwb_psd_func = chosen_psd_model2,\n",
    "                orf_func = chosen_orf_model2,\n",
    "                crn_bins = crn_bins,\n",
    "                int_bins = int_bins,\n",
    "                f_common = f_common, \n",
    "                f_intrin = f_intrin,\n",
    "                df = 1/Tspan,\n",
    "                Tspan = Tspan, \n",
    "                Npulsars = len(psrs),\n",
    "                psr_pos = [psr.pos for psr in psrs],\n",
    "                gwb_helper_dictionary = gwb_helper_dictionary2,\n",
    "                gamma_min = 0,\n",
    "                gamma_max = 7,\n",
    "                log10A_min = -20 + 0.5 * jnp.log10(renorm_const), #`0.5 * jnp.log10(renorm_const)` is added to account for change in units,\n",
    "                log10A_max = -11 + 0.5 * jnp.log10(renorm_const), #`0.5 * jnp.log10(renorm_const)` is added to account for change in units,\n",
    "                renorm_const = renorm_const)"
   ]
  },
  {
   "cell_type": "code",
   "execution_count": 12,
   "metadata": {},
   "outputs": [
    {
     "name": "stdout",
     "output_type": "stream",
     "text": [
      "The delta is 1e-06\n",
      "Condition number of the TNT matrix before stabilizing is: 1.3969157e+19\n",
      "Condition number of the TNT matrix after stabilizing is: 3.8208222e+16\n"
     ]
    }
   ],
   "source": [
    "m2  = LC.MultiPulsarModel(psrs = psrs,\n",
    "                        device_to_run_likelihood_on = 'cuda',\n",
    "                        TNr=jnp.array([False]),\n",
    "                        TNT=jnp.array([False]),\n",
    "                        run_type_object = o2,\n",
    "                        noise_dict = noise_dict, \n",
    "                        backend = 'backend', \n",
    "                        tnequad = False, \n",
    "                        inc_ecorr = True, \n",
    "                        del_pta_after_init = True,\n",
    "                        matrix_stabilization = True)"
   ]
  },
  {
   "cell_type": "markdown",
   "metadata": {},
   "source": [
    "# Construct the HM"
   ]
  },
  {
   "cell_type": "code",
   "execution_count": 52,
   "metadata": {},
   "outputs": [],
   "source": [
    "hm_object = LC.TwoModelHyperModel(model1=m1, model2=m2)"
   ]
  },
  {
   "cell_type": "code",
   "execution_count": 53,
   "metadata": {},
   "outputs": [
    {
     "data": {
      "text/plain": [
       "(138,)"
      ]
     },
     "execution_count": 53,
     "metadata": {},
     "output_type": "execute_result"
    }
   ],
   "source": [
    "x0 = hm_object.make_initial_guess(jar.key(100))\n",
    "x0.shape"
   ]
  },
  {
   "cell_type": "code",
   "execution_count": 54,
   "metadata": {},
   "outputs": [
    {
     "data": {
      "text/plain": [
       "(Array(46429.242, dtype=float32), Array(-8.01, dtype=float32, weak_type=True))"
      ]
     },
     "execution_count": 54,
     "metadata": {},
     "output_type": "execute_result"
    }
   ],
   "source": [
    "x0 = x0.at[-1].set(.9)\n",
    "hm_object.get_lnliklihood(x0), hm_object.get_lnprior(x0)"
   ]
  },
  {
   "cell_type": "code",
   "execution_count": 47,
   "metadata": {},
   "outputs": [
    {
     "data": {
      "text/plain": [
       "(Array(46690.426, dtype=float32), Array(-8.01, dtype=float32, weak_type=True))"
      ]
     },
     "execution_count": 47,
     "metadata": {},
     "output_type": "execute_result"
    }
   ],
   "source": [
    "x0 = x0.at[-1].set(.1)\n",
    "hm_object.get_lnliklihood(x0), hm_object.get_lnprior(x0)"
   ]
  },
  {
   "cell_type": "code",
   "execution_count": 49,
   "metadata": {},
   "outputs": [
    {
     "name": "stdout",
     "output_type": "stream",
     "text": [
      "2.79 ms ± 38.6 µs per loop (mean ± std. dev. of 7 runs, 100 loops each)\n"
     ]
    }
   ],
   "source": [
    "%timeit hm_object.get_lnliklihood(x0)"
   ]
  },
  {
   "cell_type": "code",
   "execution_count": 18,
   "metadata": {},
   "outputs": [
    {
     "name": "stdout",
     "output_type": "stream",
     "text": [
      "82 µs ± 7.69 µs per loop (mean ± std. dev. of 7 runs, 10,000 loops each)\n"
     ]
    }
   ],
   "source": [
    "%timeit hm_object.get_lnprior(x0)"
   ]
  },
  {
   "cell_type": "markdown",
   "metadata": {},
   "source": [
    "## Sampling"
   ]
  },
  {
   "cell_type": "code",
   "execution_count": null,
   "metadata": {},
   "outputs": [],
   "source": [
    "hm_object.sample(x0 = np.array(x0), niter = int(1e6), savedir = '../testnew/HM/', \n",
    "         resume=False)"
   ]
  }
 ],
 "metadata": {
  "kernelspec": {
   "display_name": "pandora",
   "language": "python",
   "name": "python3"
  },
  "language_info": {
   "codemirror_mode": {
    "name": "ipython",
    "version": 3
   },
   "file_extension": ".py",
   "mimetype": "text/x-python",
   "name": "python",
   "nbconvert_exporter": "python",
   "pygments_lexer": "ipython3",
   "version": "3.11.11"
  }
 },
 "nbformat": 4,
 "nbformat_minor": 2
}
