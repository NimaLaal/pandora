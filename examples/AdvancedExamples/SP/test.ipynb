{
 "cells": [
  {
   "cell_type": "code",
   "execution_count": 4,
   "metadata": {},
   "outputs": [
    {
     "name": "stderr",
     "output_type": "stream",
     "text": [
      "libstempo not installed. Will use PINT instead.\n"
     ]
    }
   ],
   "source": [
    "import numpy as np\n",
    "import BayesPower as BP\n",
    "import pickle, json, os, sys\n",
    "from enterprise_extensions.model_utils import get_tspan\n",
    "\n",
    "# pip install fastshermanmorrison-pulsar\n",
    "\n",
    "fbins = 5\n",
    "pidx = 0\n",
    "\n",
    "datadir = '/home/koonima/FAST/Data/Pickle/'\n",
    "with open(datadir + f'v1p1_de440_pint_bipm2019.pkl', 'rb') as fin:\n",
    "    psrs = pickle.load(fin)[pidx]\n",
    "\n",
    "m = BP.BayesPowerSingle(psr = psrs,\n",
    "            Tspan = get_tspan([psrs]),\n",
    "            select = 'backend',\n",
    "            white_vary = True,\n",
    "            inc_ecorr = True,\n",
    "            tnequad=False,\n",
    "            ecorr_type = 'kernel',\n",
    "            noise_dict = None,\n",
    "            tm_marg = False,\n",
    "            freq_bins = fbins,\n",
    "            log10rhomin=-9.0,\n",
    "            log10rhomax=-4.5,)"
   ]
  },
  {
   "cell_type": "code",
   "execution_count": 5,
   "metadata": {},
   "outputs": [],
   "source": [
    "%load_ext line_profiler"
   ]
  },
  {
   "cell_type": "code",
   "execution_count": 6,
   "metadata": {},
   "outputs": [
    {
     "name": "stderr",
     "output_type": "stream",
     "text": [
      "Sampling B1855+09: 100%|\u001b[32m██████████\u001b[0m| 10/10 [00:12<00:00,  1.21s/it]\n"
     ]
    },
    {
     "name": "stdout",
     "output_type": "stream",
     "text": [
      "Timer unit: 1e-09 s\n",
      "\n",
      "Total time: 12.1427 s\n",
      "File: /home/koonima/pandora/pandora/NG20/SP/BayesPower.py\n",
      "Function: sample at line 429\n",
      "\n",
      "Line #      Hits         Time  Per Hit   % Time  Line Contents\n",
      "==============================================================\n",
      "   429                                               def sample(\n",
      "   430                                                   self,\n",
      "   431                                                   niter=int(1e4),\n",
      "   432                                                   resume = True,\n",
      "   433                                                   wniters=1,\n",
      "   434                                                   eciters=1,\n",
      "   435                                                   savepath=None,\n",
      "   436                                                   SCAMweight=30,\n",
      "   437                                                   AMweight=15,\n",
      "   438                                                   DEweight=50,\n",
      "   439                                                   covUpdate=1000,\n",
      "   440                                                   burn=10000,\n",
      "   441                                                   progress_bar = False,\n",
      "   442                                                   **kwargs\n",
      "   443                                               ):\n",
      "   444                                                   \"\"\"\n",
      "   445                                                   Gibbs Sampling\n",
      "   446                                           \n",
      "   447                                                   Parameters\n",
      "   448                                                   -----------\n",
      "   449                                                   niter: integer\n",
      "   450                                                       total number of Gibbs sampling iterations\n",
      "   451                                           \n",
      "   452                                                   wniters:\n",
      "   453                                                       number of white noise MCMC sampling iterations within each Gibbs step\n",
      "   454                                           \n",
      "   455                                                   eciters:\n",
      "   456                                                       number of basis ecorr MCMC sampling iterations within each Gibbs step\n",
      "   457                                           \n",
      "   458                                                   savepath: str\n",
      "   459                                                       the path to save the chains\n",
      "   460                                           \n",
      "   461                                                   covUpdate: integer\n",
      "   462                                                       Number of iterations between AM covariance updates\n",
      "   463                                           \n",
      "   464                                                   SCAMweight: integer\n",
      "   465                                                       Weight of SCAM jumps in overall jump cycle\n",
      "   466                                           \n",
      "   467                                                   AMweight: integer\n",
      "   468                                                       Weight of AM jumps in overall jump cycle\n",
      "   469                                           \n",
      "   470                                                   DEweight: integer\n",
      "   471                                                       Weight of DE jumps in overall jump cycle\n",
      "   472                                           \n",
      "   473                                                   progress_bar: boolian\n",
      "   474                                                       do you want to see `tqdm` progress bar?\n",
      "   475                                           \n",
      "   476                                                   kwargs: dict\n",
      "   477                                                       PTMCMC initialization settings not mentioned above\n",
      "   478                                                   \"\"\"\n",
      "   479         1       1167.0   1167.0      0.0          self.start_wn_iter = 0\n",
      "   480         1        214.0    214.0      0.0          self.start_ec_iter = 0\n",
      "   481                                           \n",
      "   482         1      69239.0  69239.0      0.0          os.makedirs(savepath, exist_ok=True)\n",
      "   483                                           \n",
      "   484         1        755.0    755.0      0.0          if self.white_vary:\n",
      "   485                                                       # large number to avoid saving the white noise choice in a txt file\n",
      "   486         1        318.0    318.0      0.0              isave = int(4e9)\n",
      "   487         1         79.0     79.0      0.0              thin = 1\n",
      "   488         1        272.0    272.0      0.0              Niter = int(niter * wniters + 1)\n",
      "   489                                           \n",
      "   490         1     282255.0 282255.0      0.0              x0 = self._xs[self.get_efacequad_indices]\n",
      "   491         1        534.0    534.0      0.0              ndim = len(x0)\n",
      "   492         2      31798.0  15899.0      0.0              cov = np.diag(\n",
      "   493         1      30854.0  30854.0      0.0                  np.ones(ndim) * 0.01**2\n",
      "   494                                                       )  # helps to tune MCMC proposal distribution\n",
      "   495         2     480862.0 240431.0      0.0              self.sampler_wn = ptmcmc(\n",
      "   496         1        152.0    152.0      0.0                  ndim,\n",
      "   497         1        530.0    530.0      0.0                  self.get_lnlikelihood_white,\n",
      "   498         1        109.0    109.0      0.0                  self.get_wn_lnprior,\n",
      "   499         1         94.0     94.0      0.0                  cov,\n",
      "   500         1         56.0     56.0      0.0                  outDir=savepath,\n",
      "   501         1         81.0     81.0      0.0                  resume=False,\n",
      "   502                                                       )\n",
      "   503         3     476576.0 158858.7      0.0              self.sampler_wn.initialize(\n",
      "   504         1         99.0     99.0      0.0                  Niter=Niter,\n",
      "   505         1        105.0    105.0      0.0                  isave=isave,\n",
      "   506         1         53.0     53.0      0.0                  thin=thin,\n",
      "   507         1         45.0     45.0      0.0                  SCAMweight=SCAMweight,\n",
      "   508         1         66.0     66.0      0.0                  AMweight=AMweight,\n",
      "   509         1         72.0     72.0      0.0                  DEweight=DEweight,\n",
      "   510         1        139.0    139.0      0.0                  covUpdate=covUpdate,\n",
      "   511         1        105.0    105.0      0.0                  burn=burn,\n",
      "   512         1         44.0     44.0      0.0                  **kwargs\n",
      "   513                                                       )\n",
      "   514                                           \n",
      "   515         1        676.0    676.0      0.0              if \"basis\" in self.ecorr_type and self.white_vary:\n",
      "   516                                                           x0 = self._xs[self.get_basis_ecorr_indices]\n",
      "   517                                                           ndim = len(x0)\n",
      "   518                                                           cov = np.diag(np.ones(ndim) * 0.01**2)\n",
      "   519                                                           self.sampler_ec = ptmcmc(\n",
      "   520                                                               ndim,\n",
      "   521                                                               self.get_basis_ecorr_lnlikelihood,\n",
      "   522                                                               self.get_basis_ecorr_lnprior,\n",
      "   523                                                               cov,\n",
      "   524                                                               outDir=savepath,\n",
      "   525                                                               resume=False,\n",
      "   526                                                           )\n",
      "   527                                                           self.sampler_ec.initialize(\n",
      "   528                                                               Niter=Niter,\n",
      "   529                                                               isave=isave,\n",
      "   530                                                               thin=thin,\n",
      "   531                                                               SCAMweight=SCAMweight,\n",
      "   532                                                               AMweight=AMweight,\n",
      "   533                                                               DEweight=DEweight,\n",
      "   534                                                               covUpdate=covUpdate,\n",
      "   535                                                               burn=burn,\n",
      "   536                                                               **kwargs\n",
      "   537                                                           )\n",
      "   538                                           \n",
      "   539         2     302657.0 151328.5      0.0          np.savetxt(savepath + \"/pars.txt\",\n",
      "   540         1      55767.0  55767.0      0.0                     list(map(str, self.pta.param_names)), fmt=\"%s\")\n",
      "   541         2     160321.0  80160.5      0.0          np.savetxt(\n",
      "   542         1        304.0    304.0      0.0              savepath + \"/priors.txt\",\n",
      "   543         1      50272.0  50272.0      0.0              list(map(lambda x: str(x.__repr__()), self.pta.params)),\n",
      "   544         1         77.0     77.0      0.0              fmt=\"%s\",\n",
      "   545                                                   )\n",
      "   546         2       3738.0   1869.0      0.0          freqs = np.arange(\n",
      "   547         1       1390.0   1390.0      0.0              1 / self.Tspan,\n",
      "   548         1        509.0    509.0      0.0              (self.freq_bins + 0.001) / self.Tspan,\n",
      "   549         1        134.0    134.0      0.0              1 / self.Tspan)\n",
      "   550         1     115317.0 115317.0      0.0          np.save(savepath + \"/freqs.npy\", freqs)\n",
      "   551         1     337601.0 337601.0      0.0          [os.remove(dpa) for dpa in glob.glob(savepath + \"/*jump.txt\")]\n",
      "   552                                           \n",
      "   553         1       4108.0   4108.0      0.0          xnew = self._xs.copy()\n",
      "   554                                           \n",
      "   555         1        840.0    840.0      0.0          len_b = len(self._b)\n",
      "   556         1      30660.0  30660.0      0.0          len_x = len(np.hstack(self._xs))\n",
      "   557         1        603.0    603.0      0.0          self._savepath = savepath\n",
      "   558                                           \n",
      "   559         1        158.0    158.0      0.0          if resume and os.path.isfile(savepath + f'/{self.psr[0].name}.npy'):\n",
      "   560                                                           \n",
      "   561                                                       fp = np.lib.format.open_memmap(\n",
      "   562                                                           savepath + f'/{self.psr[0].name}.npy',\n",
      "   563                                                           mode=\"r+\",\n",
      "   564                                                           dtype=\"float64\",\n",
      "   565                                                           shape=(niter, len_x + len_b),\n",
      "   566                                                           fortran_order=False,\n",
      "   567                                                       )\n",
      "   568                                                       start_idx = np.nonzero(fp[:, 0])[0].max()\n",
      "   569                                                       if niter <= start_idx:\n",
      "   570                                                           print('The run is already done. Exitting...')\n",
      "   571                                                           return None\n",
      "   572                                                   else:\n",
      "   573         2     293383.0 146691.5      0.0              fp = np.lib.format.open_memmap(\n",
      "   574         1       2441.0   2441.0      0.0                  savepath + f'/{self.psr[0].name}.npy',\n",
      "   575         1         80.0     80.0      0.0                  mode=\"w+\",\n",
      "   576         1        135.0    135.0      0.0                  dtype=\"float64\",\n",
      "   577         1        204.0    204.0      0.0                  shape=(niter, len_x + len_b),\n",
      "   578         1         44.0     44.0      0.0                  fortran_order=False,\n",
      "   579                                                       )\n",
      "   580         1        151.0    151.0      0.0              start_idx = 0\n",
      "   581                                           \n",
      "   582         1         88.0     88.0      0.0          if progress_bar:\n",
      "   583         1    1269361.0    1e+06      0.0              pbar = tqdm(range(niter), colour=\"GREEN\")\n",
      "   584         1     265001.0 265001.0      0.0              pbar.set_description(\"Sampling %s\" % self.name)\n",
      "   585                                                   else:\n",
      "   586                                                       st = time.time()\n",
      "   587                                                       pbar_freq = int(2/100 * niter)\n",
      "   588                                                       pbar = range(start_idx, niter)\n",
      "   589                                           \n",
      "   590        11   84907165.0    8e+06      0.7          for ii in pbar:\n",
      "   591        10       6080.0    608.0      0.0              if not progress_bar:\n",
      "   592                                                           if not ii%pbar_freq and ii:\n",
      "   593                                                               print(f'Sampling {self.name} -- {round(ii/niter * 100, 2)} Percent Done in {round((time.time() - st)/60, 2)} Minutes.', end='\\r')\n",
      "   594                                           \n",
      "   595        10       5807.0    580.7      0.0              if self.white_vary:\n",
      "   596        10        1e+10    1e+09     95.5                  xnew = self.update_white_params(xnew, iters=wniters)\n",
      "   597                                           \n",
      "   598        10      29825.0   2982.5      0.0              if self.inc_ecorr and \"basis\" in self.ecorr_type:\n",
      "   599                                                           xnew = self.update_basis_ecorr_params(xnew, iters=eciters)\n",
      "   600                                           \n",
      "   601        10  458666386.0    5e+07      3.8              self.update_b(xs=xnew)\n",
      "   602        10    1652471.0 165247.1      0.0              xnew = self.update_red_params(xs=xnew)\n",
      "   603                                           \n",
      "   604        10     280150.0  28015.0      0.0              fp[ii, -len_b:] = self._b\n",
      "   605        10     446746.0  44674.6      0.0              fp[ii, 0:len_x] = np.hstack(xnew)"
     ]
    }
   ],
   "source": [
    "%lprun -f m.sample m.sample(niter=int(10), resume=False, progress_bar=True, savepath = f'./Chain/{fbins}_FS_SP')"
   ]
  },
  {
   "cell_type": "code",
   "execution_count": 9,
   "metadata": {},
   "outputs": [
    {
     "data": {
      "text/plain": [
       "<Enterprise PTA object: B1855+09>"
      ]
     },
     "execution_count": 9,
     "metadata": {},
     "output_type": "execute_result"
    }
   ],
   "source": [
    "m.pta"
   ]
  },
  {
   "cell_type": "code",
   "execution_count": 10,
   "metadata": {},
   "outputs": [
    {
     "data": {
      "text/plain": [
       "array([ 9.75821371, -7.95187792, -5.72868744,  1.30130464, -5.77839395,\n",
       "       -7.50986573,  2.52075166, -5.06393997, -5.52046304,  5.28766335,\n",
       "       -8.21763109, -6.69494205, -7.43851783, -8.56279413, -7.76131767,\n",
       "       -6.93792844, -8.02752623])"
      ]
     },
     "execution_count": 10,
     "metadata": {},
     "output_type": "execute_result"
    }
   ],
   "source": [
    "x0 = np.hstack([p.sample() for p in m.pta.params])\n",
    "x0"
   ]
  },
  {
   "cell_type": "code",
   "execution_count": 11,
   "metadata": {},
   "outputs": [],
   "source": [
    "ndim = len(x0)\n",
    "cov = np.diag(np.ones(ndim) * 0.01**2)\n",
    "groups = [list(np.arange(0, ndim))]"
   ]
  },
  {
   "cell_type": "code",
   "execution_count": 13,
   "metadata": {},
   "outputs": [],
   "source": [
    "from PTMCMCSampler.PTMCMCSampler import PTSampler as ptmcmc\n",
    "from enterprise.signals import signal_base, gp_signals\n",
    "from scipy.linalg import cho_factor, cho_solve\n",
    "from enterprise_extensions import sampler as samp"
   ]
  },
  {
   "cell_type": "code",
   "execution_count": 20,
   "metadata": {},
   "outputs": [],
   "source": [
    "sampler = ptmcmc(\n",
    "    ndim,\n",
    "    m.pta.get_lnlikelihood,\n",
    "    m.pta.get_lnprior,\n",
    "    cov,\n",
    "    groups=groups,\n",
    "    outDir='./TestChain',\n",
    "    resume=False,\n",
    ")"
   ]
  },
  {
   "cell_type": "code",
   "execution_count": 17,
   "metadata": {},
   "outputs": [],
   "source": [
    "def draw_from_prior(x, iter, beta):\n",
    "    \"\"\"Prior draw.\n",
    "\n",
    "    The function signature is specific to PTMCMCSampler.\n",
    "    \"\"\"\n",
    "\n",
    "    q = x.copy()\n",
    "    lqxy = 0\n",
    "\n",
    "    # randomly choose parameter\n",
    "    param_idx = random.randint(0, x.shape[0] - 1)\n",
    "    q[param_idx] = np.random.uniform(-8., -2, size = crn_bins)[param_idx]\n",
    "    return q, float(lqxy)"
   ]
  },
  {
   "cell_type": "code",
   "execution_count": 21,
   "metadata": {},
   "outputs": [],
   "source": [
    "# sampler.addProposalToCycle(draw_from_prior, 10)"
   ]
  },
  {
   "cell_type": "code",
   "execution_count": 22,
   "metadata": {},
   "outputs": [
    {
     "name": "stdout",
     "output_type": "stream",
     "text": [
      "Finished 0.00 percent in 0.000235 s Acceptance rate = 0"
     ]
    },
    {
     "name": "stderr",
     "output_type": "stream",
     "text": [
      "/home/koonima/anaconda3/envs/pandora/lib/python3.11/site-packages/enterprise/signals/parameter.py:70: RuntimeWarning: divide by zero encountered in log\n",
      "  logpdf = np.log(self.prior(value, **kwargs))\n"
     ]
    },
    {
     "name": "stdout",
     "output_type": "stream",
     "text": [
      "Finished 0.20 percent in 102.553350 s Acceptance rate = 0.731"
     ]
    },
    {
     "ename": "KeyboardInterrupt",
     "evalue": "",
     "output_type": "error",
     "traceback": [
      "\u001b[0;31m---------------------------------------------------------------------------\u001b[0m",
      "\u001b[0;31mKeyboardInterrupt\u001b[0m                         Traceback (most recent call last)",
      "Cell \u001b[0;32mIn[22], line 1\u001b[0m\n\u001b[0;32m----> 1\u001b[0m \u001b[43msampler\u001b[49m\u001b[38;5;241;43m.\u001b[39;49m\u001b[43msample\u001b[49m\u001b[43m(\u001b[49m\n\u001b[1;32m      2\u001b[0m \u001b[43m    \u001b[49m\u001b[43mx0\u001b[49m\u001b[43m,\u001b[49m\n\u001b[1;32m      3\u001b[0m \u001b[43m    \u001b[49m\u001b[38;5;28;43mint\u001b[39;49m\u001b[43m(\u001b[49m\u001b[38;5;241;43m5e5\u001b[39;49m\u001b[43m)\u001b[49m\u001b[43m,\u001b[49m\n\u001b[1;32m      4\u001b[0m \u001b[43m    \u001b[49m\u001b[43mSCAMweight\u001b[49m\u001b[38;5;241;43m=\u001b[39;49m\u001b[38;5;241;43m30\u001b[39;49m\u001b[43m,\u001b[49m\n\u001b[1;32m      5\u001b[0m \u001b[43m    \u001b[49m\u001b[43mAMweight\u001b[49m\u001b[38;5;241;43m=\u001b[39;49m\u001b[38;5;241;43m15\u001b[39;49m\u001b[43m,\u001b[49m\n\u001b[1;32m      6\u001b[0m \u001b[43m    \u001b[49m\u001b[43mDEweight\u001b[49m\u001b[38;5;241;43m=\u001b[39;49m\u001b[38;5;241;43m50\u001b[39;49m\u001b[43m,\u001b[49m\n\u001b[1;32m      7\u001b[0m \u001b[43m)\u001b[49m\n",
      "File \u001b[0;32m~/anaconda3/envs/pandora/lib/python3.11/site-packages/PTMCMCSampler/PTMCMCSampler.py:503\u001b[0m, in \u001b[0;36mPTSampler.sample\u001b[0;34m(self, p0, Niter, ladder, Tmin, Tmax, Tskip, isave, covUpdate, SCAMweight, AMweight, DEweight, NUTSweight, MALAweight, HMCweight, burn, HMCstepsize, HMCsteps, maxIter, thin, i0, neff, writeHotChains, hotChain)\u001b[0m\n\u001b[1;32m    501\u001b[0m \u001b[38;5;28mself\u001b[39m\u001b[38;5;241m.\u001b[39mcomm\u001b[38;5;241m.\u001b[39mbarrier()  \u001b[38;5;66;03m# make sure all processes are at the same iteration\u001b[39;00m\n\u001b[1;32m    502\u001b[0m \u001b[38;5;66;03m# call PTMCMCOneStep\u001b[39;00m\n\u001b[0;32m--> 503\u001b[0m p0, lnlike0, lnprob0 \u001b[38;5;241m=\u001b[39m \u001b[38;5;28;43mself\u001b[39;49m\u001b[38;5;241;43m.\u001b[39;49m\u001b[43mPTMCMCOneStep\u001b[49m\u001b[43m(\u001b[49m\u001b[43mp0\u001b[49m\u001b[43m,\u001b[49m\u001b[43m \u001b[49m\u001b[43mlnlike0\u001b[49m\u001b[43m,\u001b[49m\u001b[43m \u001b[49m\u001b[43mlnprob0\u001b[49m\u001b[43m,\u001b[49m\u001b[43m \u001b[49m\u001b[38;5;28;43miter\u001b[39;49m\u001b[43m)\u001b[49m\n\u001b[1;32m    505\u001b[0m \u001b[38;5;66;03m# rank 0 decides whether to stop\u001b[39;00m\n\u001b[1;32m    506\u001b[0m \u001b[38;5;28;01mif\u001b[39;00m \u001b[38;5;28mself\u001b[39m\u001b[38;5;241m.\u001b[39mMPIrank \u001b[38;5;241m==\u001b[39m \u001b[38;5;241m0\u001b[39m:\n",
      "File \u001b[0;32m~/anaconda3/envs/pandora/lib/python3.11/site-packages/PTMCMCSampler/PTMCMCSampler.py:611\u001b[0m, in \u001b[0;36mPTSampler.PTMCMCOneStep\u001b[0;34m(self, p0, lnlike0, lnprob0, iter)\u001b[0m\n\u001b[1;32m    608\u001b[0m     newlnprob \u001b[38;5;241m=\u001b[39m \u001b[38;5;241m-\u001b[39mnp\u001b[38;5;241m.\u001b[39minf\n\u001b[1;32m    610\u001b[0m \u001b[38;5;28;01melse\u001b[39;00m:\n\u001b[0;32m--> 611\u001b[0m     newlnlike \u001b[38;5;241m=\u001b[39m \u001b[38;5;28;43mself\u001b[39;49m\u001b[38;5;241;43m.\u001b[39;49m\u001b[43mlogl\u001b[49m\u001b[43m(\u001b[49m\u001b[43my\u001b[49m\u001b[43m)\u001b[49m\n\u001b[1;32m    612\u001b[0m     newlnprob \u001b[38;5;241m=\u001b[39m \u001b[38;5;241m1\u001b[39m \u001b[38;5;241m/\u001b[39m \u001b[38;5;28mself\u001b[39m\u001b[38;5;241m.\u001b[39mtemp \u001b[38;5;241m*\u001b[39m newlnlike \u001b[38;5;241m+\u001b[39m lp\n\u001b[1;32m    614\u001b[0m \u001b[38;5;66;03m# hastings step\u001b[39;00m\n",
      "File \u001b[0;32m~/anaconda3/envs/pandora/lib/python3.11/site-packages/PTMCMCSampler/PTMCMCSampler.py:1084\u001b[0m, in \u001b[0;36m_function_wrapper.__call__\u001b[0;34m(self, x)\u001b[0m\n\u001b[1;32m   1083\u001b[0m \u001b[38;5;28;01mdef\u001b[39;00m\u001b[38;5;250m \u001b[39m\u001b[38;5;21m__call__\u001b[39m(\u001b[38;5;28mself\u001b[39m, x):\n\u001b[0;32m-> 1084\u001b[0m     \u001b[38;5;28;01mreturn\u001b[39;00m \u001b[38;5;28;43mself\u001b[39;49m\u001b[38;5;241;43m.\u001b[39;49m\u001b[43mf\u001b[49m\u001b[43m(\u001b[49m\u001b[43mx\u001b[49m\u001b[43m,\u001b[49m\u001b[43m \u001b[49m\u001b[38;5;241;43m*\u001b[39;49m\u001b[38;5;28;43mself\u001b[39;49m\u001b[38;5;241;43m.\u001b[39;49m\u001b[43margs\u001b[49m\u001b[43m,\u001b[49m\u001b[43m \u001b[49m\u001b[38;5;241;43m*\u001b[39;49m\u001b[38;5;241;43m*\u001b[39;49m\u001b[38;5;28;43mself\u001b[39;49m\u001b[38;5;241;43m.\u001b[39;49m\u001b[43mkwargs\u001b[49m\u001b[43m)\u001b[49m\n",
      "File \u001b[0;32m~/anaconda3/envs/pandora/lib/python3.11/site-packages/enterprise/signals/signal_base.py:381\u001b[0m, in \u001b[0;36mPTA.get_lnlikelihood\u001b[0;34m(self, params, **kwargs)\u001b[0m\n\u001b[1;32m    380\u001b[0m \u001b[38;5;28;01mdef\u001b[39;00m\u001b[38;5;250m \u001b[39m\u001b[38;5;21mget_lnlikelihood\u001b[39m(\u001b[38;5;28mself\u001b[39m, params, \u001b[38;5;241m*\u001b[39m\u001b[38;5;241m*\u001b[39mkwargs):\n\u001b[0;32m--> 381\u001b[0m     \u001b[38;5;28;01mreturn\u001b[39;00m \u001b[38;5;28;43mself\u001b[39;49m\u001b[38;5;241;43m.\u001b[39;49m\u001b[43m_lnlikelihood\u001b[49m\u001b[43m(\u001b[49m\u001b[43mparams\u001b[49m\u001b[43m,\u001b[49m\u001b[43m \u001b[49m\u001b[38;5;241;43m*\u001b[39;49m\u001b[38;5;241;43m*\u001b[39;49m\u001b[43mkwargs\u001b[49m\u001b[43m)\u001b[49m\n",
      "File \u001b[0;32m~/anaconda3/envs/pandora/lib/python3.11/site-packages/enterprise/signals/signal_base.py:205\u001b[0m, in \u001b[0;36mLogLikelihood.__call__\u001b[0;34m(self, xs, phiinv_method)\u001b[0m\n\u001b[1;32m    202\u001b[0m \u001b[38;5;66;03m# phiinvs will be a list or may be a big matrix if spatially\u001b[39;00m\n\u001b[1;32m    203\u001b[0m \u001b[38;5;66;03m# correlated signals\u001b[39;00m\n\u001b[1;32m    204\u001b[0m TNrs \u001b[38;5;241m=\u001b[39m \u001b[38;5;28mself\u001b[39m\u001b[38;5;241m.\u001b[39mpta\u001b[38;5;241m.\u001b[39mget_TNr(params)\n\u001b[0;32m--> 205\u001b[0m TNTs \u001b[38;5;241m=\u001b[39m \u001b[38;5;28;43mself\u001b[39;49m\u001b[38;5;241;43m.\u001b[39;49m\u001b[43mpta\u001b[49m\u001b[38;5;241;43m.\u001b[39;49m\u001b[43mget_TNT\u001b[49m\u001b[43m(\u001b[49m\u001b[43mparams\u001b[49m\u001b[43m)\u001b[49m\n\u001b[1;32m    206\u001b[0m phiinvs \u001b[38;5;241m=\u001b[39m \u001b[38;5;28mself\u001b[39m\u001b[38;5;241m.\u001b[39mpta\u001b[38;5;241m.\u001b[39mget_phiinv(params, logdet\u001b[38;5;241m=\u001b[39m\u001b[38;5;28;01mTrue\u001b[39;00m, method\u001b[38;5;241m=\u001b[39mphiinv_method)\n\u001b[1;32m    208\u001b[0m \u001b[38;5;66;03m# get -0.5 * (rNr + logdet_N) piece of likelihood\u001b[39;00m\n\u001b[1;32m    209\u001b[0m \u001b[38;5;66;03m# the np.sum here is needed because each pulsar returns a 2-tuple\u001b[39;00m\n",
      "File \u001b[0;32m~/anaconda3/envs/pandora/lib/python3.11/site-packages/enterprise/signals/signal_base.py:348\u001b[0m, in \u001b[0;36mPTA.get_TNT\u001b[0;34m(self, params)\u001b[0m\n\u001b[1;32m    347\u001b[0m \u001b[38;5;28;01mdef\u001b[39;00m\u001b[38;5;250m \u001b[39m\u001b[38;5;21mget_TNT\u001b[39m(\u001b[38;5;28mself\u001b[39m, params):\n\u001b[0;32m--> 348\u001b[0m     \u001b[38;5;28;01mreturn\u001b[39;00m \u001b[43m[\u001b[49m\u001b[43msignalcollection\u001b[49m\u001b[38;5;241;43m.\u001b[39;49m\u001b[43mget_TNT\u001b[49m\u001b[43m(\u001b[49m\u001b[43mparams\u001b[49m\u001b[43m)\u001b[49m\u001b[43m \u001b[49m\u001b[38;5;28;43;01mfor\u001b[39;49;00m\u001b[43m \u001b[49m\u001b[43msignalcollection\u001b[49m\u001b[43m \u001b[49m\u001b[38;5;129;43;01min\u001b[39;49;00m\u001b[43m \u001b[49m\u001b[38;5;28;43mself\u001b[39;49m\u001b[38;5;241;43m.\u001b[39;49m\u001b[43m_signalcollections\u001b[49m\u001b[43m]\u001b[49m\n",
      "File \u001b[0;32m~/anaconda3/envs/pandora/lib/python3.11/site-packages/enterprise/signals/signal_base.py:348\u001b[0m, in \u001b[0;36m<listcomp>\u001b[0;34m(.0)\u001b[0m\n\u001b[1;32m    347\u001b[0m \u001b[38;5;28;01mdef\u001b[39;00m\u001b[38;5;250m \u001b[39m\u001b[38;5;21mget_TNT\u001b[39m(\u001b[38;5;28mself\u001b[39m, params):\n\u001b[0;32m--> 348\u001b[0m     \u001b[38;5;28;01mreturn\u001b[39;00m [\u001b[43msignalcollection\u001b[49m\u001b[38;5;241;43m.\u001b[39;49m\u001b[43mget_TNT\u001b[49m\u001b[43m(\u001b[49m\u001b[43mparams\u001b[49m\u001b[43m)\u001b[49m \u001b[38;5;28;01mfor\u001b[39;00m signalcollection \u001b[38;5;129;01min\u001b[39;00m \u001b[38;5;28mself\u001b[39m\u001b[38;5;241m.\u001b[39m_signalcollections]\n",
      "File \u001b[0;32m~/anaconda3/envs/pandora/lib/python3.11/site-packages/enterprise/signals/signal_base.py:1052\u001b[0m, in \u001b[0;36mcache_call.<locals>.cache_decorator.<locals>.wrapper\u001b[0;34m(self, params)\u001b[0m\n\u001b[1;32m   1049\u001b[0m logger\u001b[38;5;241m.\u001b[39mdebug(msg)\n\u001b[1;32m   1051\u001b[0m cache_list\u001b[38;5;241m.\u001b[39mappend(key)\n\u001b[0;32m-> 1052\u001b[0m cache[key] \u001b[38;5;241m=\u001b[39m \u001b[43mfunc\u001b[49m\u001b[43m(\u001b[49m\u001b[38;5;28;43mself\u001b[39;49m\u001b[43m,\u001b[49m\u001b[43m \u001b[49m\u001b[43mparams\u001b[49m\u001b[43m)\u001b[49m\n\u001b[1;32m   1054\u001b[0m \u001b[38;5;28;01mif\u001b[39;00m \u001b[38;5;28mlen\u001b[39m(cache_list) \u001b[38;5;241m>\u001b[39m limit:\n\u001b[1;32m   1055\u001b[0m     _ \u001b[38;5;241m=\u001b[39m cache\u001b[38;5;241m.\u001b[39mpop(cache_list\u001b[38;5;241m.\u001b[39mpop(\u001b[38;5;241m0\u001b[39m), \u001b[38;5;28;01mNone\u001b[39;00m)  \u001b[38;5;66;03m# noqa: F841\u001b[39;00m\n",
      "File \u001b[0;32m~/anaconda3/envs/pandora/lib/python3.11/site-packages/enterprise/signals/signal_base.py:987\u001b[0m, in \u001b[0;36mSignalCollection.<locals>.SignalCollection.get_TNT\u001b[0;34m(self, params)\u001b[0m\n\u001b[1;32m    985\u001b[0m     \u001b[38;5;28;01mreturn\u001b[39;00m \u001b[38;5;28;01mNone\u001b[39;00m\n\u001b[1;32m    986\u001b[0m Nvec \u001b[38;5;241m=\u001b[39m \u001b[38;5;28mself\u001b[39m\u001b[38;5;241m.\u001b[39mget_ndiag(params)\n\u001b[0;32m--> 987\u001b[0m \u001b[38;5;28;01mreturn\u001b[39;00m \u001b[43mNvec\u001b[49m\u001b[38;5;241;43m.\u001b[39;49m\u001b[43msolve\u001b[49m\u001b[43m(\u001b[49m\u001b[43mT\u001b[49m\u001b[43m,\u001b[49m\u001b[43m \u001b[49m\u001b[43mleft_array\u001b[49m\u001b[38;5;241;43m=\u001b[39;49m\u001b[43mT\u001b[49m\u001b[43m)\u001b[49m\n",
      "File \u001b[0;32m~/anaconda3/envs/pandora/lib/python3.11/site-packages/fastshermanmorrison/fastshermanmorrison.py:245\u001b[0m, in \u001b[0;36mFastShermanMorrison.solve\u001b[0;34m(self, other, left_array, logdet)\u001b[0m\n\u001b[1;32m    241\u001b[0m     \u001b[38;5;28;01mraise\u001b[39;00m \u001b[38;5;167;01mNotImplementedError\u001b[39;00m(\n\u001b[1;32m    242\u001b[0m         \u001b[38;5;124m\"\u001b[39m\u001b[38;5;124mFastShermanMorrison does not implement _solve_D2\u001b[39m\u001b[38;5;124m\"\u001b[39m\n\u001b[1;32m    243\u001b[0m     )\n\u001b[1;32m    244\u001b[0m \u001b[38;5;28;01melif\u001b[39;00m left_array \u001b[38;5;129;01mis\u001b[39;00m \u001b[38;5;129;01mnot\u001b[39;00m \u001b[38;5;28;01mNone\u001b[39;00m \u001b[38;5;129;01mand\u001b[39;00m left_array\u001b[38;5;241m.\u001b[39mndim \u001b[38;5;241m==\u001b[39m \u001b[38;5;241m2\u001b[39m:\n\u001b[0;32m--> 245\u001b[0m     ret \u001b[38;5;241m=\u001b[39m \u001b[38;5;28;43mself\u001b[39;49m\u001b[38;5;241;43m.\u001b[39;49m\u001b[43m_solve_2D2\u001b[49m\u001b[43m(\u001b[49m\u001b[43mother\u001b[49m\u001b[43m,\u001b[49m\u001b[43m \u001b[49m\u001b[43mleft_array\u001b[49m\u001b[43m)\u001b[49m\n\u001b[1;32m    246\u001b[0m \u001b[38;5;28;01melif\u001b[39;00m left_array \u001b[38;5;129;01mis\u001b[39;00m \u001b[38;5;129;01mnot\u001b[39;00m \u001b[38;5;28;01mNone\u001b[39;00m \u001b[38;5;129;01mand\u001b[39;00m left_array\u001b[38;5;241m.\u001b[39mndim \u001b[38;5;241m==\u001b[39m \u001b[38;5;241m1\u001b[39m:\n\u001b[1;32m    247\u001b[0m     ret \u001b[38;5;241m=\u001b[39m np\u001b[38;5;241m.\u001b[39mdot(other\u001b[38;5;241m.\u001b[39mT, \u001b[38;5;28mself\u001b[39m\u001b[38;5;241m.\u001b[39m_solve_D1(left_array))\n",
      "File \u001b[0;32m~/anaconda3/envs/pandora/lib/python3.11/site-packages/fastshermanmorrison/fastshermanmorrison.py:204\u001b[0m, in \u001b[0;36mFastShermanMorrison._solve_2D2\u001b[0;34m(self, X, Z)\u001b[0m\n\u001b[1;32m    201\u001b[0m     \u001b[38;5;28;01mif\u001b[39;00m \u001b[38;5;28mlen\u001b[39m(\u001b[38;5;28mself\u001b[39m\u001b[38;5;241m.\u001b[39m_slc_isort) \u001b[38;5;241m<\u001b[39m Z\u001b[38;5;241m.\u001b[39mshape[\u001b[38;5;241m0\u001b[39m]:\n\u001b[1;32m    202\u001b[0m         \u001b[38;5;28mself\u001b[39m\u001b[38;5;241m.\u001b[39m_slc_isort \u001b[38;5;241m=\u001b[39m extend_isort(\u001b[38;5;28mself\u001b[39m\u001b[38;5;241m.\u001b[39m_slc_isort, Z\u001b[38;5;241m.\u001b[39mshape[\u001b[38;5;241m0\u001b[39m])\n\u001b[0;32m--> 204\u001b[0m     _, ZNX \u001b[38;5;241m=\u001b[39m \u001b[43mcfsm\u001b[49m\u001b[38;5;241;43m.\u001b[39;49m\u001b[43mcython_blas_idx_block_shermor_2D_asymm\u001b[49m\u001b[43m(\u001b[49m\n\u001b[1;32m    205\u001b[0m \u001b[43m        \u001b[49m\u001b[43mZ\u001b[49m\u001b[43m,\u001b[49m\u001b[43m \u001b[49m\u001b[43mX\u001b[49m\u001b[43m,\u001b[49m\u001b[43m \u001b[49m\u001b[38;5;28;43mself\u001b[39;49m\u001b[38;5;241;43m.\u001b[39;49m\u001b[43m_nvec\u001b[49m\u001b[43m,\u001b[49m\u001b[43m \u001b[49m\u001b[38;5;28;43mself\u001b[39;49m\u001b[38;5;241;43m.\u001b[39;49m\u001b[43m_jvec\u001b[49m\u001b[43m,\u001b[49m\u001b[43m \u001b[49m\u001b[38;5;28;43mself\u001b[39;49m\u001b[38;5;241;43m.\u001b[39;49m\u001b[43m_uinds\u001b[49m\u001b[43m,\u001b[49m\u001b[43m \u001b[49m\u001b[38;5;28;43mself\u001b[39;49m\u001b[38;5;241;43m.\u001b[39;49m\u001b[43m_slc_isort\u001b[49m\n\u001b[1;32m    206\u001b[0m \u001b[43m    \u001b[49m\u001b[43m)\u001b[49m\n\u001b[1;32m    207\u001b[0m \u001b[38;5;28;01mreturn\u001b[39;00m ZNX\n",
      "\u001b[0;31mKeyboardInterrupt\u001b[0m: "
     ]
    }
   ],
   "source": [
    "sampler.sample(\n",
    "    x0,\n",
    "    int(5e5),\n",
    "    SCAMweight=30,\n",
    "    AMweight=15,\n",
    "    DEweight=50,\n",
    ")"
   ]
  },
  {
   "cell_type": "code",
   "execution_count": null,
   "metadata": {},
   "outputs": [],
   "source": []
  }
 ],
 "metadata": {
  "kernelspec": {
   "display_name": "pandora",
   "language": "python",
   "name": "python3"
  },
  "language_info": {
   "codemirror_mode": {
    "name": "ipython",
    "version": 3
   },
   "file_extension": ".py",
   "mimetype": "text/x-python",
   "name": "python",
   "nbconvert_exporter": "python",
   "pygments_lexer": "ipython3",
   "version": "3.11.11"
  }
 },
 "nbformat": 4,
 "nbformat_minor": 2
}
