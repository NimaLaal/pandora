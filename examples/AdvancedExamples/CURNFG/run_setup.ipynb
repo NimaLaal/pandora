{
 "cells": [
  {
   "cell_type": "markdown",
   "metadata": {},
   "source": [
    "# Load Needed Packages"
   ]
  },
  {
   "cell_type": "code",
   "execution_count": 1,
   "metadata": {},
   "outputs": [
    {
     "name": "stderr",
     "output_type": "stream",
     "text": [
      "/home/koonima/anaconda3/envs/pandora/lib/python3.11/site-packages/pandora/GWBFunctions.py:11: UserWarning: The package `interpax` is needed for spline interpolation of ORF.\n",
      "  warnings.warn(\"The package `interpax` is needed for spline interpolation of ORF.\")\n"
     ]
    },
    {
     "name": "stdout",
     "output_type": "stream",
     "text": [
      "Optional mpi4py package is not installed.  MPI support is not available.\n"
     ]
    },
    {
     "name": "stderr",
     "output_type": "stream",
     "text": [
      "/home/koonima/anaconda3/envs/pandora/lib/python3.11/site-packages/tqdm/auto.py:21: TqdmWarning: IProgress not found. Please update jupyter and ipywidgets. See https://ipywidgets.readthedocs.io/en/stable/user_install.html\n",
      "  from .autonotebook import tqdm as notebook_tqdm\n"
     ]
    }
   ],
   "source": [
    "import jax\n",
    "import jax.numpy as jnp\n",
    "import jax.scipy as jsp\n",
    "import jax.random as jar\n",
    "# jax.config.update('jax_platform_name', 'cuda')\n",
    "import numpy as np\n",
    "jax.config.update(\"jax_enable_x64\", True)\n",
    "\n",
    "from pandora import models, utils, GWBFunctions\n",
    "from pandora import LikelihoodCalculator as LC\n",
    "\n",
    "from enterprise_extensions import blocks\n",
    "from enterprise.signals import signal_base, gp_signals\n",
    "from enterprise.signals import gp_priors as gpp\n",
    "from enterprise.signals import parameter\n",
    "from enterprise_extensions.model_utils import get_tspan\n",
    "\n",
    "import numpyro\n",
    "from numpyro import distributions as dist\n",
    "from numpyro import infer\n",
    "\n",
    "import pickle, json, os, corner, glob, random, copy, time, inspect\n",
    "\n",
    "import matplotlib.pyplot as plt\n",
    "from matplotlib.ticker import AutoMinorLocator\n",
    "import matplotlib.lines as mlines\n",
    "plt.style.use('dark_background')\n",
    "hist_settings = dict(\n",
    "    bins = 40,\n",
    "    histtype = 'step',\n",
    "    lw = 3,\n",
    "    density = True\n",
    ")\n",
    "%matplotlib inline\n",
    "%config InlineBackend.figure_format = 'retina'\n",
    "%load_ext autoreload\n",
    "%autoreload 2\n",
    "# %load_ext line_profiler"
   ]
  },
  {
   "cell_type": "markdown",
   "metadata": {},
   "source": [
    "# Choose a data set"
   ]
  },
  {
   "cell_type": "code",
   "execution_count": 2,
   "metadata": {},
   "outputs": [
    {
     "name": "stderr",
     "output_type": "stream",
     "text": [
      "libstempo not installed. PINT or libstempo are required to use par and tim files.\n"
     ]
    }
   ],
   "source": [
    "datadir = '/home/koonima/FAST/Data/Pickle/'\n",
    "with open(datadir + f'v1p1_de440_pint_bipm2019.pkl', 'rb') as fin:\n",
    "    psrs = pickle.load(fin)\n",
    "psrlist = [psr.name for psr in psrs]\n",
    "with open(datadir + f'v1p1_all_dict.json', 'r') as fin:\n",
    "    noise_dict = json.load(fin)\n",
    "inc_ecorr = True\n",
    "backend = 'backend'\n",
    "tnequad = False"
   ]
  },
  {
   "cell_type": "markdown",
   "metadata": {},
   "source": [
    "## Frequency-bins"
   ]
  },
  {
   "cell_type": "code",
   "execution_count": 3,
   "metadata": {},
   "outputs": [],
   "source": [
    "Tspan = get_tspan(psrs) # The time-span of the entire PTA\n",
    "crn_bins = 30 # number of frequency-bins for the GWB\n",
    "int_bins = 30 # number of frequency-bins for the non-GWB (IRN) red noise\n",
    "assert int_bins >= crn_bins\n",
    "f_intrin = jnp.arange(1/Tspan, (int_bins + 0.01)/Tspan, 1/Tspan) # an array of frequency-bins for the IRN process\n",
    "f_common = f_intrin[:crn_bins] # an array of frequency-bins for the common process"
   ]
  },
  {
   "cell_type": "markdown",
   "metadata": {},
   "source": [
    "# Building the Run in `enteprise`"
   ]
  },
  {
   "cell_type": "code",
   "execution_count": 6,
   "metadata": {},
   "outputs": [],
   "source": [
    "log10_Agw = parameter.Uniform(-18., -11.)('gw_log10A')\n",
    "gamma_gw = parameter.Constant(13/3)('gw_gamma')\n",
    "\n",
    "cpl = gpp.powerlaw(log10_A=log10_Agw,\n",
    "                    gamma=gamma_gw,)"
   ]
  },
  {
   "cell_type": "code",
   "execution_count": 7,
   "metadata": {},
   "outputs": [
    {
     "name": "stderr",
     "output_type": "stream",
     "text": [
      "Package `fastshermanmorrison` not installed. Fallback to sherman-morrison\n"
     ]
    }
   ],
   "source": [
    "tm = gp_signals.MarginalizingTimingModel(use_svd=True)\n",
    "wn = blocks.white_noise_block(\n",
    "    vary=False,\n",
    "    inc_ecorr=True,\n",
    "    gp_ecorr=False,\n",
    "    select='backend',\n",
    "    tnequad=tnequad,\n",
    ")\n",
    "rn = blocks.red_noise_block(\n",
    "    psd=\"powerlaw\",\n",
    "    prior=\"log-uniform\",\n",
    "    Tspan=Tspan,\n",
    "    components=int_bins,\n",
    "    gamma_val=None,\n",
    ")\n",
    "gwb = gp_signals.FourierBasisGP(cpl, coefficients=False, combine=True,\n",
    "                                        components=crn_bins, Tspan=Tspan,\n",
    "                                        name='gw', pshift=None, pseed=None)\n",
    "\n",
    "s = tm + wn + rn + gwb\n",
    "\n",
    "pta = signal_base.PTA(\n",
    "    [s(p) for p in psrs], signal_base.LogLikelihoodDenseCholesky\n",
    ")\n",
    "pta.set_default_params(noise_dict)"
   ]
  },
  {
   "cell_type": "code",
   "execution_count": 8,
   "metadata": {},
   "outputs": [
    {
     "data": {
      "text/plain": [
       "[B1855+09_red_noise_gamma:Uniform(pmin=0, pmax=7),\n",
       " B1855+09_red_noise_log10_A:Uniform(pmin=-20, pmax=-11),\n",
       " B1937+21_red_noise_gamma:Uniform(pmin=0, pmax=7),\n",
       " B1937+21_red_noise_log10_A:Uniform(pmin=-20, pmax=-11),\n",
       " B1953+29_red_noise_gamma:Uniform(pmin=0, pmax=7),\n",
       " B1953+29_red_noise_log10_A:Uniform(pmin=-20, pmax=-11),\n",
       " J0023+0923_red_noise_gamma:Uniform(pmin=0, pmax=7),\n",
       " J0023+0923_red_noise_log10_A:Uniform(pmin=-20, pmax=-11),\n",
       " J0030+0451_red_noise_gamma:Uniform(pmin=0, pmax=7),\n",
       " J0030+0451_red_noise_log10_A:Uniform(pmin=-20, pmax=-11),\n",
       " J0340+4130_red_noise_gamma:Uniform(pmin=0, pmax=7),\n",
       " J0340+4130_red_noise_log10_A:Uniform(pmin=-20, pmax=-11),\n",
       " J0406+3039_red_noise_gamma:Uniform(pmin=0, pmax=7),\n",
       " J0406+3039_red_noise_log10_A:Uniform(pmin=-20, pmax=-11),\n",
       " J0437-4715_red_noise_gamma:Uniform(pmin=0, pmax=7),\n",
       " J0437-4715_red_noise_log10_A:Uniform(pmin=-20, pmax=-11),\n",
       " J0509+0856_red_noise_gamma:Uniform(pmin=0, pmax=7),\n",
       " J0509+0856_red_noise_log10_A:Uniform(pmin=-20, pmax=-11),\n",
       " J0557+1551_red_noise_gamma:Uniform(pmin=0, pmax=7),\n",
       " J0557+1551_red_noise_log10_A:Uniform(pmin=-20, pmax=-11),\n",
       " J0605+3757_red_noise_gamma:Uniform(pmin=0, pmax=7),\n",
       " J0605+3757_red_noise_log10_A:Uniform(pmin=-20, pmax=-11),\n",
       " J0610-2100_red_noise_gamma:Uniform(pmin=0, pmax=7),\n",
       " J0610-2100_red_noise_log10_A:Uniform(pmin=-20, pmax=-11),\n",
       " J0613-0200_red_noise_gamma:Uniform(pmin=0, pmax=7),\n",
       " J0613-0200_red_noise_log10_A:Uniform(pmin=-20, pmax=-11),\n",
       " J0636+5128_red_noise_gamma:Uniform(pmin=0, pmax=7),\n",
       " J0636+5128_red_noise_log10_A:Uniform(pmin=-20, pmax=-11),\n",
       " J0645+5158_red_noise_gamma:Uniform(pmin=0, pmax=7),\n",
       " J0645+5158_red_noise_log10_A:Uniform(pmin=-20, pmax=-11),\n",
       " J0709+0458_red_noise_gamma:Uniform(pmin=0, pmax=7),\n",
       " J0709+0458_red_noise_log10_A:Uniform(pmin=-20, pmax=-11),\n",
       " J0740+6620_red_noise_gamma:Uniform(pmin=0, pmax=7),\n",
       " J0740+6620_red_noise_log10_A:Uniform(pmin=-20, pmax=-11),\n",
       " J0931-1902_red_noise_gamma:Uniform(pmin=0, pmax=7),\n",
       " J0931-1902_red_noise_log10_A:Uniform(pmin=-20, pmax=-11),\n",
       " J1012+5307_red_noise_gamma:Uniform(pmin=0, pmax=7),\n",
       " J1012+5307_red_noise_log10_A:Uniform(pmin=-20, pmax=-11),\n",
       " J1012-4235_red_noise_gamma:Uniform(pmin=0, pmax=7),\n",
       " J1012-4235_red_noise_log10_A:Uniform(pmin=-20, pmax=-11),\n",
       " J1022+1001_red_noise_gamma:Uniform(pmin=0, pmax=7),\n",
       " J1022+1001_red_noise_log10_A:Uniform(pmin=-20, pmax=-11),\n",
       " J1024-0719_red_noise_gamma:Uniform(pmin=0, pmax=7),\n",
       " J1024-0719_red_noise_log10_A:Uniform(pmin=-20, pmax=-11),\n",
       " J1125+7819_red_noise_gamma:Uniform(pmin=0, pmax=7),\n",
       " J1125+7819_red_noise_log10_A:Uniform(pmin=-20, pmax=-11),\n",
       " J1312+0051_red_noise_gamma:Uniform(pmin=0, pmax=7),\n",
       " J1312+0051_red_noise_log10_A:Uniform(pmin=-20, pmax=-11),\n",
       " J1453+1902_red_noise_gamma:Uniform(pmin=0, pmax=7),\n",
       " J1453+1902_red_noise_log10_A:Uniform(pmin=-20, pmax=-11),\n",
       " J1455-3330_red_noise_gamma:Uniform(pmin=0, pmax=7),\n",
       " J1455-3330_red_noise_log10_A:Uniform(pmin=-20, pmax=-11),\n",
       " J1600-3053_red_noise_gamma:Uniform(pmin=0, pmax=7),\n",
       " J1600-3053_red_noise_log10_A:Uniform(pmin=-20, pmax=-11),\n",
       " J1614-2230_red_noise_gamma:Uniform(pmin=0, pmax=7),\n",
       " J1614-2230_red_noise_log10_A:Uniform(pmin=-20, pmax=-11),\n",
       " J1630+3734_red_noise_gamma:Uniform(pmin=0, pmax=7),\n",
       " J1630+3734_red_noise_log10_A:Uniform(pmin=-20, pmax=-11),\n",
       " J1640+2224_red_noise_gamma:Uniform(pmin=0, pmax=7),\n",
       " J1640+2224_red_noise_log10_A:Uniform(pmin=-20, pmax=-11),\n",
       " J1643-1224_red_noise_gamma:Uniform(pmin=0, pmax=7),\n",
       " J1643-1224_red_noise_log10_A:Uniform(pmin=-20, pmax=-11),\n",
       " J1705-1903_red_noise_gamma:Uniform(pmin=0, pmax=7),\n",
       " J1705-1903_red_noise_log10_A:Uniform(pmin=-20, pmax=-11),\n",
       " J1713+0747_red_noise_gamma:Uniform(pmin=0, pmax=7),\n",
       " J1713+0747_red_noise_log10_A:Uniform(pmin=-20, pmax=-11),\n",
       " J1719-1438_red_noise_gamma:Uniform(pmin=0, pmax=7),\n",
       " J1719-1438_red_noise_log10_A:Uniform(pmin=-20, pmax=-11),\n",
       " J1730-2304_red_noise_gamma:Uniform(pmin=0, pmax=7),\n",
       " J1730-2304_red_noise_log10_A:Uniform(pmin=-20, pmax=-11),\n",
       " J1738+0333_red_noise_gamma:Uniform(pmin=0, pmax=7),\n",
       " J1738+0333_red_noise_log10_A:Uniform(pmin=-20, pmax=-11),\n",
       " J1741+1351_red_noise_gamma:Uniform(pmin=0, pmax=7),\n",
       " J1741+1351_red_noise_log10_A:Uniform(pmin=-20, pmax=-11),\n",
       " J1744-1134_red_noise_gamma:Uniform(pmin=0, pmax=7),\n",
       " J1744-1134_red_noise_log10_A:Uniform(pmin=-20, pmax=-11),\n",
       " J1745+1017_red_noise_gamma:Uniform(pmin=0, pmax=7),\n",
       " J1745+1017_red_noise_log10_A:Uniform(pmin=-20, pmax=-11),\n",
       " J1747-4036_red_noise_gamma:Uniform(pmin=0, pmax=7),\n",
       " J1747-4036_red_noise_log10_A:Uniform(pmin=-20, pmax=-11),\n",
       " J1751-2857_red_noise_gamma:Uniform(pmin=0, pmax=7),\n",
       " J1751-2857_red_noise_log10_A:Uniform(pmin=-20, pmax=-11),\n",
       " J1802-2124_red_noise_gamma:Uniform(pmin=0, pmax=7),\n",
       " J1802-2124_red_noise_log10_A:Uniform(pmin=-20, pmax=-11),\n",
       " J1811-2405_red_noise_gamma:Uniform(pmin=0, pmax=7),\n",
       " J1811-2405_red_noise_log10_A:Uniform(pmin=-20, pmax=-11),\n",
       " J1832-0836_red_noise_gamma:Uniform(pmin=0, pmax=7),\n",
       " J1832-0836_red_noise_log10_A:Uniform(pmin=-20, pmax=-11),\n",
       " J1843-1113_red_noise_gamma:Uniform(pmin=0, pmax=7),\n",
       " J1843-1113_red_noise_log10_A:Uniform(pmin=-20, pmax=-11),\n",
       " J1853+1303_red_noise_gamma:Uniform(pmin=0, pmax=7),\n",
       " J1853+1303_red_noise_log10_A:Uniform(pmin=-20, pmax=-11),\n",
       " J1903+0327_red_noise_gamma:Uniform(pmin=0, pmax=7),\n",
       " J1903+0327_red_noise_log10_A:Uniform(pmin=-20, pmax=-11),\n",
       " J1909-3744_red_noise_gamma:Uniform(pmin=0, pmax=7),\n",
       " J1909-3744_red_noise_log10_A:Uniform(pmin=-20, pmax=-11),\n",
       " J1910+1256_red_noise_gamma:Uniform(pmin=0, pmax=7),\n",
       " J1910+1256_red_noise_log10_A:Uniform(pmin=-20, pmax=-11),\n",
       " J1911+1347_red_noise_gamma:Uniform(pmin=0, pmax=7),\n",
       " J1911+1347_red_noise_log10_A:Uniform(pmin=-20, pmax=-11),\n",
       " J1918-0642_red_noise_gamma:Uniform(pmin=0, pmax=7),\n",
       " J1918-0642_red_noise_log10_A:Uniform(pmin=-20, pmax=-11),\n",
       " J1923+2515_red_noise_gamma:Uniform(pmin=0, pmax=7),\n",
       " J1923+2515_red_noise_log10_A:Uniform(pmin=-20, pmax=-11),\n",
       " J1944+0907_red_noise_gamma:Uniform(pmin=0, pmax=7),\n",
       " J1944+0907_red_noise_log10_A:Uniform(pmin=-20, pmax=-11),\n",
       " J1946+3417_red_noise_gamma:Uniform(pmin=0, pmax=7),\n",
       " J1946+3417_red_noise_log10_A:Uniform(pmin=-20, pmax=-11),\n",
       " J2010-1323_red_noise_gamma:Uniform(pmin=0, pmax=7),\n",
       " J2010-1323_red_noise_log10_A:Uniform(pmin=-20, pmax=-11),\n",
       " J2017+0603_red_noise_gamma:Uniform(pmin=0, pmax=7),\n",
       " J2017+0603_red_noise_log10_A:Uniform(pmin=-20, pmax=-11),\n",
       " J2033+1734_red_noise_gamma:Uniform(pmin=0, pmax=7),\n",
       " J2033+1734_red_noise_log10_A:Uniform(pmin=-20, pmax=-11),\n",
       " J2043+1711_red_noise_gamma:Uniform(pmin=0, pmax=7),\n",
       " J2043+1711_red_noise_log10_A:Uniform(pmin=-20, pmax=-11),\n",
       " J2124-3358_red_noise_gamma:Uniform(pmin=0, pmax=7),\n",
       " J2124-3358_red_noise_log10_A:Uniform(pmin=-20, pmax=-11),\n",
       " J2145-0750_red_noise_gamma:Uniform(pmin=0, pmax=7),\n",
       " J2145-0750_red_noise_log10_A:Uniform(pmin=-20, pmax=-11),\n",
       " J2214+3000_red_noise_gamma:Uniform(pmin=0, pmax=7),\n",
       " J2214+3000_red_noise_log10_A:Uniform(pmin=-20, pmax=-11),\n",
       " J2229+2643_red_noise_gamma:Uniform(pmin=0, pmax=7),\n",
       " J2229+2643_red_noise_log10_A:Uniform(pmin=-20, pmax=-11),\n",
       " J2234+0611_red_noise_gamma:Uniform(pmin=0, pmax=7),\n",
       " J2234+0611_red_noise_log10_A:Uniform(pmin=-20, pmax=-11),\n",
       " J2234+0944_red_noise_gamma:Uniform(pmin=0, pmax=7),\n",
       " J2234+0944_red_noise_log10_A:Uniform(pmin=-20, pmax=-11),\n",
       " J2302+4442_red_noise_gamma:Uniform(pmin=0, pmax=7),\n",
       " J2302+4442_red_noise_log10_A:Uniform(pmin=-20, pmax=-11),\n",
       " J2317+1439_red_noise_gamma:Uniform(pmin=0, pmax=7),\n",
       " J2317+1439_red_noise_log10_A:Uniform(pmin=-20, pmax=-11),\n",
       " J2322+2057_red_noise_gamma:Uniform(pmin=0, pmax=7),\n",
       " J2322+2057_red_noise_log10_A:Uniform(pmin=-20, pmax=-11),\n",
       " gw_log10A:Uniform(pmin=-18.0, pmax=-11.0)]"
      ]
     },
     "execution_count": 8,
     "metadata": {},
     "output_type": "execute_result"
    }
   ],
   "source": [
    "pta.params"
   ]
  },
  {
   "cell_type": "markdown",
   "metadata": {},
   "source": [
    "## To save on GPU memory, save `TNT` and `TNr`"
   ]
  },
  {
   "cell_type": "code",
   "execution_count": 10,
   "metadata": {},
   "outputs": [],
   "source": [
    "# np.save('./TNT.npy', np.array(pta.get_TNT(params={})))\n",
    "# np.save('./TNr.npy', np.array(pta.get_TNr(params={}))[..., None])"
   ]
  },
  {
   "cell_type": "markdown",
   "metadata": {},
   "source": [
    "# Building the Run in `pandora`"
   ]
  },
  {
   "cell_type": "code",
   "execution_count": 11,
   "metadata": {},
   "outputs": [
    {
     "data": {
      "text/plain": [
       "{'ordered_gwb_psd_model_params': array(['log10_A', 'gamma'], dtype='<U7'),\n",
       " 'fixed_gwb_psd_params': ['gamma'],\n",
       " 'varied_gwb_psd_params': [np.str_('log10_A')],\n",
       " 'gwb_psd_param_lower_lim': Array([-18.], dtype=float64),\n",
       " 'gwb_psd_param_upper_lim': Array([-11.], dtype=float64),\n",
       " 'fixed_gwb_psd_param_indices': Array([1], dtype=int64),\n",
       " 'fixed_gwb_psd_param_values': Array([4.33333333], dtype=float64)}"
      ]
     },
     "execution_count": 11,
     "metadata": {},
     "output_type": "execute_result"
    }
   ],
   "source": [
    "chosen_psd_model, chosen_orf_model, gwb_helper_dictionary = utils.fixed_gamma_hd_pl(renorm_const = 1, \n",
    "                                                                                        lower_amp=-18.0, upper_amp=-11.0)\n",
    "gwb_helper_dictionary"
   ]
  },
  {
   "cell_type": "code",
   "execution_count": 12,
   "metadata": {},
   "outputs": [
    {
     "data": {
      "text/plain": [
       "['B1855+09_red_noise_gamma',\n",
       " 'B1855+09_red_noise_log10_A',\n",
       " 'B1937+21_red_noise_gamma',\n",
       " 'B1937+21_red_noise_log10_A',\n",
       " 'B1953+29_red_noise_gamma',\n",
       " 'B1953+29_red_noise_log10_A',\n",
       " 'J0023+0923_red_noise_gamma',\n",
       " 'J0023+0923_red_noise_log10_A',\n",
       " 'J0030+0451_red_noise_gamma',\n",
       " 'J0030+0451_red_noise_log10_A',\n",
       " 'J0340+4130_red_noise_gamma',\n",
       " 'J0340+4130_red_noise_log10_A',\n",
       " 'J0406+3039_red_noise_gamma',\n",
       " 'J0406+3039_red_noise_log10_A',\n",
       " 'J0437-4715_red_noise_gamma',\n",
       " 'J0437-4715_red_noise_log10_A',\n",
       " 'J0509+0856_red_noise_gamma',\n",
       " 'J0509+0856_red_noise_log10_A',\n",
       " 'J0557+1551_red_noise_gamma',\n",
       " 'J0557+1551_red_noise_log10_A',\n",
       " 'J0605+3757_red_noise_gamma',\n",
       " 'J0605+3757_red_noise_log10_A',\n",
       " 'J0610-2100_red_noise_gamma',\n",
       " 'J0610-2100_red_noise_log10_A',\n",
       " 'J0613-0200_red_noise_gamma',\n",
       " 'J0613-0200_red_noise_log10_A',\n",
       " 'J0636+5128_red_noise_gamma',\n",
       " 'J0636+5128_red_noise_log10_A',\n",
       " 'J0645+5158_red_noise_gamma',\n",
       " 'J0645+5158_red_noise_log10_A',\n",
       " 'J0709+0458_red_noise_gamma',\n",
       " 'J0709+0458_red_noise_log10_A',\n",
       " 'J0740+6620_red_noise_gamma',\n",
       " 'J0740+6620_red_noise_log10_A',\n",
       " 'J0931-1902_red_noise_gamma',\n",
       " 'J0931-1902_red_noise_log10_A',\n",
       " 'J1012+5307_red_noise_gamma',\n",
       " 'J1012+5307_red_noise_log10_A',\n",
       " 'J1012-4235_red_noise_gamma',\n",
       " 'J1012-4235_red_noise_log10_A',\n",
       " 'J1022+1001_red_noise_gamma',\n",
       " 'J1022+1001_red_noise_log10_A',\n",
       " 'J1024-0719_red_noise_gamma',\n",
       " 'J1024-0719_red_noise_log10_A',\n",
       " 'J1125+7819_red_noise_gamma',\n",
       " 'J1125+7819_red_noise_log10_A',\n",
       " 'J1312+0051_red_noise_gamma',\n",
       " 'J1312+0051_red_noise_log10_A',\n",
       " 'J1453+1902_red_noise_gamma',\n",
       " 'J1453+1902_red_noise_log10_A',\n",
       " 'J1455-3330_red_noise_gamma',\n",
       " 'J1455-3330_red_noise_log10_A',\n",
       " 'J1600-3053_red_noise_gamma',\n",
       " 'J1600-3053_red_noise_log10_A',\n",
       " 'J1614-2230_red_noise_gamma',\n",
       " 'J1614-2230_red_noise_log10_A',\n",
       " 'J1630+3734_red_noise_gamma',\n",
       " 'J1630+3734_red_noise_log10_A',\n",
       " 'J1640+2224_red_noise_gamma',\n",
       " 'J1640+2224_red_noise_log10_A',\n",
       " 'J1643-1224_red_noise_gamma',\n",
       " 'J1643-1224_red_noise_log10_A',\n",
       " 'J1705-1903_red_noise_gamma',\n",
       " 'J1705-1903_red_noise_log10_A',\n",
       " 'J1713+0747_red_noise_gamma',\n",
       " 'J1713+0747_red_noise_log10_A',\n",
       " 'J1719-1438_red_noise_gamma',\n",
       " 'J1719-1438_red_noise_log10_A',\n",
       " 'J1730-2304_red_noise_gamma',\n",
       " 'J1730-2304_red_noise_log10_A',\n",
       " 'J1738+0333_red_noise_gamma',\n",
       " 'J1738+0333_red_noise_log10_A',\n",
       " 'J1741+1351_red_noise_gamma',\n",
       " 'J1741+1351_red_noise_log10_A',\n",
       " 'J1744-1134_red_noise_gamma',\n",
       " 'J1744-1134_red_noise_log10_A',\n",
       " 'J1745+1017_red_noise_gamma',\n",
       " 'J1745+1017_red_noise_log10_A',\n",
       " 'J1747-4036_red_noise_gamma',\n",
       " 'J1747-4036_red_noise_log10_A',\n",
       " 'J1751-2857_red_noise_gamma',\n",
       " 'J1751-2857_red_noise_log10_A',\n",
       " 'J1802-2124_red_noise_gamma',\n",
       " 'J1802-2124_red_noise_log10_A',\n",
       " 'J1811-2405_red_noise_gamma',\n",
       " 'J1811-2405_red_noise_log10_A',\n",
       " 'J1832-0836_red_noise_gamma',\n",
       " 'J1832-0836_red_noise_log10_A',\n",
       " 'J1843-1113_red_noise_gamma',\n",
       " 'J1843-1113_red_noise_log10_A',\n",
       " 'J1853+1303_red_noise_gamma',\n",
       " 'J1853+1303_red_noise_log10_A',\n",
       " 'J1903+0327_red_noise_gamma',\n",
       " 'J1903+0327_red_noise_log10_A',\n",
       " 'J1909-3744_red_noise_gamma',\n",
       " 'J1909-3744_red_noise_log10_A',\n",
       " 'J1910+1256_red_noise_gamma',\n",
       " 'J1910+1256_red_noise_log10_A',\n",
       " 'J1911+1347_red_noise_gamma',\n",
       " 'J1911+1347_red_noise_log10_A',\n",
       " 'J1918-0642_red_noise_gamma',\n",
       " 'J1918-0642_red_noise_log10_A',\n",
       " 'J1923+2515_red_noise_gamma',\n",
       " 'J1923+2515_red_noise_log10_A',\n",
       " 'J1944+0907_red_noise_gamma',\n",
       " 'J1944+0907_red_noise_log10_A',\n",
       " 'J1946+3417_red_noise_gamma',\n",
       " 'J1946+3417_red_noise_log10_A',\n",
       " 'J2010-1323_red_noise_gamma',\n",
       " 'J2010-1323_red_noise_log10_A',\n",
       " 'J2017+0603_red_noise_gamma',\n",
       " 'J2017+0603_red_noise_log10_A',\n",
       " 'J2033+1734_red_noise_gamma',\n",
       " 'J2033+1734_red_noise_log10_A',\n",
       " 'J2043+1711_red_noise_gamma',\n",
       " 'J2043+1711_red_noise_log10_A',\n",
       " 'J2124-3358_red_noise_gamma',\n",
       " 'J2124-3358_red_noise_log10_A',\n",
       " 'J2145-0750_red_noise_gamma',\n",
       " 'J2145-0750_red_noise_log10_A',\n",
       " 'J2214+3000_red_noise_gamma',\n",
       " 'J2214+3000_red_noise_log10_A',\n",
       " 'J2229+2643_red_noise_gamma',\n",
       " 'J2229+2643_red_noise_log10_A',\n",
       " 'J2234+0611_red_noise_gamma',\n",
       " 'J2234+0611_red_noise_log10_A',\n",
       " 'J2234+0944_red_noise_gamma',\n",
       " 'J2234+0944_red_noise_log10_A',\n",
       " 'J2302+4442_red_noise_gamma',\n",
       " 'J2302+4442_red_noise_log10_A',\n",
       " 'J2317+1439_red_noise_gamma',\n",
       " 'J2317+1439_red_noise_log10_A',\n",
       " 'J2322+2057_red_noise_gamma',\n",
       " 'J2322+2057_red_noise_log10_A',\n",
       " 'gw_log10_A']"
      ]
     },
     "execution_count": 12,
     "metadata": {},
     "output_type": "execute_result"
    }
   ],
   "source": [
    "pnames = [pname for pname in pta.param_names[:2 * len(psrs)]]\n",
    "[pnames.append('gw_' + str(_)) for _ in gwb_helper_dictionary['varied_gwb_psd_params']]\n",
    "pnames"
   ]
  },
  {
   "cell_type": "code",
   "execution_count": 13,
   "metadata": {},
   "outputs": [],
   "source": [
    "# save paramter list\n",
    "with open(os.path.join('./', \"pars.txt\"), \"w\") as fout:\n",
    "    for pname in pnames:\n",
    "        fout.write(pname + \"\\n\")"
   ]
  },
  {
   "cell_type": "markdown",
   "metadata": {},
   "source": [
    "### Now, construct the model using `models.UniformPrior`"
   ]
  },
  {
   "cell_type": "code",
   "execution_count": 14,
   "metadata": {},
   "outputs": [],
   "source": [
    "o = models.UniformPrior(gwb_psd_func = chosen_psd_model,\n",
    "                orf_func = chosen_orf_model,\n",
    "                crn_bins = crn_bins,\n",
    "                int_bins = int_bins,\n",
    "                f_common = f_common, \n",
    "                f_intrin = f_intrin,\n",
    "                df = 1/Tspan,\n",
    "                Tspan = Tspan, \n",
    "                Npulsars = len(psrs),\n",
    "                psr_pos = [psr.pos for psr in psrs],\n",
    "                gwb_helper_dictionary = gwb_helper_dictionary,\n",
    "                gamma_min = 0,\n",
    "                gamma_max = 7,\n",
    "                log10A_min = -20 + 0.5,\n",
    "                log10A_max = -11 + 0.5,\n",
    "                renorm_const = 1)"
   ]
  },
  {
   "cell_type": "code",
   "execution_count": 15,
   "metadata": {},
   "outputs": [],
   "source": [
    "m  = LC.CURN(psrs = psrs,\n",
    "            device_to_run_likelihood_on = 'cuda',\n",
    "            TNr = jnp.load('./TNr.npy', mmap_mode = 'r'),\n",
    "            TNT = jnp.load('./TNT.npy', mmap_mode = 'r'),\n",
    "            run_type_object = o,\n",
    "            noise_dict = None, \n",
    "            backend = None, \n",
    "            tnequad = False, \n",
    "            inc_ecorr = True, \n",
    "            del_pta_after_init = True,\n",
    "            matrix_stabilization = False)"
   ]
  },
  {
   "cell_type": "code",
   "execution_count": 16,
   "metadata": {},
   "outputs": [],
   "source": [
    "x0 = o.make_initial_guess(key = jar.key(100)) # Some random draw from the prior given an RNG key"
   ]
  },
  {
   "cell_type": "markdown",
   "metadata": {},
   "source": [
    "# Likelihood Comparison"
   ]
  },
  {
   "cell_type": "code",
   "execution_count": 17,
   "metadata": {},
   "outputs": [],
   "source": [
    "def lnlike_offset(params):\n",
    "    likelihood_adjust = 0\n",
    "    likelihood_adjust += -0.5 * np.sum([ell for ell in pta.get_rNr_logdet(params)])\n",
    "    likelihood_adjust += sum(pta.get_logsignalprior(params))\n",
    "    return likelihood_adjust\n",
    "y0 = np.array(x0)\n",
    "y0[-1] = x0[134] \n",
    "y0[134] = x0[-1] \n",
    "params = pta.map_params(y0)\n",
    "ln_offset = lnlike_offset(params)"
   ]
  },
  {
   "cell_type": "code",
   "execution_count": 18,
   "metadata": {},
   "outputs": [
    {
     "name": "stdout",
     "output_type": "stream",
     "text": [
      "1 45187.617569323855 45180.355209941976\n",
      "2 46375.71151538687 46375.711515383795\n",
      "3 45606.97755408306 45606.97755416669\n",
      "4 46307.26036613457 46307.26036613155\n",
      "5 45727.09475231465 45725.17332856823\n",
      "6 43024.91450721458 43023.74541790038\n",
      "7 14688.690871454532 14601.851318504661\n",
      "8 46056.91169793894 46056.91169794276\n",
      "9 45068.40179865977 45067.47647430003\n"
     ]
    }
   ],
   "source": [
    "for _ in np.arange(1, 10, 1, dtype = int):\n",
    "    x0 = o.make_initial_guess(key = jar.key(_))\n",
    "    y0 = np.array(x0)\n",
    "    y0[-1] = x0[134] \n",
    "    y0[134] = x0[-1] \n",
    "    print(_, m.get_lnliklihood(x0), pta.get_lnlikelihood(y0) - ln_offset)"
   ]
  },
  {
   "cell_type": "code",
   "execution_count": 19,
   "metadata": {},
   "outputs": [
    {
     "name": "stdout",
     "output_type": "stream",
     "text": [
      "541 μs ± 2.36 μs per loop (mean ± std. dev. of 7 runs, 1,000 loops each)\n"
     ]
    }
   ],
   "source": [
    "%timeit o.get_phi_mat(x0); m.get_lnliklihood(x0)"
   ]
  },
  {
   "cell_type": "code",
   "execution_count": null,
   "metadata": {},
   "outputs": [],
   "source": []
  }
 ],
 "metadata": {
  "kernelspec": {
   "display_name": "pandora",
   "language": "python",
   "name": "python3"
  },
  "language_info": {
   "codemirror_mode": {
    "name": "ipython",
    "version": 3
   },
   "file_extension": ".py",
   "mimetype": "text/x-python",
   "name": "python",
   "nbconvert_exporter": "python",
   "pygments_lexer": "ipython3",
   "version": "3.11.11"
  }
 },
 "nbformat": 4,
 "nbformat_minor": 2
}
