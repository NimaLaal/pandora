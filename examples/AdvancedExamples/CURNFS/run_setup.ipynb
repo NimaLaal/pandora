{
 "cells": [
  {
   "cell_type": "markdown",
   "metadata": {},
   "source": [
    "# Load Needed Packages"
   ]
  },
  {
   "cell_type": "code",
   "execution_count": 1,
   "metadata": {},
   "outputs": [
    {
     "name": "stderr",
     "output_type": "stream",
     "text": [
      "/home/koonima/anaconda3/envs/pandora/lib/python3.11/site-packages/pandora/GWBFunctions.py:11: UserWarning: The package `interpax` is needed for spline interpolation of ORF.\n",
      "  warnings.warn(\"The package `interpax` is needed for spline interpolation of ORF.\")\n"
     ]
    },
    {
     "name": "stdout",
     "output_type": "stream",
     "text": [
      "Optional mpi4py package is not installed.  MPI support is not available.\n"
     ]
    },
    {
     "name": "stderr",
     "output_type": "stream",
     "text": [
      "/home/koonima/anaconda3/envs/pandora/lib/python3.11/site-packages/tqdm/auto.py:21: TqdmWarning: IProgress not found. Please update jupyter and ipywidgets. See https://ipywidgets.readthedocs.io/en/stable/user_install.html\n",
      "  from .autonotebook import tqdm as notebook_tqdm\n"
     ]
    }
   ],
   "source": [
    "import jax\n",
    "import jax.numpy as jnp\n",
    "import jax.scipy as jsp\n",
    "import jax.random as jar\n",
    "# jax.config.update('jax_platform_name', 'cuda')\n",
    "import numpy as np\n",
    "jax.config.update(\"jax_enable_x64\", True)\n",
    "\n",
    "from pandora import models, utils, GWBFunctions\n",
    "from pandora import LikelihoodCalculator as LC\n",
    "\n",
    "from enterprise_extensions import blocks\n",
    "from enterprise.signals import signal_base, gp_signals\n",
    "from enterprise.signals import gp_priors as gpp\n",
    "from enterprise.signals import parameter\n",
    "from enterprise_extensions.model_utils import get_tspan\n",
    "\n",
    "import numpyro\n",
    "from numpyro import distributions as dist\n",
    "from numpyro import infer\n",
    "\n",
    "import pickle, json, os, corner, glob, random, copy, time, inspect\n",
    "\n",
    "import matplotlib.pyplot as plt\n",
    "from matplotlib.ticker import AutoMinorLocator\n",
    "import matplotlib.lines as mlines\n",
    "plt.style.use('dark_background')\n",
    "hist_settings = dict(\n",
    "    bins = 40,\n",
    "    histtype = 'step',\n",
    "    lw = 3,\n",
    "    density = True\n",
    ")\n",
    "%matplotlib inline\n",
    "%config InlineBackend.figure_format = 'retina'\n",
    "%load_ext autoreload\n",
    "%autoreload 2\n",
    "# %load_ext line_profiler"
   ]
  },
  {
   "cell_type": "markdown",
   "metadata": {},
   "source": [
    "# Choose a data set"
   ]
  },
  {
   "cell_type": "code",
   "execution_count": 2,
   "metadata": {},
   "outputs": [
    {
     "name": "stderr",
     "output_type": "stream",
     "text": [
      "libstempo not installed. PINT or libstempo are required to use par and tim files.\n"
     ]
    }
   ],
   "source": [
    "datadir = '/home/koonima/FAST/Data/Pickle/'\n",
    "with open(datadir + f'v1p1_de440_pint_bipm2019.pkl', 'rb') as fin:\n",
    "    psrs = pickle.load(fin)\n",
    "psrlist = [psr.name for psr in psrs]\n",
    "with open(datadir + f'v1p1_all_dict.json', 'r') as fin:\n",
    "    noise_dict = json.load(fin)\n",
    "inc_ecorr = True\n",
    "backend = 'backend'\n",
    "tnequad = False"
   ]
  },
  {
   "cell_type": "markdown",
   "metadata": {},
   "source": [
    "## Frequency-bins"
   ]
  },
  {
   "cell_type": "code",
   "execution_count": 3,
   "metadata": {},
   "outputs": [],
   "source": [
    "Tspan = get_tspan(psrs) # The time-span of the entire PTA\n",
    "crn_bins = 30 # number of frequency-bins for the GWB\n",
    "int_bins = 30 # number of frequency-bins for the non-GWB (IRN) red noise\n",
    "assert int_bins >= crn_bins\n",
    "f_intrin = jnp.arange(1/Tspan, (int_bins + 0.01)/Tspan, 1/Tspan) # an array of frequency-bins for the IRN process\n",
    "f_common = f_intrin[:crn_bins] # an array of frequency-bins for the common process"
   ]
  },
  {
   "cell_type": "markdown",
   "metadata": {},
   "source": [
    "# Building the Run in `enteprise`"
   ]
  },
  {
   "cell_type": "code",
   "execution_count": 8,
   "metadata": {},
   "outputs": [],
   "source": [
    "tm = gp_signals.MarginalizingTimingModel(use_svd=True)\n",
    "wn = blocks.white_noise_block(\n",
    "    vary=False,\n",
    "    inc_ecorr=True,\n",
    "    gp_ecorr=False,\n",
    "    select='backend',\n",
    "    tnequad=tnequad,\n",
    ")\n",
    "rn = blocks.red_noise_block(\n",
    "    psd=\"powerlaw\",\n",
    "    prior=\"log-uniform\",\n",
    "    Tspan=Tspan,\n",
    "    components=int_bins,\n",
    "    gamma_val=None,\n",
    ")\n",
    "gwb = blocks.common_red_noise_block(\n",
    "    psd=\"spectrum\",\n",
    "    prior=\"log-uniform\",\n",
    "    Tspan=Tspan,\n",
    "    components=int_bins,\n",
    "    gamma_val=None,\n",
    ")\n",
    "s = tm + wn + rn + gwb\n",
    "\n",
    "pta = signal_base.PTA(\n",
    "    [s(p) for p in psrs], signal_base.LogLikelihoodDenseCholesky\n",
    ")\n",
    "pta.set_default_params(noise_dict)"
   ]
  },
  {
   "cell_type": "code",
   "execution_count": 9,
   "metadata": {},
   "outputs": [
    {
     "data": {
      "text/plain": [
       "[B1855+09_red_noise_gamma:Uniform(pmin=0, pmax=7),\n",
       " B1855+09_red_noise_log10_A:Uniform(pmin=-20, pmax=-11),\n",
       " B1937+21_red_noise_gamma:Uniform(pmin=0, pmax=7),\n",
       " B1937+21_red_noise_log10_A:Uniform(pmin=-20, pmax=-11),\n",
       " B1953+29_red_noise_gamma:Uniform(pmin=0, pmax=7),\n",
       " B1953+29_red_noise_log10_A:Uniform(pmin=-20, pmax=-11),\n",
       " J0023+0923_red_noise_gamma:Uniform(pmin=0, pmax=7),\n",
       " J0023+0923_red_noise_log10_A:Uniform(pmin=-20, pmax=-11),\n",
       " J0030+0451_red_noise_gamma:Uniform(pmin=0, pmax=7),\n",
       " J0030+0451_red_noise_log10_A:Uniform(pmin=-20, pmax=-11),\n",
       " J0340+4130_red_noise_gamma:Uniform(pmin=0, pmax=7),\n",
       " J0340+4130_red_noise_log10_A:Uniform(pmin=-20, pmax=-11),\n",
       " J0406+3039_red_noise_gamma:Uniform(pmin=0, pmax=7),\n",
       " J0406+3039_red_noise_log10_A:Uniform(pmin=-20, pmax=-11),\n",
       " J0437-4715_red_noise_gamma:Uniform(pmin=0, pmax=7),\n",
       " J0437-4715_red_noise_log10_A:Uniform(pmin=-20, pmax=-11),\n",
       " J0509+0856_red_noise_gamma:Uniform(pmin=0, pmax=7),\n",
       " J0509+0856_red_noise_log10_A:Uniform(pmin=-20, pmax=-11),\n",
       " J0557+1551_red_noise_gamma:Uniform(pmin=0, pmax=7),\n",
       " J0557+1551_red_noise_log10_A:Uniform(pmin=-20, pmax=-11),\n",
       " J0605+3757_red_noise_gamma:Uniform(pmin=0, pmax=7),\n",
       " J0605+3757_red_noise_log10_A:Uniform(pmin=-20, pmax=-11),\n",
       " J0610-2100_red_noise_gamma:Uniform(pmin=0, pmax=7),\n",
       " J0610-2100_red_noise_log10_A:Uniform(pmin=-20, pmax=-11),\n",
       " J0613-0200_red_noise_gamma:Uniform(pmin=0, pmax=7),\n",
       " J0613-0200_red_noise_log10_A:Uniform(pmin=-20, pmax=-11),\n",
       " J0636+5128_red_noise_gamma:Uniform(pmin=0, pmax=7),\n",
       " J0636+5128_red_noise_log10_A:Uniform(pmin=-20, pmax=-11),\n",
       " J0645+5158_red_noise_gamma:Uniform(pmin=0, pmax=7),\n",
       " J0645+5158_red_noise_log10_A:Uniform(pmin=-20, pmax=-11),\n",
       " J0709+0458_red_noise_gamma:Uniform(pmin=0, pmax=7),\n",
       " J0709+0458_red_noise_log10_A:Uniform(pmin=-20, pmax=-11),\n",
       " J0740+6620_red_noise_gamma:Uniform(pmin=0, pmax=7),\n",
       " J0740+6620_red_noise_log10_A:Uniform(pmin=-20, pmax=-11),\n",
       " J0931-1902_red_noise_gamma:Uniform(pmin=0, pmax=7),\n",
       " J0931-1902_red_noise_log10_A:Uniform(pmin=-20, pmax=-11),\n",
       " J1012+5307_red_noise_gamma:Uniform(pmin=0, pmax=7),\n",
       " J1012+5307_red_noise_log10_A:Uniform(pmin=-20, pmax=-11),\n",
       " J1012-4235_red_noise_gamma:Uniform(pmin=0, pmax=7),\n",
       " J1012-4235_red_noise_log10_A:Uniform(pmin=-20, pmax=-11),\n",
       " J1022+1001_red_noise_gamma:Uniform(pmin=0, pmax=7),\n",
       " J1022+1001_red_noise_log10_A:Uniform(pmin=-20, pmax=-11),\n",
       " J1024-0719_red_noise_gamma:Uniform(pmin=0, pmax=7),\n",
       " J1024-0719_red_noise_log10_A:Uniform(pmin=-20, pmax=-11),\n",
       " J1125+7819_red_noise_gamma:Uniform(pmin=0, pmax=7),\n",
       " J1125+7819_red_noise_log10_A:Uniform(pmin=-20, pmax=-11),\n",
       " J1312+0051_red_noise_gamma:Uniform(pmin=0, pmax=7),\n",
       " J1312+0051_red_noise_log10_A:Uniform(pmin=-20, pmax=-11),\n",
       " J1453+1902_red_noise_gamma:Uniform(pmin=0, pmax=7),\n",
       " J1453+1902_red_noise_log10_A:Uniform(pmin=-20, pmax=-11),\n",
       " J1455-3330_red_noise_gamma:Uniform(pmin=0, pmax=7),\n",
       " J1455-3330_red_noise_log10_A:Uniform(pmin=-20, pmax=-11),\n",
       " J1600-3053_red_noise_gamma:Uniform(pmin=0, pmax=7),\n",
       " J1600-3053_red_noise_log10_A:Uniform(pmin=-20, pmax=-11),\n",
       " J1614-2230_red_noise_gamma:Uniform(pmin=0, pmax=7),\n",
       " J1614-2230_red_noise_log10_A:Uniform(pmin=-20, pmax=-11),\n",
       " J1630+3734_red_noise_gamma:Uniform(pmin=0, pmax=7),\n",
       " J1630+3734_red_noise_log10_A:Uniform(pmin=-20, pmax=-11),\n",
       " J1640+2224_red_noise_gamma:Uniform(pmin=0, pmax=7),\n",
       " J1640+2224_red_noise_log10_A:Uniform(pmin=-20, pmax=-11),\n",
       " J1643-1224_red_noise_gamma:Uniform(pmin=0, pmax=7),\n",
       " J1643-1224_red_noise_log10_A:Uniform(pmin=-20, pmax=-11),\n",
       " J1705-1903_red_noise_gamma:Uniform(pmin=0, pmax=7),\n",
       " J1705-1903_red_noise_log10_A:Uniform(pmin=-20, pmax=-11),\n",
       " J1713+0747_red_noise_gamma:Uniform(pmin=0, pmax=7),\n",
       " J1713+0747_red_noise_log10_A:Uniform(pmin=-20, pmax=-11),\n",
       " J1719-1438_red_noise_gamma:Uniform(pmin=0, pmax=7),\n",
       " J1719-1438_red_noise_log10_A:Uniform(pmin=-20, pmax=-11),\n",
       " J1730-2304_red_noise_gamma:Uniform(pmin=0, pmax=7),\n",
       " J1730-2304_red_noise_log10_A:Uniform(pmin=-20, pmax=-11),\n",
       " J1738+0333_red_noise_gamma:Uniform(pmin=0, pmax=7),\n",
       " J1738+0333_red_noise_log10_A:Uniform(pmin=-20, pmax=-11),\n",
       " J1741+1351_red_noise_gamma:Uniform(pmin=0, pmax=7),\n",
       " J1741+1351_red_noise_log10_A:Uniform(pmin=-20, pmax=-11),\n",
       " J1744-1134_red_noise_gamma:Uniform(pmin=0, pmax=7),\n",
       " J1744-1134_red_noise_log10_A:Uniform(pmin=-20, pmax=-11),\n",
       " J1745+1017_red_noise_gamma:Uniform(pmin=0, pmax=7),\n",
       " J1745+1017_red_noise_log10_A:Uniform(pmin=-20, pmax=-11),\n",
       " J1747-4036_red_noise_gamma:Uniform(pmin=0, pmax=7),\n",
       " J1747-4036_red_noise_log10_A:Uniform(pmin=-20, pmax=-11),\n",
       " J1751-2857_red_noise_gamma:Uniform(pmin=0, pmax=7),\n",
       " J1751-2857_red_noise_log10_A:Uniform(pmin=-20, pmax=-11),\n",
       " J1802-2124_red_noise_gamma:Uniform(pmin=0, pmax=7),\n",
       " J1802-2124_red_noise_log10_A:Uniform(pmin=-20, pmax=-11),\n",
       " J1811-2405_red_noise_gamma:Uniform(pmin=0, pmax=7),\n",
       " J1811-2405_red_noise_log10_A:Uniform(pmin=-20, pmax=-11),\n",
       " J1832-0836_red_noise_gamma:Uniform(pmin=0, pmax=7),\n",
       " J1832-0836_red_noise_log10_A:Uniform(pmin=-20, pmax=-11),\n",
       " J1843-1113_red_noise_gamma:Uniform(pmin=0, pmax=7),\n",
       " J1843-1113_red_noise_log10_A:Uniform(pmin=-20, pmax=-11),\n",
       " J1853+1303_red_noise_gamma:Uniform(pmin=0, pmax=7),\n",
       " J1853+1303_red_noise_log10_A:Uniform(pmin=-20, pmax=-11),\n",
       " J1903+0327_red_noise_gamma:Uniform(pmin=0, pmax=7),\n",
       " J1903+0327_red_noise_log10_A:Uniform(pmin=-20, pmax=-11),\n",
       " J1909-3744_red_noise_gamma:Uniform(pmin=0, pmax=7),\n",
       " J1909-3744_red_noise_log10_A:Uniform(pmin=-20, pmax=-11),\n",
       " J1910+1256_red_noise_gamma:Uniform(pmin=0, pmax=7),\n",
       " J1910+1256_red_noise_log10_A:Uniform(pmin=-20, pmax=-11),\n",
       " J1911+1347_red_noise_gamma:Uniform(pmin=0, pmax=7),\n",
       " J1911+1347_red_noise_log10_A:Uniform(pmin=-20, pmax=-11),\n",
       " J1918-0642_red_noise_gamma:Uniform(pmin=0, pmax=7),\n",
       " J1918-0642_red_noise_log10_A:Uniform(pmin=-20, pmax=-11),\n",
       " J1923+2515_red_noise_gamma:Uniform(pmin=0, pmax=7),\n",
       " J1923+2515_red_noise_log10_A:Uniform(pmin=-20, pmax=-11),\n",
       " J1944+0907_red_noise_gamma:Uniform(pmin=0, pmax=7),\n",
       " J1944+0907_red_noise_log10_A:Uniform(pmin=-20, pmax=-11),\n",
       " J1946+3417_red_noise_gamma:Uniform(pmin=0, pmax=7),\n",
       " J1946+3417_red_noise_log10_A:Uniform(pmin=-20, pmax=-11),\n",
       " J2010-1323_red_noise_gamma:Uniform(pmin=0, pmax=7),\n",
       " J2010-1323_red_noise_log10_A:Uniform(pmin=-20, pmax=-11),\n",
       " J2017+0603_red_noise_gamma:Uniform(pmin=0, pmax=7),\n",
       " J2017+0603_red_noise_log10_A:Uniform(pmin=-20, pmax=-11),\n",
       " J2033+1734_red_noise_gamma:Uniform(pmin=0, pmax=7),\n",
       " J2033+1734_red_noise_log10_A:Uniform(pmin=-20, pmax=-11),\n",
       " J2043+1711_red_noise_gamma:Uniform(pmin=0, pmax=7),\n",
       " J2043+1711_red_noise_log10_A:Uniform(pmin=-20, pmax=-11),\n",
       " J2124-3358_red_noise_gamma:Uniform(pmin=0, pmax=7),\n",
       " J2124-3358_red_noise_log10_A:Uniform(pmin=-20, pmax=-11),\n",
       " J2145-0750_red_noise_gamma:Uniform(pmin=0, pmax=7),\n",
       " J2145-0750_red_noise_log10_A:Uniform(pmin=-20, pmax=-11),\n",
       " J2214+3000_red_noise_gamma:Uniform(pmin=0, pmax=7),\n",
       " J2214+3000_red_noise_log10_A:Uniform(pmin=-20, pmax=-11),\n",
       " J2229+2643_red_noise_gamma:Uniform(pmin=0, pmax=7),\n",
       " J2229+2643_red_noise_log10_A:Uniform(pmin=-20, pmax=-11),\n",
       " J2234+0611_red_noise_gamma:Uniform(pmin=0, pmax=7),\n",
       " J2234+0611_red_noise_log10_A:Uniform(pmin=-20, pmax=-11),\n",
       " J2234+0944_red_noise_gamma:Uniform(pmin=0, pmax=7),\n",
       " J2234+0944_red_noise_log10_A:Uniform(pmin=-20, pmax=-11),\n",
       " J2302+4442_red_noise_gamma:Uniform(pmin=0, pmax=7),\n",
       " J2302+4442_red_noise_log10_A:Uniform(pmin=-20, pmax=-11),\n",
       " J2317+1439_red_noise_gamma:Uniform(pmin=0, pmax=7),\n",
       " J2317+1439_red_noise_log10_A:Uniform(pmin=-20, pmax=-11),\n",
       " J2322+2057_red_noise_gamma:Uniform(pmin=0, pmax=7),\n",
       " J2322+2057_red_noise_log10_A:Uniform(pmin=-20, pmax=-11),\n",
       " gw_log10_rho:Uniform(pmin=-9, pmax=-4)[30]]"
      ]
     },
     "execution_count": 9,
     "metadata": {},
     "output_type": "execute_result"
    }
   ],
   "source": [
    "pta.params"
   ]
  },
  {
   "cell_type": "markdown",
   "metadata": {},
   "source": [
    "## To save on GPU memory, save `TNT` and `TNr`"
   ]
  },
  {
   "cell_type": "code",
   "execution_count": 26,
   "metadata": {},
   "outputs": [],
   "source": [
    "np.save('./TNT.npy', np.array(pta.get_TNT(params={})))\n",
    "np.save('./TNr.npy', np.array(pta.get_TNr(params={}))[..., None])"
   ]
  },
  {
   "cell_type": "markdown",
   "metadata": {},
   "source": [
    "# Building the Run in `pandora`"
   ]
  },
  {
   "cell_type": "code",
   "execution_count": 15,
   "metadata": {},
   "outputs": [
    {
     "data": {
      "text/plain": [
       "{'ordered_gwb_psd_model_params': array(['halflog10_rho'], dtype='<U13'),\n",
       " 'varied_gwb_psd_params': [np.str_('halflog10_rho')],\n",
       " 'gwb_psd_param_lower_lim': Array([-9., -9., -9., -9., -9., -9., -9., -9., -9., -9., -9., -9., -9.,\n",
       "        -9., -9., -9., -9., -9., -9., -9., -9., -9., -9., -9., -9., -9.,\n",
       "        -9., -9., -9., -9.], dtype=float64),\n",
       " 'gwb_psd_param_upper_lim': Array([-4., -4., -4., -4., -4., -4., -4., -4., -4., -4., -4., -4., -4.,\n",
       "        -4., -4., -4., -4., -4., -4., -4., -4., -4., -4., -4., -4., -4.,\n",
       "        -4., -4., -4., -4.], dtype=float64)}"
      ]
     },
     "execution_count": 15,
     "metadata": {},
     "output_type": "execute_result"
    }
   ],
   "source": [
    "chosen_psd_model, chosen_orf_model, gwb_helper_dictionary = utils.hd_spectrum(renorm_const = 1, \n",
    "                                                                            crn_bins = crn_bins, lower_halflog10_rho=-9, upper_halflog10_rho=-4)\n",
    "gwb_helper_dictionary"
   ]
  },
  {
   "cell_type": "code",
   "execution_count": 17,
   "metadata": {},
   "outputs": [
    {
     "data": {
      "text/plain": [
       "['B1855+09_red_noise_gamma',\n",
       " 'B1855+09_red_noise_log10_A',\n",
       " 'B1937+21_red_noise_gamma',\n",
       " 'B1937+21_red_noise_log10_A',\n",
       " 'B1953+29_red_noise_gamma',\n",
       " 'B1953+29_red_noise_log10_A',\n",
       " 'J0023+0923_red_noise_gamma',\n",
       " 'J0023+0923_red_noise_log10_A',\n",
       " 'J0030+0451_red_noise_gamma',\n",
       " 'J0030+0451_red_noise_log10_A',\n",
       " 'J0340+4130_red_noise_gamma',\n",
       " 'J0340+4130_red_noise_log10_A',\n",
       " 'J0406+3039_red_noise_gamma',\n",
       " 'J0406+3039_red_noise_log10_A',\n",
       " 'J0437-4715_red_noise_gamma',\n",
       " 'J0437-4715_red_noise_log10_A',\n",
       " 'J0509+0856_red_noise_gamma',\n",
       " 'J0509+0856_red_noise_log10_A',\n",
       " 'J0557+1551_red_noise_gamma',\n",
       " 'J0557+1551_red_noise_log10_A',\n",
       " 'J0605+3757_red_noise_gamma',\n",
       " 'J0605+3757_red_noise_log10_A',\n",
       " 'J0610-2100_red_noise_gamma',\n",
       " 'J0610-2100_red_noise_log10_A',\n",
       " 'J0613-0200_red_noise_gamma',\n",
       " 'J0613-0200_red_noise_log10_A',\n",
       " 'J0636+5128_red_noise_gamma',\n",
       " 'J0636+5128_red_noise_log10_A',\n",
       " 'J0645+5158_red_noise_gamma',\n",
       " 'J0645+5158_red_noise_log10_A',\n",
       " 'J0709+0458_red_noise_gamma',\n",
       " 'J0709+0458_red_noise_log10_A',\n",
       " 'J0740+6620_red_noise_gamma',\n",
       " 'J0740+6620_red_noise_log10_A',\n",
       " 'J0931-1902_red_noise_gamma',\n",
       " 'J0931-1902_red_noise_log10_A',\n",
       " 'J1012+5307_red_noise_gamma',\n",
       " 'J1012+5307_red_noise_log10_A',\n",
       " 'J1012-4235_red_noise_gamma',\n",
       " 'J1012-4235_red_noise_log10_A',\n",
       " 'J1022+1001_red_noise_gamma',\n",
       " 'J1022+1001_red_noise_log10_A',\n",
       " 'J1024-0719_red_noise_gamma',\n",
       " 'J1024-0719_red_noise_log10_A',\n",
       " 'J1125+7819_red_noise_gamma',\n",
       " 'J1125+7819_red_noise_log10_A',\n",
       " 'J1312+0051_red_noise_gamma',\n",
       " 'J1312+0051_red_noise_log10_A',\n",
       " 'J1453+1902_red_noise_gamma',\n",
       " 'J1453+1902_red_noise_log10_A',\n",
       " 'J1455-3330_red_noise_gamma',\n",
       " 'J1455-3330_red_noise_log10_A',\n",
       " 'J1600-3053_red_noise_gamma',\n",
       " 'J1600-3053_red_noise_log10_A',\n",
       " 'J1614-2230_red_noise_gamma',\n",
       " 'J1614-2230_red_noise_log10_A',\n",
       " 'J1630+3734_red_noise_gamma',\n",
       " 'J1630+3734_red_noise_log10_A',\n",
       " 'J1640+2224_red_noise_gamma',\n",
       " 'J1640+2224_red_noise_log10_A',\n",
       " 'J1643-1224_red_noise_gamma',\n",
       " 'J1643-1224_red_noise_log10_A',\n",
       " 'J1705-1903_red_noise_gamma',\n",
       " 'J1705-1903_red_noise_log10_A',\n",
       " 'J1713+0747_red_noise_gamma',\n",
       " 'J1713+0747_red_noise_log10_A',\n",
       " 'J1719-1438_red_noise_gamma',\n",
       " 'J1719-1438_red_noise_log10_A',\n",
       " 'J1730-2304_red_noise_gamma',\n",
       " 'J1730-2304_red_noise_log10_A',\n",
       " 'J1738+0333_red_noise_gamma',\n",
       " 'J1738+0333_red_noise_log10_A',\n",
       " 'J1741+1351_red_noise_gamma',\n",
       " 'J1741+1351_red_noise_log10_A',\n",
       " 'J1744-1134_red_noise_gamma',\n",
       " 'J1744-1134_red_noise_log10_A',\n",
       " 'J1745+1017_red_noise_gamma',\n",
       " 'J1745+1017_red_noise_log10_A',\n",
       " 'J1747-4036_red_noise_gamma',\n",
       " 'J1747-4036_red_noise_log10_A',\n",
       " 'J1751-2857_red_noise_gamma',\n",
       " 'J1751-2857_red_noise_log10_A',\n",
       " 'J1802-2124_red_noise_gamma',\n",
       " 'J1802-2124_red_noise_log10_A',\n",
       " 'J1811-2405_red_noise_gamma',\n",
       " 'J1811-2405_red_noise_log10_A',\n",
       " 'J1832-0836_red_noise_gamma',\n",
       " 'J1832-0836_red_noise_log10_A',\n",
       " 'J1843-1113_red_noise_gamma',\n",
       " 'J1843-1113_red_noise_log10_A',\n",
       " 'J1853+1303_red_noise_gamma',\n",
       " 'J1853+1303_red_noise_log10_A',\n",
       " 'J1903+0327_red_noise_gamma',\n",
       " 'J1903+0327_red_noise_log10_A',\n",
       " 'J1909-3744_red_noise_gamma',\n",
       " 'J1909-3744_red_noise_log10_A',\n",
       " 'J1910+1256_red_noise_gamma',\n",
       " 'J1910+1256_red_noise_log10_A',\n",
       " 'J1911+1347_red_noise_gamma',\n",
       " 'J1911+1347_red_noise_log10_A',\n",
       " 'J1918-0642_red_noise_gamma',\n",
       " 'J1918-0642_red_noise_log10_A',\n",
       " 'J1923+2515_red_noise_gamma',\n",
       " 'J1923+2515_red_noise_log10_A',\n",
       " 'J1944+0907_red_noise_gamma',\n",
       " 'J1944+0907_red_noise_log10_A',\n",
       " 'J1946+3417_red_noise_gamma',\n",
       " 'J1946+3417_red_noise_log10_A',\n",
       " 'J2010-1323_red_noise_gamma',\n",
       " 'J2010-1323_red_noise_log10_A',\n",
       " 'J2017+0603_red_noise_gamma',\n",
       " 'J2017+0603_red_noise_log10_A',\n",
       " 'J2033+1734_red_noise_gamma',\n",
       " 'J2033+1734_red_noise_log10_A',\n",
       " 'J2043+1711_red_noise_gamma',\n",
       " 'J2043+1711_red_noise_log10_A',\n",
       " 'J2124-3358_red_noise_gamma',\n",
       " 'J2124-3358_red_noise_log10_A',\n",
       " 'J2145-0750_red_noise_gamma',\n",
       " 'J2145-0750_red_noise_log10_A',\n",
       " 'J2214+3000_red_noise_gamma',\n",
       " 'J2214+3000_red_noise_log10_A',\n",
       " 'J2229+2643_red_noise_gamma',\n",
       " 'J2229+2643_red_noise_log10_A',\n",
       " 'J2234+0611_red_noise_gamma',\n",
       " 'J2234+0611_red_noise_log10_A',\n",
       " 'J2234+0944_red_noise_gamma',\n",
       " 'J2234+0944_red_noise_log10_A',\n",
       " 'J2302+4442_red_noise_gamma',\n",
       " 'J2302+4442_red_noise_log10_A',\n",
       " 'J2317+1439_red_noise_gamma',\n",
       " 'J2317+1439_red_noise_log10_A',\n",
       " 'J2322+2057_red_noise_gamma',\n",
       " 'J2322+2057_red_noise_log10_A',\n",
       " 'gw_log10_rho_0',\n",
       " 'gw_log10_rho_1',\n",
       " 'gw_log10_rho_2',\n",
       " 'gw_log10_rho_3',\n",
       " 'gw_log10_rho_4',\n",
       " 'gw_log10_rho_5',\n",
       " 'gw_log10_rho_6',\n",
       " 'gw_log10_rho_7',\n",
       " 'gw_log10_rho_8',\n",
       " 'gw_log10_rho_9',\n",
       " 'gw_log10_rho_10',\n",
       " 'gw_log10_rho_11',\n",
       " 'gw_log10_rho_12',\n",
       " 'gw_log10_rho_13',\n",
       " 'gw_log10_rho_14',\n",
       " 'gw_log10_rho_15',\n",
       " 'gw_log10_rho_16',\n",
       " 'gw_log10_rho_17',\n",
       " 'gw_log10_rho_18',\n",
       " 'gw_log10_rho_19',\n",
       " 'gw_log10_rho_20',\n",
       " 'gw_log10_rho_21',\n",
       " 'gw_log10_rho_22',\n",
       " 'gw_log10_rho_23',\n",
       " 'gw_log10_rho_24',\n",
       " 'gw_log10_rho_25',\n",
       " 'gw_log10_rho_26',\n",
       " 'gw_log10_rho_27',\n",
       " 'gw_log10_rho_28',\n",
       " 'gw_log10_rho_29']"
      ]
     },
     "execution_count": 17,
     "metadata": {},
     "output_type": "execute_result"
    }
   ],
   "source": [
    "pnames = [pname for pname in pta.param_names]\n",
    "pnames"
   ]
  },
  {
   "cell_type": "code",
   "execution_count": 18,
   "metadata": {},
   "outputs": [],
   "source": [
    "# save paramter list\n",
    "with open(os.path.join('./', \"pars.txt\"), \"w\") as fout:\n",
    "    for pname in pnames:\n",
    "        fout.write(pname + \"\\n\")"
   ]
  },
  {
   "cell_type": "markdown",
   "metadata": {},
   "source": [
    "### Now, construct the model using `models.UniformPrior`"
   ]
  },
  {
   "cell_type": "code",
   "execution_count": 19,
   "metadata": {},
   "outputs": [],
   "source": [
    "o = models.UniformPrior(gwb_psd_func = chosen_psd_model,\n",
    "                orf_func = chosen_orf_model,\n",
    "                crn_bins = crn_bins,\n",
    "                int_bins = int_bins,\n",
    "                f_common = f_common, \n",
    "                f_intrin = f_intrin,\n",
    "                df = 1/Tspan,\n",
    "                Tspan = Tspan, \n",
    "                Npulsars = len(psrs),\n",
    "                psr_pos = [psr.pos for psr in psrs],\n",
    "                gwb_helper_dictionary = gwb_helper_dictionary,\n",
    "                gamma_min = 0,\n",
    "                gamma_max = 7,\n",
    "                log10A_min = -20 + 0.5,\n",
    "                log10A_max = -11 + 0.5,\n",
    "                renorm_const = 1)"
   ]
  },
  {
   "cell_type": "code",
   "execution_count": 20,
   "metadata": {},
   "outputs": [],
   "source": [
    "m  = LC.CURN(psrs = psrs,\n",
    "            device_to_run_likelihood_on = 'cuda',\n",
    "            TNr = jnp.load('./TNr.npy', mmap_mode = 'r'),\n",
    "            TNT = jnp.load('./TNT.npy', mmap_mode = 'r'),\n",
    "            run_type_object = o,\n",
    "            noise_dict = None, \n",
    "            backend = None, \n",
    "            tnequad = False, \n",
    "            inc_ecorr = True, \n",
    "            del_pta_after_init = True,\n",
    "            matrix_stabilization = False)"
   ]
  },
  {
   "cell_type": "code",
   "execution_count": 21,
   "metadata": {},
   "outputs": [],
   "source": [
    "x0 = o.make_initial_guess(key = jar.key(100)) # Some random draw from the prior given an RNG key"
   ]
  },
  {
   "cell_type": "markdown",
   "metadata": {},
   "source": [
    "# Likelihood Comparison"
   ]
  },
  {
   "cell_type": "code",
   "execution_count": 22,
   "metadata": {},
   "outputs": [],
   "source": [
    "def lnlike_offset(params):\n",
    "    likelihood_adjust = 0\n",
    "    likelihood_adjust += -0.5 * np.sum([ell for ell in pta.get_rNr_logdet(params)])\n",
    "    likelihood_adjust += sum(pta.get_logsignalprior(params))\n",
    "    return likelihood_adjust\n",
    "y0 = np.array(x0)\n",
    "y0[-1] = x0[134] \n",
    "y0[134] = x0[-1] \n",
    "params = pta.map_params(y0)\n",
    "ln_offset = lnlike_offset(params)"
   ]
  },
  {
   "cell_type": "code",
   "execution_count": 23,
   "metadata": {},
   "outputs": [
    {
     "name": "stdout",
     "output_type": "stream",
     "text": [
      "1 43492.495810113716 43493.491041834466\n",
      "2 42892.10318886241 42240.14647618402\n",
      "3 43693.465875158734 43699.55953341909\n",
      "4 43303.74356677311 41589.608523029834\n",
      "5 43763.25767917525 43812.545691027306\n",
      "6 42054.93184478585 42716.040726311505\n",
      "7 36637.330118466394 36953.639802444726\n",
      "8 40656.320667804335 40912.45881380234\n",
      "9 42901.70968149616 42068.74924931396\n"
     ]
    }
   ],
   "source": [
    "for _ in np.arange(1, 10, 1, dtype = int):\n",
    "    x0 = o.make_initial_guess(key = jar.key(_))\n",
    "    y0 = np.array(x0)\n",
    "    y0[-1] = x0[134] \n",
    "    y0[134] = x0[-1] \n",
    "    print(_, m.get_lnliklihood(x0), pta.get_lnlikelihood(y0) - ln_offset)"
   ]
  },
  {
   "cell_type": "code",
   "execution_count": 30,
   "metadata": {},
   "outputs": [
    {
     "name": "stdout",
     "output_type": "stream",
     "text": [
      "496 μs ± 27.3 μs per loop (mean ± std. dev. of 7 runs, 100 loops each)\n"
     ]
    }
   ],
   "source": [
    "%timeit m.get_lnliklihood(x0)"
   ]
  },
  {
   "cell_type": "code",
   "execution_count": 31,
   "metadata": {},
   "outputs": [],
   "source": [
    "rhos, _ = o.get_phi_mat_CURN(x0)"
   ]
  },
  {
   "cell_type": "code",
   "execution_count": 40,
   "metadata": {},
   "outputs": [],
   "source": [
    "ent_rhos = np.array(pta.get_phi(pta.map_params(x0)))"
   ]
  },
  {
   "cell_type": "code",
   "execution_count": 44,
   "metadata": {},
   "outputs": [
    {
     "data": {
      "text/plain": [
       "True"
      ]
     },
     "execution_count": 44,
     "metadata": {},
     "output_type": "execute_result"
    }
   ],
   "source": [
    "np.allclose(rhos, ent_rhos.T[0::2])"
   ]
  },
  {
   "cell_type": "code",
   "execution_count": null,
   "metadata": {},
   "outputs": [],
   "source": []
  }
 ],
 "metadata": {
  "kernelspec": {
   "display_name": "pandora",
   "language": "python",
   "name": "python3"
  },
  "language_info": {
   "codemirror_mode": {
    "name": "ipython",
    "version": 3
   },
   "file_extension": ".py",
   "mimetype": "text/x-python",
   "name": "python",
   "nbconvert_exporter": "python",
   "pygments_lexer": "ipython3",
   "version": "3.11.11"
  }
 },
 "nbformat": 4,
 "nbformat_minor": 2
}
