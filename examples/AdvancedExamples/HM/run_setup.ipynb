{
 "cells": [
  {
   "cell_type": "markdown",
   "metadata": {},
   "source": [
    "# Load Needed Packages"
   ]
  },
  {
   "cell_type": "code",
   "execution_count": 1,
   "metadata": {},
   "outputs": [
    {
     "name": "stderr",
     "output_type": "stream",
     "text": [
      "/home/koonima/anaconda3/envs/pandora/lib/python3.11/site-packages/pandora/GWBFunctions.py:11: UserWarning: The package `interpax` is needed for spline interpolation of ORF.\n",
      "  warnings.warn(\"The package `interpax` is needed for spline interpolation of ORF.\")\n"
     ]
    },
    {
     "name": "stdout",
     "output_type": "stream",
     "text": [
      "Optional mpi4py package is not installed.  MPI support is not available.\n"
     ]
    }
   ],
   "source": [
    "import jax\n",
    "import jax.numpy as jnp\n",
    "import jax.scipy as jsp\n",
    "import jax.random as jar\n",
    "# jax.config.update('jax_platform_name', 'cuda')\n",
    "# jax.config.update(\"jax_enable_x64\", False)\n",
    "import numpy as np\n",
    "from pandora import models, utils, GWBFunctions\n",
    "from pandora import LikelihoodCalculator as LC\n",
    "from enterprise_extensions.model_utils import get_tspan\n",
    "import pickle, json, os, corner, glob, random, copy, time, inspect\n",
    "import matplotlib.pyplot as plt\n",
    "from matplotlib.ticker import AutoMinorLocator\n",
    "import matplotlib.lines as mlines\n",
    "\n",
    "plt.style.use('dark_background')\n",
    "hist_settings = dict(\n",
    "    bins = 40,\n",
    "    histtype = 'step',\n",
    "    lw = 3,\n",
    "    density = True\n",
    ")\n",
    "\n",
    "%matplotlib inline\n",
    "%config InlineBackend.figure_format = 'retina'\n",
    "%load_ext autoreload\n",
    "%autoreload 2\n",
    "# %load_ext line_profiler"
   ]
  },
  {
   "cell_type": "markdown",
   "metadata": {},
   "source": [
    "# Choose a data set"
   ]
  },
  {
   "cell_type": "code",
   "execution_count": 2,
   "metadata": {},
   "outputs": [
    {
     "name": "stderr",
     "output_type": "stream",
     "text": [
      "libstempo not installed. PINT or libstempo are required to use par and tim files.\n"
     ]
    }
   ],
   "source": [
    "datadir = '/home/koonima/FAST/Data/Pickle/'\n",
    "with open(datadir + f'v1p1_de440_pint_bipm2019.pkl', 'rb') as fin:\n",
    "    psrs = pickle.load(fin)\n",
    "psrlist = [psr.name for psr in psrs]\n",
    "with open(datadir + f'v1p1_all_dict.json', 'r') as fin:\n",
    "    noise_dict = json.load(fin)\n",
    "inc_ecorr = True\n",
    "backend = 'backend'\n",
    "tnequad = False"
   ]
  },
  {
   "cell_type": "markdown",
   "metadata": {},
   "source": [
    "# Step 1: Model Construction"
   ]
  },
  {
   "cell_type": "markdown",
   "metadata": {},
   "source": [
    "## Frequency-bins"
   ]
  },
  {
   "cell_type": "code",
   "execution_count": 3,
   "metadata": {},
   "outputs": [],
   "source": [
    "Tspan = get_tspan(psrs) # The time-span of the entire PTA\n",
    "crn_bins = 14 # number of frequency-bins for the GWB\n",
    "int_bins = 30 # number of frequency-bins for the non-GWB (IRN) red noise\n",
    "assert int_bins >= crn_bins\n",
    "f_intrin = jnp.arange(1/Tspan, (int_bins + 0.01)/Tspan, 1/Tspan) # an array of frequency-bins for the IRN process\n",
    "f_common = f_intrin[:crn_bins] # an array of frequency-bins for the common process\n",
    "renorm_const = 1 # the factor by which the units are going to change (divided by). Set it to `1` for no unit change (seconds), or let it be `1e9` (nano seconds)"
   ]
  },
  {
   "cell_type": "markdown",
   "metadata": {},
   "source": [
    "## GWB PSD Model 1"
   ]
  },
  {
   "cell_type": "code",
   "execution_count": 4,
   "metadata": {},
   "outputs": [
    {
     "data": {
      "text/plain": [
       "{'ordered_gwb_psd_model_params': array(['log10_A', 'gamma'], dtype='<U7'),\n",
       " 'varied_gwb_psd_params': [np.str_('log10_A'), np.str_('gamma')],\n",
       " 'gwb_psd_param_lower_lim': Array([-18.,   0.], dtype=float64),\n",
       " 'gwb_psd_param_upper_lim': Array([-11.,   7.], dtype=float64)}"
      ]
     },
     "execution_count": 4,
     "metadata": {},
     "output_type": "execute_result"
    }
   ],
   "source": [
    "chosen_psd_model1, chosen_orf_model1, gwb_helper_dictionary1 = utils.varied_gamma_hd_pl(renorm_const=renorm_const, lower_amp=-18.0, upper_amp=-11.0)\n",
    "gwb_helper_dictionary1"
   ]
  },
  {
   "cell_type": "code",
   "execution_count": 5,
   "metadata": {},
   "outputs": [],
   "source": [
    "o1 = models.UniformPrior(gwb_psd_func = chosen_psd_model1,\n",
    "                orf_func = chosen_orf_model1,\n",
    "                crn_bins = crn_bins,\n",
    "                int_bins = int_bins,\n",
    "                f_common = f_common, \n",
    "                f_intrin = f_intrin,\n",
    "                df = 1/Tspan,\n",
    "                Tspan = Tspan, \n",
    "                Npulsars = len(psrs),\n",
    "                psr_pos = [psr.pos for psr in psrs],\n",
    "                gwb_helper_dictionary = gwb_helper_dictionary1,\n",
    "                gamma_min = 0,\n",
    "                gamma_max = 7,\n",
    "                log10A_min = -20. + 0.5 * jnp.log10(renorm_const), #`0.5 * jnp.log10(renorm_const)` is added to account for change in units,\n",
    "                log10A_max = -11. + 0.5 * jnp.log10(renorm_const), #`0.5 * jnp.log10(renorm_const)` is added to account for change in units,\n",
    "                renorm_const = renorm_const)"
   ]
  },
  {
   "cell_type": "code",
   "execution_count": 6,
   "metadata": {},
   "outputs": [
    {
     "name": "stderr",
     "output_type": "stream",
     "text": [
      "Package `fastshermanmorrison` not installed. Fallback to sherman-morrison\n"
     ]
    }
   ],
   "source": [
    "m1  = LC.MultiPulsarModel(psrs = psrs,\n",
    "                        device_to_run_likelihood_on = 'cuda',\n",
    "                        TNr=jnp.array([False]),\n",
    "                        TNT=jnp.array([False]),\n",
    "                        run_type_object = o1,\n",
    "                        noise_dict = noise_dict, \n",
    "                        backend = 'backend', \n",
    "                        tnequad = False, \n",
    "                        inc_ecorr = True, \n",
    "                        del_pta_after_init = True,\n",
    "                        matrix_stabilization = False)"
   ]
  },
  {
   "cell_type": "markdown",
   "metadata": {},
   "source": [
    "## GWB PSD Model 2"
   ]
  },
  {
   "cell_type": "code",
   "execution_count": 7,
   "metadata": {},
   "outputs": [
    {
     "data": {
      "text/plain": [
       "{'ordered_gwb_psd_model_params': array(['log10_A', 'gamma'], dtype='<U7'),\n",
       " 'varied_gwb_psd_params': [np.str_('log10_A'), np.str_('gamma')],\n",
       " 'gwb_psd_param_lower_lim': Array([-18.,   0.], dtype=float64),\n",
       " 'gwb_psd_param_upper_lim': Array([-11.,   7.], dtype=float64)}"
      ]
     },
     "execution_count": 7,
     "metadata": {},
     "output_type": "execute_result"
    }
   ],
   "source": [
    "chosen_psd_model2, chosen_orf_model2, gwb_helper_dictionary2 = utils.varied_gamma_hd_pl(renorm_const=renorm_const, lower_amp=-18.0, upper_amp=-11.0)\n",
    "gwb_helper_dictionary2"
   ]
  },
  {
   "cell_type": "code",
   "execution_count": 8,
   "metadata": {},
   "outputs": [],
   "source": [
    "o2 = models.UniformPrior(gwb_psd_func = chosen_psd_model2,\n",
    "                orf_func = chosen_orf_model2,\n",
    "                crn_bins = crn_bins,\n",
    "                int_bins = int_bins,\n",
    "                f_common = f_common, \n",
    "                f_intrin = f_intrin,\n",
    "                df = 1/Tspan,\n",
    "                Tspan = Tspan, \n",
    "                Npulsars = len(psrs),\n",
    "                psr_pos = [psr.pos for psr in psrs],\n",
    "                gwb_helper_dictionary = gwb_helper_dictionary2,\n",
    "                gamma_min = 0,\n",
    "                gamma_max = 7,\n",
    "                log10A_min = -20 + 0.5 * jnp.log10(renorm_const), #`0.5 * jnp.log10(renorm_const)` is added to account for change in units,\n",
    "                log10A_max = -11 + 0.5 * jnp.log10(renorm_const), #`0.5 * jnp.log10(renorm_const)` is added to account for change in units,\n",
    "                renorm_const = renorm_const)"
   ]
  },
  {
   "cell_type": "code",
   "execution_count": 9,
   "metadata": {},
   "outputs": [
    {
     "name": "stdout",
     "output_type": "stream",
     "text": [
      "The delta is 1e-06\n",
      "The max condition number of the TNT matrix before stabilizing is: 2.0092837977388298e+18\n",
      "The max condition number of the TNT matrix after stabilizing is: 9.110305305490688e+12\n"
     ]
    }
   ],
   "source": [
    "m2  = LC.CURN(psrs = psrs,\n",
    "                device_to_run_likelihood_on = 'cuda',\n",
    "                TNr=jnp.array([False]),\n",
    "                TNT=jnp.array([False]),\n",
    "                run_type_object = o2,\n",
    "                noise_dict = noise_dict, \n",
    "                backend = 'backend', \n",
    "                tnequad = False, \n",
    "                inc_ecorr = True, \n",
    "                del_pta_after_init = True,\n",
    "                matrix_stabilization = True)"
   ]
  },
  {
   "cell_type": "markdown",
   "metadata": {},
   "source": [
    "# Construct the HM"
   ]
  },
  {
   "cell_type": "code",
   "execution_count": 10,
   "metadata": {},
   "outputs": [],
   "source": [
    "hm_object = LC.TwoModelHyperModel(model1=m1, model2=m2, \n",
    "                                    log_weights = [0., np.log(250)], device='cuda'\n",
    "                                    )"
   ]
  },
  {
   "cell_type": "code",
   "execution_count": 11,
   "metadata": {},
   "outputs": [
    {
     "data": {
      "text/plain": [
       "(139,)"
      ]
     },
     "execution_count": 11,
     "metadata": {},
     "output_type": "execute_result"
    }
   ],
   "source": [
    "x0 = hm_object.make_initial_guess(101)\n",
    "x0[-1] = 0.4\n",
    "x0.shape"
   ]
  },
  {
   "cell_type": "code",
   "execution_count": 12,
   "metadata": {},
   "outputs": [
    {
     "data": {
      "text/plain": [
       "(Array(45243.27389851, dtype=float64),\n",
       " Array(-8.01, dtype=float64, weak_type=True))"
      ]
     },
     "execution_count": 12,
     "metadata": {},
     "output_type": "execute_result"
    }
   ],
   "source": [
    "hm_object.get_lnliklihood(x0), hm_object.get_lnprior(x0)"
   ]
  },
  {
   "cell_type": "code",
   "execution_count": 13,
   "metadata": {},
   "outputs": [
    {
     "data": {
      "text/plain": [
       "(139,)"
      ]
     },
     "execution_count": 13,
     "metadata": {},
     "output_type": "execute_result"
    }
   ],
   "source": [
    "x0 = hm_object.make_initial_guess(101)\n",
    "x0[-1] = 0.9\n",
    "x0.shape"
   ]
  },
  {
   "cell_type": "code",
   "execution_count": 14,
   "metadata": {},
   "outputs": [
    {
     "data": {
      "text/plain": [
       "(Array(42576.81034547, dtype=float64),\n",
       " Array(-8.01, dtype=float64, weak_type=True))"
      ]
     },
     "execution_count": 14,
     "metadata": {},
     "output_type": "execute_result"
    }
   ],
   "source": [
    "hm_object.get_lnliklihood(x0), hm_object.get_lnprior(x0)"
   ]
  },
  {
   "cell_type": "code",
   "execution_count": 15,
   "metadata": {},
   "outputs": [
    {
     "data": {
      "text/plain": [
       "(139,)"
      ]
     },
     "execution_count": 15,
     "metadata": {},
     "output_type": "execute_result"
    }
   ],
   "source": [
    "x0 = hm_object.make_initial_guess_jax(jar.key(100))\n",
    "x0.shape"
   ]
  },
  {
   "cell_type": "code",
   "execution_count": 16,
   "metadata": {},
   "outputs": [],
   "source": [
    "# %timeit hm_object.get_lnliklihood(x0)"
   ]
  },
  {
   "cell_type": "code",
   "execution_count": 17,
   "metadata": {},
   "outputs": [],
   "source": [
    "# %timeit hm_object.get_lnprior(x0)"
   ]
  },
  {
   "cell_type": "code",
   "execution_count": 18,
   "metadata": {},
   "outputs": [],
   "source": [
    "# %timeit hm_object.model1.get_lnliklihood(x0[:-3])"
   ]
  },
  {
   "cell_type": "markdown",
   "metadata": {},
   "source": [
    "## Sampling"
   ]
  },
  {
   "cell_type": "code",
   "execution_count": null,
   "metadata": {},
   "outputs": [],
   "source": [
    "hm_object.sample(x0 = np.array(x0), niter = int(6e6), savedir = '../testnew/HM/', \n",
    "         resume=True)"
   ]
  },
  {
   "cell_type": "markdown",
   "metadata": {},
   "source": [
    "# numpyro NUTS Sampler (experimental for HM)"
   ]
  },
  {
   "cell_type": "code",
   "execution_count": 20,
   "metadata": {},
   "outputs": [
    {
     "name": "stderr",
     "output_type": "stream",
     "text": [
      "/home/koonima/anaconda3/envs/pandora/lib/python3.11/site-packages/tqdm/auto.py:21: TqdmWarning: IProgress not found. Please update jupyter and ipywidgets. See https://ipywidgets.readthedocs.io/en/stable/user_install.html\n",
      "  from .autonotebook import tqdm as notebook_tqdm\n"
     ]
    }
   ],
   "source": [
    "import numpyro\n",
    "from numpyro import distributions as dist\n",
    "from numpyro import infer"
   ]
  },
  {
   "cell_type": "code",
   "execution_count": 21,
   "metadata": {},
   "outputs": [],
   "source": [
    "# ll1 = jnp.array(m1.lower_prior_lim_all)\n",
    "# ul1 = jnp.array(m1.upper_prior_lim_all)\n",
    "\n",
    "# ll2 = jnp.array(m2.lower_prior_lim_all)\n",
    "# ul2 = jnp.array(m2.upper_prior_lim_all)\n",
    "\n",
    "ll = jnp.array(hm_object.lower_prior_lim_all)[:-1]\n",
    "ul = jnp.array(hm_object.upper_prior_lim_all)[:-1]"
   ]
  },
  {
   "cell_type": "code",
   "execution_count": 22,
   "metadata": {},
   "outputs": [
    {
     "data": {
      "text/plain": [
       "((138,), (138,))"
      ]
     },
     "execution_count": 22,
     "metadata": {},
     "output_type": "execute_result"
    }
   ],
   "source": [
    "ll.shape, ul.shape"
   ]
  },
  {
   "cell_type": "code",
   "execution_count": 23,
   "metadata": {},
   "outputs": [],
   "source": [
    "def model():\n",
    "\n",
    "    probs = numpyro.sample(\"probs\", dist.Uniform(low = 0., high = 1.))\n",
    "    nmodel = numpyro.sample(\"nmodel\", dist.Categorical(jnp.array([probs, 1-probs])))\n",
    "    xs = numpyro.sample(\"p1s\", dist.Uniform(low = ll, high = ul))\n",
    "\n",
    "    idxs = jax.lax.cond(nmodel, hm_object.x_to_x2_indices, hm_object.x_to_x1_indices)\n",
    "\n",
    "    lik = jax.lax.cond(\n",
    "            nmodel,\n",
    "            m2.get_lnliklihood,\n",
    "            m1.get_lnliklihood,\n",
    "            xs[idxs],\n",
    "        )\n",
    "    numpyro.factor(\"lnlik\", lik)"
   ]
  },
  {
   "cell_type": "code",
   "execution_count": 24,
   "metadata": {},
   "outputs": [],
   "source": [
    "infer_object = infer.MCMC(\n",
    "    infer.NUTS(model),\n",
    "    num_warmup=250,\n",
    "    num_samples=int(1e4) + 250,\n",
    "    num_chains=4,\n",
    "    progress_bar=True,\n",
    "    chain_method='vectorized')\n"
   ]
  },
  {
   "cell_type": "code",
   "execution_count": 25,
   "metadata": {},
   "outputs": [],
   "source": [
    "# infer_object.run(jax.random.key(100))"
   ]
  },
  {
   "cell_type": "code",
   "execution_count": null,
   "metadata": {},
   "outputs": [
    {
     "name": "stderr",
     "output_type": "stream",
     "text": [
      "warmup:   0%|          | 6/4250 [00:58<18:20:03, 15.55s/it, 63 steps of size 5.53e-06. acc. prob=0.02]"
     ]
    }
   ],
   "source": [
    "kernel = infer.DiscreteHMCGibbs(infer.NUTS(model), modified=True)\n",
    "mcmc = infer.MCMC(kernel, num_warmup=250, num_samples=4000, progress_bar=True, num_chains=1,chain_method=jax.vmap)\n",
    "mcmc.run(jax.random.key(100))"
   ]
  },
  {
   "cell_type": "code",
   "execution_count": null,
   "metadata": {},
   "outputs": [
    {
     "data": {
      "text/plain": [
       "{'nmodel': Array([1, 1, 1, 1, 1, 1, 1, 1, 1, 1, 1, 1, 1, 1, 1, 1, 1, 1, 1, 1, 1, 1,\n",
       "        1, 1, 1, 1, 1, 1, 1, 1, 1, 1, 1, 1, 1, 1, 1, 1, 1, 1, 1, 1, 1, 1,\n",
       "        1, 1, 1, 1, 1, 1, 1, 1, 1, 1, 1, 1, 1, 1, 1, 1, 1, 1, 1, 1, 1, 1,\n",
       "        1, 1, 1, 1, 1, 1, 1, 1, 1, 1, 1, 1, 1, 1, 1, 1, 1, 1, 1, 1, 1, 1,\n",
       "        1, 1, 1, 1, 1, 1, 1, 1, 1, 1, 1, 1, 1, 1, 1, 1, 1, 1, 1, 1, 1, 1,\n",
       "        1, 1, 1, 1, 1, 1, 1, 1, 1, 1, 1, 1, 1, 1, 1, 1, 1, 1, 1, 1, 1, 1,\n",
       "        1, 1, 1, 1, 1, 1, 1, 1, 1, 1, 0, 0, 0, 0, 0, 0, 0, 0, 0, 0, 0, 0,\n",
       "        0, 0, 0, 0, 0, 0, 0, 0, 0, 0, 1, 1, 1, 1, 1, 1, 1, 1, 1, 1, 1, 1,\n",
       "        1, 1, 1, 1, 1, 1, 1, 1, 1, 1, 1, 1, 1, 1, 1, 1, 1, 1, 1, 1, 1, 1,\n",
       "        1, 1, 1, 1, 1, 1, 1, 1, 1, 1, 1, 1, 1, 1, 1, 1, 1, 1, 1, 1, 1, 0,\n",
       "        0, 0, 0, 0, 0, 0, 0, 0, 1, 1, 1, 1, 1, 1, 1, 1, 1, 1, 1, 1, 1, 1,\n",
       "        1, 1, 1, 1, 1, 1, 1, 1, 1, 1, 1, 1, 1, 1, 1, 1, 1, 1, 1, 1, 1, 1,\n",
       "        1, 1, 1, 1, 1, 1, 1, 1, 1, 1, 1, 1, 1, 1, 1, 1, 1, 1, 1, 1, 1, 1,\n",
       "        1, 1, 1, 1, 1, 1, 1, 1, 1, 1, 1, 1, 1, 1, 1, 1, 1, 1, 1, 1, 1, 1,\n",
       "        1, 1, 1, 1, 1, 1, 1, 1, 1, 1, 1, 1, 1, 1, 1, 1, 1, 1, 1, 1, 1, 1,\n",
       "        1, 1, 1, 1, 1, 1, 1, 1, 1, 1, 1, 1, 1, 1, 1, 1, 1, 1, 1, 1, 1, 1,\n",
       "        1, 1, 1, 1, 1, 1, 1, 1, 1, 1, 1, 1, 1, 1, 1, 1, 1, 1, 1, 1, 1, 1,\n",
       "        1, 1, 1, 1, 1, 1, 1, 1, 1, 1, 1, 1, 1, 1, 1, 1, 1, 1, 1, 1, 1, 1,\n",
       "        1, 1, 1, 1, 1, 1, 1, 1, 1, 1, 1, 1, 1, 1, 1, 1, 1, 1, 1, 1, 1, 1,\n",
       "        1, 1, 1, 1, 1, 1, 1, 1, 1, 1, 1, 1, 1, 1, 1, 1, 1, 1, 1, 1, 1, 1,\n",
       "        1, 1, 1, 1, 1, 1, 1, 1, 1, 1, 1, 1, 1, 1, 1, 1, 1, 1, 1, 1, 1, 1,\n",
       "        1, 1, 1, 1, 1, 1, 1, 1, 1, 1, 1, 1, 1, 1, 1, 1, 1, 1, 1, 1, 1, 1,\n",
       "        1, 1, 1, 1, 1, 1, 1, 1, 1, 1, 1, 1, 1, 1, 1, 1, 1, 1, 1, 1, 1, 1,\n",
       "        0, 0, 0, 0, 0, 0, 0, 0, 0, 0, 0, 0, 0, 0, 0, 0, 0, 0, 0, 0, 0, 0,\n",
       "        0, 0, 0, 0, 0, 0, 0, 0, 0, 0, 0, 0, 0, 0, 0, 0, 0, 0, 0, 0, 0, 0,\n",
       "        0, 0, 0, 0, 0, 0, 0, 0, 0, 0, 0, 0, 0, 0, 0, 0, 0, 0, 0, 0, 0, 0,\n",
       "        0, 0, 0, 0, 0, 0, 0, 0, 0, 0, 0, 0, 0, 0, 0, 0, 0, 0, 0, 0, 0, 0,\n",
       "        0, 0, 0, 0, 0, 0, 0, 0, 0, 0, 0, 0, 0, 0, 0, 0, 0, 0, 0, 0, 0, 0,\n",
       "        0, 0, 0, 0, 0, 0, 0, 0, 0, 0, 0, 0, 0, 0, 0, 0, 0, 0, 0, 0, 0, 0,\n",
       "        0, 0, 0, 0, 0, 0, 0, 0, 0, 0, 0, 0, 0, 0, 0, 0, 0, 0, 0, 0, 0, 0,\n",
       "        0, 0, 0, 0, 0, 0, 0, 0, 0, 0, 0, 0, 0, 0, 0, 0, 0, 0, 0, 0, 0, 0,\n",
       "        0, 0, 0, 0, 0, 0, 0, 0, 0, 0, 0, 0, 0, 0, 0, 0, 0, 0, 0, 0, 0, 0,\n",
       "        0, 0, 0, 0, 0, 0, 0, 0, 0, 0, 0, 0, 0, 0, 0, 0, 0, 0, 0, 0, 0, 0,\n",
       "        0, 0, 0, 0, 0, 0, 0, 0, 0, 0, 0, 0, 0, 0, 0, 0, 0, 0, 0, 0, 0, 0,\n",
       "        0, 0, 0, 0, 0, 0, 0, 0, 0, 0, 0, 0, 0, 0, 0, 0, 0, 0, 0, 0, 0, 0,\n",
       "        0, 0, 0, 0, 0, 0, 0, 0, 0, 0, 0, 0, 0, 0, 0, 0, 0, 0, 0, 0, 0, 0,\n",
       "        0, 0, 0, 0, 0, 0, 0, 0, 0, 0, 0, 0, 0, 0, 0, 0, 0, 0, 0, 0, 0, 0,\n",
       "        0, 0, 0, 0, 0, 0, 0, 0, 0, 0, 0, 0, 0, 0, 0, 0, 0, 0, 0, 0, 0, 0,\n",
       "        0, 0, 0, 0, 0, 0, 0, 0, 0, 0, 0, 0, 0, 0, 0, 0, 0, 0, 0, 0, 0, 0,\n",
       "        0, 0, 0, 0, 0, 0, 0, 0, 0, 0, 0, 0, 0, 0, 0, 0, 0, 0, 0, 0, 0, 0,\n",
       "        0, 0, 0, 0, 0, 0, 0, 0, 0, 0, 0, 0, 0, 0, 0, 0, 0, 0, 0, 0, 0, 0,\n",
       "        0, 0, 0, 0, 0, 0, 0, 0, 0, 0, 0, 0, 0, 0, 0, 0, 0, 0, 0, 0, 0, 0,\n",
       "        0, 0, 0, 0, 0, 0, 0, 0, 0, 0, 0, 0, 0, 0, 0, 0, 0, 0, 0, 0, 0, 0,\n",
       "        0, 0, 0, 0, 0, 0, 0, 0, 0, 0, 0, 0, 0, 0, 0, 0, 0, 0, 0, 0, 0, 0,\n",
       "        0, 0, 0, 0, 0, 0, 0, 0, 0, 0, 0, 0, 0, 0, 0, 0, 0, 0, 0, 0, 0, 0,\n",
       "        0, 0, 0, 0, 0, 0, 0, 0, 0, 0], dtype=int64),\n",
       " 'p1s': Array([[  4.39480352, -14.29647447,   3.7567065 , ..., -14.11844101,\n",
       "           3.01331777,   0.79237468],\n",
       "        [  4.79607077, -14.32818942,   3.43978245, ..., -14.28360131,\n",
       "           3.54172752,   0.89498574],\n",
       "        [  4.2271855 , -14.35633132,   4.22500899, ..., -14.09860745,\n",
       "           3.22632144,   0.14225345],\n",
       "        ...,\n",
       "        [  3.86101573, -13.90967173,   4.70079605, ..., -14.12990041,\n",
       "           3.0685706 ,   0.06515732],\n",
       "        [  3.86101573, -13.90967173,   4.70079605, ..., -14.12990041,\n",
       "           3.0685706 ,   0.06515732],\n",
       "        [  3.86101573, -13.90967173,   4.70079605, ..., -14.12990041,\n",
       "           3.0685706 ,   0.06515732]], dtype=float64)}"
      ]
     },
     "execution_count": 61,
     "metadata": {},
     "output_type": "execute_result"
    }
   ],
   "source": [
    "samps = mcmc.get_samples()\n",
    "samps"
   ]
  },
  {
   "cell_type": "code",
   "execution_count": null,
   "metadata": {},
   "outputs": [
    {
     "data": {
      "text/plain": [
       "(1000, 139)"
      ]
     },
     "execution_count": 63,
     "metadata": {},
     "output_type": "execute_result"
    }
   ],
   "source": [
    "samps['p1s'].shape"
   ]
  },
  {
   "cell_type": "code",
   "execution_count": null,
   "metadata": {},
   "outputs": [
    {
     "data": {
      "image/png": "[encoded data removed]",
      "text/plain": [
       "<Figure size 640x480 with 1 Axes>"
      ]
     },
     "metadata": {
      "image/png": {
       "height": 413,
       "width": 547
      }
     },
     "output_type": "display_data"
    }
   ],
   "source": [
    "plt.hist(samps['p1s'][:, -4], **hist_settings)\n",
    "plt.show()"
   ]
  },
  {
   "cell_type": "code",
   "execution_count": null,
   "metadata": {},
   "outputs": [
    {
     "data": {
      "text/plain": [
       "Array(475, dtype=int64)"
      ]
     },
     "execution_count": 72,
     "metadata": {},
     "output_type": "execute_result"
    }
   ],
   "source": [
    "samps['nmodel'].sum()"
   ]
  },
  {
   "cell_type": "code",
   "execution_count": null,
   "metadata": {},
   "outputs": [],
   "source": []
  },
  {
   "cell_type": "code",
   "execution_count": null,
   "metadata": {},
   "outputs": [],
   "source": []
  }
 ],
 "metadata": {
  "kernelspec": {
   "display_name": "pandora",
   "language": "python",
   "name": "python3"
  },
  "language_info": {
   "codemirror_mode": {
    "name": "ipython",
    "version": 3
   },
   "file_extension": ".py",
   "mimetype": "text/x-python",
   "name": "python",
   "nbconvert_exporter": "python",
   "pygments_lexer": "ipython3",
   "version": "3.11.11"
  }
 },
 "nbformat": 4,
 "nbformat_minor": 2
}
