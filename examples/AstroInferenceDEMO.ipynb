{
 "cells": [
  {
   "cell_type": "markdown",
   "metadata": {},
   "source": [
    "# Load Needed Packages"
   ]
  },
  {
   "cell_type": "markdown",
   "metadata": {},
   "source": [
    "#### Note: if you want to change precision or device of JAX, the best way to do it is to follow (as an example)\n",
    "#### `conda activate <your env name>`\n",
    "#### `conda env config vars set JAX_ENABLE_X64=True`\n",
    "#### `conda env config vars set jax_platform_name=cpu`\n",
    "#### `conda activate <your env name>`\n",
    "#### Make sure to restart VScode or jupyter notebook after this! `jax.config.update(\"jax_enable_x64\", False)` may or may not work because I define default jax arrays in my python codes."
   ]
  },
  {
   "cell_type": "code",
   "execution_count": 1,
   "metadata": {},
   "outputs": [
    {
     "name": "stderr",
     "output_type": "stream",
     "text": [
      "/home/koonima/FAST/FLASH/GWBFunctions.py:11: UserWarning: The package `interpax` is needed for spline interpolation of ORF.\n",
      "  warnings.warn(\"The package `interpax` is needed for spline interpolation of ORF.\")\n"
     ]
    },
    {
     "name": "stdout",
     "output_type": "stream",
     "text": [
      "The fastshermanmorrison package is not found. The single pulsar analyses are much faster with the fast algorithm!\n",
      "Optional mpi4py package is not installed.  MPI support is not available.\n"
     ]
    }
   ],
   "source": [
    "import jax\n",
    "import jax.numpy as jnp\n",
    "import jax.scipy as jsp\n",
    "import jax.random as jar\n",
    "import nf_dist\n",
    "# jax.config.update('jax_platform_name', 'cuda')\n",
    "# jax.config.update(\"jax_enable_x64\", False)\n",
    "import torch\n",
    "import numpy as np\n",
    "from scipy.stats import norm\n",
    "import models, utils, GWBFunctions\n",
    "import LikelihoodCalculator as LC\n",
    "from enterprise_extensions.model_utils import get_tspan\n",
    "import pickle, json, os, corner, glob, random, copy, time, inspect\n",
    "import matplotlib.pyplot as plt\n",
    "from matplotlib.ticker import AutoMinorLocator\n",
    "import matplotlib.lines as mlines\n",
    "\n",
    "import torch.utils.dlpack as td\n",
    "import jax.dlpack as jd\n",
    "\n",
    "plt.style.use('dark_background')\n",
    "hist_settings = dict(\n",
    "    bins = 40,\n",
    "    histtype = 'step',\n",
    "    lw = 3,\n",
    "    density = True\n",
    ")\n",
    "\n",
    "%matplotlib inline\n",
    "%config InlineBackend.figure_format = 'retina'\n",
    "%load_ext autoreload\n",
    "%autoreload 2\n",
    "# %load_ext line_profiler"
   ]
  },
  {
   "cell_type": "markdown",
   "metadata": {},
   "source": [
    "# Choose a data set"
   ]
  },
  {
   "cell_type": "code",
   "execution_count": 2,
   "metadata": {},
   "outputs": [],
   "source": [
    "dsets = ['SIMG45', 'SIMG', 'GSIM', 'GSIMNULL', 'GSIMRED', 'SIMRed', 'SIMBase', 'NIMCast', '15SIM', '12p5', 'A4Cast', 'SIMNULL', 'NIMCast', '15yr', 'AJAXPaper', 'SIMCurn']"
   ]
  },
  {
   "cell_type": "code",
   "execution_count": 3,
   "metadata": {},
   "outputs": [
    {
     "data": {
      "text/plain": [
       "'15yr'"
      ]
     },
     "execution_count": 3,
     "metadata": {},
     "output_type": "execute_result"
    }
   ],
   "source": [
    "id = -3\n",
    "cname = dsets[id]\n",
    "cname"
   ]
  },
  {
   "cell_type": "code",
   "execution_count": 4,
   "metadata": {},
   "outputs": [
    {
     "data": {
      "text/plain": [
       "'15yr'"
      ]
     },
     "execution_count": 4,
     "metadata": {},
     "output_type": "execute_result"
    }
   ],
   "source": [
    "crn_bins = 5\n",
    "Npulsars = 67\n",
    "noise_dict = {}\n",
    "# cname = names[0][0]\n",
    "cname"
   ]
  },
  {
   "cell_type": "code",
   "execution_count": 5,
   "metadata": {},
   "outputs": [
    {
     "name": "stdout",
     "output_type": "stream",
     "text": [
      "Warning: cannot find astropy, units support will not be available.\n"
     ]
    }
   ],
   "source": [
    "if cname == '12p5':\n",
    "    rr = 0\n",
    "    with open(f'../Data/Pickle/channelized_12yr_v3_partim_DE438.pkl', 'rb') as fin:\n",
    "        psrs = pickle.load(fin)\n",
    "    psrlist = [psr.name for psr in psrs]\n",
    "    with open(f'../Data/Pickle/channelized_12p5yr_v3_full_noisedict.json', 'r') as fin:\n",
    "        nd = json.load(fin)\n",
    "    for k, v in nd.items():\n",
    "        if 'equad' in k:\n",
    "            noise_dict.update({k.replace('equad','tnequad' ):v})\n",
    "        else:\n",
    "            noise_dict.update({k:v})\n",
    "elif cname == '15yr':\n",
    "    rr = 0\n",
    "    with open(f'../Data/Pickle/v1p1_de440_pint_bipm2019.pkl', 'rb') as fin:\n",
    "        psrs = pickle.load(fin)[:Npulsars]\n",
    "    psrlist = [psr.name for psr in psrs]\n",
    "    with open(f'../Data/Pickle/v1p1_all_dict.json', 'r') as fin:\n",
    "        noise_dict = json.load(fin)\n",
    "    inc_ecorr = True\n",
    "    backend = 'backend'\n",
    "    tnequad = False\n",
    "    \n",
    "else:\n",
    "    rr = 2\n",
    "    with open(f'../DEMO/Data/Pickle/{cname}/{rr}.pkl', 'rb') as fin:\n",
    "        psrs = pickle.load(fin)\n",
    "    len(psrs)\n",
    "    psrlist = [psr.name for psr in psrs]\n",
    "    for pname in psrlist:\n",
    "        noise_dict.update({pname + '_efac': 1.0})\n",
    "        noise_dict.update({pname + '_log10_t2equad': -np.inf})"
   ]
  },
  {
   "cell_type": "markdown",
   "metadata": {},
   "source": [
    "# Step 1: Model Construction for GWB"
   ]
  },
  {
   "cell_type": "markdown",
   "metadata": {},
   "source": [
    "## Frequency-bins"
   ]
  },
  {
   "cell_type": "code",
   "execution_count": 6,
   "metadata": {},
   "outputs": [],
   "source": [
    "Tspan = get_tspan(psrs) # The time-span of the entire PTA\n",
    "crn_bins = 5 # number of frequency-bins for the GWB\n",
    "int_bins = 30 # number of frequency-bins for the non-GWB (IRN) red noise\n",
    "assert int_bins > crn_bins\n",
    "f_intrin = jnp.arange(1/Tspan, (int_bins + 0.01)/Tspan, 1/Tspan) # an array of frequency-bins for the IRN process\n",
    "f_common = f_intrin[:crn_bins] # an array of frequency-bins for the common process\n",
    "renorm_const = 1e9 # the factor by which the units are going to change (divided by). Set it to `1` for no unit change (seconds), or let it be `1e9` (nano seconds) for better performance."
   ]
  },
  {
   "cell_type": "markdown",
   "metadata": {},
   "source": [
    "## GWB PSD model"
   ]
  },
  {
   "cell_type": "markdown",
   "metadata": {},
   "source": [
    "### A dictionary is used to store the necessary information about GWB PSD. You can either use the `utils.param_order_help` to make your own dictionary or use one of the pre-made ones. Take a look at `GWBFunctions.py` for a list of supported PSD as well as GWB ORF functions."
   ]
  },
  {
   "cell_type": "markdown",
   "metadata": {},
   "source": [
    "### For example, choose a GWB with HD correlations and fixed spectral index (at 13/3) powerlaw PSD."
   ]
  },
  {
   "cell_type": "code",
   "execution_count": 7,
   "metadata": {},
   "outputs": [
    {
     "data": {
      "text/plain": [
       "{'ordered_gwb_psd_model_params': array(['halflog10_rho'], dtype='<U13'),\n",
       " 'varied_gwb_psd_params': ['halflog10_rho'],\n",
       " 'gwb_psd_param_lower_lim': Array([-4.5, -4.5, -4.5, -4.5, -4.5], dtype=float64),\n",
       " 'gwb_psd_param_upper_lim': Array([3.5, 3.5, 3.5, 3.5, 3.5], dtype=float64)}"
      ]
     },
     "execution_count": 7,
     "metadata": {},
     "output_type": "execute_result"
    }
   ],
   "source": [
    "# chosen_psd_model, chosen_orf_model, gwb_helper_dictionary = utils.fixed_gamma_hd_pl(renorm_const=renorm_const)\n",
    "chosen_psd_model, chosen_orf_model, gwb_helper_dictionary = utils.hd_spectrum(renorm_const=renorm_const,crn_bins=crn_bins)\n",
    "# chosen_psd_model, chosen_orf_model, gwb_helper_dictionary = utils.varied_gamma_hd_pl(renorm_const=renorm_const)\n",
    "# chosen_psd_model, chosen_orf_model, gwb_helper_dictionary = utils.varied_gamma_gt_pl(renorm_const=renorm_const)\n",
    "# chosen_psd_model, chosen_orf_model, gwb_helper_dictionary = utils.varied_gamma_bin_orf_pl(renorm_const=renorm_const)\n",
    "gwb_helper_dictionary"
   ]
  },
  {
   "cell_type": "markdown",
   "metadata": {},
   "source": [
    "### Now, construct the model using `models.UniformPrior`"
   ]
  },
  {
   "cell_type": "code",
   "execution_count": 8,
   "metadata": {},
   "outputs": [
    {
     "name": "stdout",
     "output_type": "stream",
     "text": [
      "Help on class UniformPrior in module models:\n",
      "\n",
      "class UniformPrior(builtins.object)\n",
      " |  UniformPrior(gwb_psd_func, orf_func, crn_bins, int_bins, f_common, f_intrin, df, psr_pos, Tspan, Npulsars, gwb_helper_dictionary, gamma_min=0, gamma_max=7, log10A_min=Array(-13.5, dtype=float64), log10A_max=Array(-6.5, dtype=float64), renorm_const=1000000000.0)\n",
      " |  \n",
      " |  A class to take care of prior and the phi-matrix construction based on uniform/log-uniform priors.\n",
      " |  \n",
      " |  :param gwb_psd_func: a PSD function from the `GWBFunctions` class\n",
      " |  :param orf_func: an orf function from the `GWBFunctions` class\n",
      " |  :param crn_bins: number of frequency-bins for the GWB\n",
      " |  :param int_bins: number of frequency-bins for the non-GWB (IRN) red noise\n",
      " |  :param `f_common`: an array of frequency-bins for the common process\n",
      " |  :param `f_intrin`: an array of frequency-bins for the IRN process\n",
      " |  :param df: the diffence between consecutive frequency-bins. It is usually 1/Tspan\n",
      " |  :param psr_pos: an array of pulsar-pair sky positions in cartesian-coordinates (every other coordinate system is pretentious and hence not supported!)\n",
      " |  :param Tspan: the baseline (time-span) of the PTA\n",
      " |  :param Npulsars: number of pulsars in the PTA\n",
      " |  :param gwb_helper_dictionary: the helper dictionary from `utils.py` script\n",
      " |  :param gamma_min: the lowest allowed value of the spectral-index of IRN\n",
      " |  :param gamma_max: the highest allowed value of the spectral-index of IRN\n",
      " |  :param log10A_min: the lowest allowed value of log10 of the amplitude of IRN\n",
      " |  :param log10A_max: the highest allowed value of log10 of the amplitude of IRN\n",
      " |  :param renorm_const: the factor by which the units are going to change. Set it to `1` for no unit change, or let it be `1e9` for better performance.\n",
      " |  \n",
      " |  Author:\n",
      " |  Nima Laal (02/12/2025)\n",
      " |  \n",
      " |  Methods defined here:\n",
      " |  \n",
      " |  __init__(self, gwb_psd_func, orf_func, crn_bins, int_bins, f_common, f_intrin, df, psr_pos, Tspan, Npulsars, gwb_helper_dictionary, gamma_min=0, gamma_max=7, log10A_min=Array(-13.5, dtype=float64), log10A_max=Array(-6.5, dtype=float64), renorm_const=1000000000.0)\n",
      " |      Initialize self.  See help(type(self)) for accurate signature.\n",
      " |  \n",
      " |  get_cross_info = <functools.cached_property object>\n",
      " |      Calculates the angular separation as well as their indices (between pairs of pulsars) based on\n",
      " |      their positions and stores them in the memory.\n",
      " |  \n",
      " |  get_lnprior(self, xs)\n",
      " |      A function to return natural log uniform-prior\n",
      " |      \n",
      " |      :param: xs: flattened array of model paraemters (`xs`)\n",
      " |      \n",
      " |      :return: either -infinity or a constant based on the predefined limits of the uniform-prior.\n",
      " |  \n",
      " |  get_phi_diag(self, log10amp, gamma, gwb_psd_params)\n",
      " |      Calculates the diagonal of the phi-matrix based on input parameters `log10amp`, `gamma`, and\n",
      " |      `gwb_psd_params`.\n",
      " |      \n",
      " |      :param log10amp: the amplitude of the IRN\n",
      " |      :param gamma: the spectral index of IRN\n",
      " |      :param gwb_psd_params: the psd parameters of the GWB\n",
      " |      \n",
      " |      :return:\n",
      " |      1. diagonal of the phi-matrix\n",
      " |      2. the common process PSD\n",
      " |  \n",
      " |  get_phi_mat(self, xs)\n",
      " |      Constructs the phi-matrix based on the flattened array of model paraemters (`xs`)\n",
      " |      \n",
      " |      :param xs: flattened array of model paraemters (`xs`)\n",
      " |      \n",
      " |      :return: the phi-matrix` with dimensions `(n_f,n_p, n_p)`.\n",
      " |  \n",
      " |  get_phi_mat_and_common_psd(self, xs)\n",
      " |      Constructs the phi-matrix based on the flattened array of model paraemters (`xs`)\n",
      " |      \n",
      " |      :param xs: flattened array of model paraemters (`xs`)\n",
      " |      \n",
      " |      :return: the phi-matrix` with dimensions `(n_f,n_p, n_p)`.\n",
      " |  \n",
      " |  jax_to_numpy_CPU(self, jax_CPU_array)\n",
      " |      Converts a JAX CPU array to a NumPy array.\n",
      " |      \n",
      " |      :param: jax_CPU_array: a JAX array that is stored on the CPU.\n",
      " |      \n",
      " |      :return: a NumPy array converted from a JAX CPU array using the `np.from_dlpack()` function.\n",
      " |  \n",
      " |  make_initial_guess(self, key)\n",
      " |      Generates an initial guess using uniform random values within\n",
      " |      specified limits.\n",
      " |      \n",
      " |      :param key: RNG key used for generating random numbers in a.\n",
      " |      It is commonly used in libraries like JAX for generating random numbers\n",
      " |      \n",
      " |      :return: an array of random numbers generated using\n",
      " |      JAX's `random.uniform` function. The shape of the array is determined by the number of elements in\n",
      " |      `self.upper_prior_lim_all`. The random numbers are generated within the range specified by `minval =\n",
      " |      self.lower_prior_lim_all` and `maxval = self.upper_prior_lim_all`.\n",
      " |  \n",
      " |  powerlaw(self, log10_A, gamma)\n",
      " |      Calculates a powerlaw expression given amplitude and spectral-index\n",
      " |      \n",
      " |      :param log10_A: the logarithm (base 10) of the amplitude.\n",
      " |      :param gamma: the spectral-index of the powerlaw\n",
      " |      \n",
      " |      :return: a powerlaw expression on predefined frequencies.\n",
      " |  \n",
      " |  spit_neg_infinity(self)\n",
      " |      returns negative infinity using the JAX NumPy library.\n",
      " |      \n",
      " |      :return: negative infinity.\n",
      " |  \n",
      " |  spit_neg_number(self)\n",
      " |      returns the negative value -8.01 (an arbitrary constant used by the uniform prior).\n",
      " |      \n",
      " |      :return: returnins the value -8.01.\n",
      " |  \n",
      " |  ----------------------------------------------------------------------\n",
      " |  Data descriptors defined here:\n",
      " |  \n",
      " |  __dict__\n",
      " |      dictionary for instance variables (if defined)\n",
      " |  \n",
      " |  __weakref__\n",
      " |      list of weak references to the object (if defined)\n",
      "\n"
     ]
    }
   ],
   "source": [
    "help(models.UniformPrior)"
   ]
  },
  {
   "cell_type": "code",
   "execution_count": 9,
   "metadata": {},
   "outputs": [
    {
     "name": "stderr",
     "output_type": "stream",
     "text": [
      "/home/koonima/FAST/FLASH/models.py:167: UserWarning: You have chosen to change units. Make sure your amplitude priors reflect that!\n",
      "  warnings.warn(\n"
     ]
    }
   ],
   "source": [
    "o = models.UniformPrior(gwb_psd_func = chosen_psd_model,\n",
    "                orf_func = chosen_orf_model,\n",
    "                crn_bins = crn_bins,\n",
    "                int_bins = int_bins,\n",
    "                f_common = f_common, \n",
    "                f_intrin = f_intrin,\n",
    "                df = 1/Tspan,\n",
    "                Tspan = Tspan, \n",
    "                Npulsars = len(psrs),\n",
    "                psr_pos = [psr.pos for psr in psrs],\n",
    "                gwb_helper_dictionary = gwb_helper_dictionary,\n",
    "                gamma_min = 0,\n",
    "                gamma_max = 7,\n",
    "                log10A_min = -20 + 0.5 * jnp.log10(renorm_const), #`0.5 * jnp.log10(renorm_const)` is added to account for change in units,\n",
    "                log10A_max = -11 + 0.5 * jnp.log10(renorm_const), #`0.5 * jnp.log10(renorm_const)` is added to account for change in units,\n",
    "                renorm_const = renorm_const)"
   ]
  },
  {
   "cell_type": "code",
   "execution_count": 10,
   "metadata": {},
   "outputs": [],
   "source": [
    "x0 = o.make_initial_guess(key = jar.key(100)) # Some random draw from the prior given an RNG key"
   ]
  },
  {
   "cell_type": "code",
   "execution_count": 11,
   "metadata": {},
   "outputs": [
    {
     "data": {
      "text/plain": [
       "(30, 67, 67)"
      ]
     },
     "execution_count": 11,
     "metadata": {},
     "output_type": "execute_result"
    }
   ],
   "source": [
    "phimat = o.get_phi_mat(x0)\n",
    "phimat.shape"
   ]
  },
  {
   "cell_type": "markdown",
   "metadata": {},
   "source": [
    "### Here is the phi-matrix. Note that this matrix is batched by `max(int_bins, crn_bins)` and is lower-triangular as fully populating phi (a positive definite matrix) is vain for computational purposes!"
   ]
  },
  {
   "cell_type": "code",
   "execution_count": 12,
   "metadata": {},
   "outputs": [
    {
     "data": {
      "text/plain": [
       "Array([[ 1.13757125e+02,  0.00000000e+00,  0.00000000e+00, ...,\n",
       "         0.00000000e+00,  0.00000000e+00,  0.00000000e+00],\n",
       "       [ 4.38168166e+01,  1.27119917e+04,  0.00000000e+00, ...,\n",
       "         0.00000000e+00,  0.00000000e+00,  0.00000000e+00],\n",
       "       [ 3.29142536e+01,  5.19604098e+01,  1.13721931e+02, ...,\n",
       "         0.00000000e+00,  0.00000000e+00,  0.00000000e+00],\n",
       "       ...,\n",
       "       [-1.15913598e+01,  1.51887022e+00,  1.03131491e+01, ...,\n",
       "         3.14141127e+07,  0.00000000e+00,  0.00000000e+00],\n",
       "       [-1.19664332e+01, -3.05603017e+00,  3.25103762e-01, ...,\n",
       "         2.37859771e+01,  1.13737831e+02,  0.00000000e+00],\n",
       "       [-1.25210477e+01, -2.78271737e+00,  1.75695204e+00, ...,\n",
       "         3.23319078e+01,  5.36935502e+01,  1.11562410e+12]],      dtype=float64)"
      ]
     },
     "execution_count": 12,
     "metadata": {},
     "output_type": "execute_result"
    }
   ],
   "source": [
    "phimat[0]"
   ]
  },
  {
   "cell_type": "markdown",
   "metadata": {},
   "source": [
    "# Step 2: Likelihood Calculation and Addition of Astro Parameters"
   ]
  },
  {
   "cell_type": "code",
   "execution_count": 13,
   "metadata": {},
   "outputs": [
    {
     "name": "stdout",
     "output_type": "stream",
     "text": [
      "Help on class AstroInferenceModel in module LikelihoodCalculator:\n",
      "\n",
      "class AstroInferenceModel(builtins.object)\n",
      " |  AstroInferenceModel(nf_dist, num_astro_params, astr_prior_lower_lim, astr_prior_upper_lim, astro_additional_prior_func, run_type_object, psrs, TNr=Array([False], dtype=bool), TNT=Array([False], dtype=bool), noise_dict=None, backend='none', tnequad=False, inc_ecorr=False, del_pta_after_init=True, matrix_stabilization=True)\n",
      " |  \n",
      " |  A class to calculate likelihood based on a given IRN + GWB model (no deterministic signal) as well as as a normalizing flow astroemulator\n",
      " |  \n",
      " |  :param nf_dist: the normalizing flow object\n",
      " |  :param num_astro_params: the number of astro parameters \n",
      " |  :param astr_prior_lower_lim: the lower bound for the astro parameters\n",
      " |  :param astr_prior_upper_lim: the upper bound for the astro parameters\n",
      " |  :param astro_additional_prior_func: if you want non-uniform prior on the astro parameters, supply a numpy-compatible function to calculate\n",
      " |                                      the natural-log of the prior given the astro-parameters.\n",
      " |  :param run_type_object: a class from `run_types.py`\n",
      " |  :param psrs: an enterprise `psrs` object. Ignored if `TNr` and `TNT` is supplied\n",
      " |  :param TNr: the so-called TNr matrix. It is the product of the basis matrix `F`\n",
      " |  with the inverse of the timing marginalized white noise covaraince matrix D and the timing residulas `r`.\n",
      " |  The naming convension should read FD^-1r but TNr is a more well-known name for this quantity!\n",
      " |  :param TNT: the so-called TNT matrix. It is the product of the basis matrix `F`\n",
      " |  with the inverse of the timing marginalized white noise covaraince matrix D and the `F` transpose matrix.\n",
      " |  The naming convension should read FD^-1F but TNT is a more well-known name for this quantity (it sounds dynamite!)\n",
      " |  :param: noise_dict: the white noise noise dictionary. Ignored if `TNr` and `TNT` is supplied\n",
      " |  :param: backend: the telescope backend. Ignored if `TNr` and `TNT` is supplied\n",
      " |  :param: tnequad: do you want to use the temponest convention?. Ignored if `TNr` and `TNT` is supplied\n",
      " |  :param: inc_ecorr: do you want to use ecorr? Ignored if `TNr` and `TNT` is supplied\n",
      " |  :param: del_pta_after_init: do you want to delete the in-house-made `pta` object? Ignored if `TNr` and `TNT` is supplied\n",
      " |  :param: matrix_stabilization: performing some matrix stabilization on the `TNT` matrix. It is highly recommended!\n",
      " |  \n",
      " |  Author:\n",
      " |  Nima Laal (02/12/2025)\n",
      " |  \n",
      " |  Methods defined here:\n",
      " |  \n",
      " |  __init__(self, nf_dist, num_astro_params, astr_prior_lower_lim, astr_prior_upper_lim, astro_additional_prior_func, run_type_object, psrs, TNr=Array([False], dtype=bool), TNT=Array([False], dtype=bool), noise_dict=None, backend='none', tnequad=False, inc_ecorr=False, del_pta_after_init=True, matrix_stabilization=True)\n",
      " |      Initialize self.  See help(type(self)) for accurate signature.\n",
      " |  \n",
      " |  draw_from_prior(self, x, iter, beta)\n",
      " |      Prior draw.\n",
      " |      \n",
      " |      The function signature is specific to PTMCMCSampler.\n",
      " |  \n",
      " |  get_lnliklihood(self, xs)\n",
      " |  \n",
      " |  get_lnliklihood_non_astro(self, xs)\n",
      " |      Calculates the log-likelihood of a multi-pulsar noise-modeling (no deterministic signal)\n",
      " |      \n",
      " |      :param: xs: flattened array of model paraemters (`xs`)\n",
      " |      \n",
      " |      :return: returns the natural-log-likelihood\n",
      " |  \n",
      " |  get_lnprior(self, xs)\n",
      " |      A function to return natural log prior (uniform)\n",
      " |      \n",
      " |      param: `xs`: powerlaw model parameters\n",
      " |  \n",
      " |  get_mean(self, phiinv)\n",
      " |      Estimates the mean of the Fourier coefficients as well as the log-determinant of the `Sigma` matrix.\n",
      " |      \n",
      " |      :param: `phiinv`: the phiinv matrix of the shape (2*n_freq, n_pulsar, n_pulsar).\n",
      " |      package does this automatically.\n",
      " |      \n",
      " |      :return: the mean of the Fourier coefficients as well as the log-determinant of the `Sigma` matrix.\n",
      " |  \n",
      " |  make_initial_guess(self, seed=None)\n",
      " |  \n",
      " |  sample(self, x0, niter, savedir, resume=True)\n",
      " |      A function to perform the sampling using PTMCMC\n",
      " |      \n",
      " |      :param niter: the number of sampling iterations\n",
      " |      :param savedir: the directory to save the chains\n",
      " |      :param resume: do you want to resume from a saved chain?\n",
      " |      :param resume: annoying JAX rng key!\n",
      " |  \n",
      " |  to_ent_phiinv(self, phiinv)\n",
      " |      Changes the format of the phiinv matrix from (2*n_freq, n_pulsar, n_pulsar) to (2*n_freq * n_pulsar by 2*n_freq * n_pulsar)\n",
      " |      by adding zeros to the cross-frequency terms.\n",
      " |      \n",
      " |      :param: `phiinv`: the phiinv matrix with the shape (2*n_freq, n_pulsar, n_pulsar).\n",
      " |      \n",
      " |      :return: the phiinv matrix with the shape (2*n_freq * n_pulsar by 2*n_freq * n_pulsar).\n",
      " |  \n",
      " |  ----------------------------------------------------------------------\n",
      " |  Data descriptors defined here:\n",
      " |  \n",
      " |  __dict__\n",
      " |      dictionary for instance variables (if defined)\n",
      " |  \n",
      " |  __weakref__\n",
      " |      list of weak references to the object (if defined)\n",
      "\n"
     ]
    }
   ],
   "source": [
    "help(LC.AstroInferenceModel)"
   ]
  },
  {
   "cell_type": "markdown",
   "metadata": {},
   "source": [
    "### Making the AstroInference object is easy. In addition to your normalzing flow object, you need to define your prior function for the astro-parameters. For example:"
   ]
  },
  {
   "cell_type": "code",
   "execution_count": 14,
   "metadata": {},
   "outputs": [],
   "source": [
    "def astro_prior_func_uniform(xs):\n",
    "    '''\n",
    "    this function does not do anything. Uniform prior is already included in the Bayesian inference object. \n",
    "    So, if you wish to use uniform prior on the astro parameters, this function is what you need.\n",
    "\n",
    "    :param xs: an array of length equal to the number of astro params\n",
    "    '''\n",
    "    return 0\n",
    "\n",
    "#mean = np.array([...])\n",
    "#std = np.array([...])\n",
    "def astro_additional_prior_func_normal(xs):\n",
    "    '''\n",
    "    this function is for the inclusion of the normal priors. You can change it to a multi-variate normal if needed.\n",
    "    just choose your mean and std for the astro parameters. BE CAREFUL! The order of `xs` is the same order as your \n",
    "    trained normalizing flow object.\n",
    "\n",
    "    :param xs: an array of length equal to the number of astro params\n",
    "    '''\n",
    "    return norm.logpdf(xs, loc=mean, scale=std)"
   ]
  },
  {
   "cell_type": "code",
   "execution_count": 15,
   "metadata": {},
   "outputs": [
    {
     "data": {
      "text/plain": [
       "(array([[ 7.55645124, -1.55699849, 12.13215913,  8.49829871,  0.09407345,\n",
       "         -1.30706308]]),\n",
       " (1, 6))"
      ]
     },
     "execution_count": 15,
     "metadata": {},
     "output_type": "execute_result"
    }
   ],
   "source": [
    "astro_prior_bounds = np.array([[0.1, 11.0], \n",
    "          [-3.5, -1.5], \n",
    "          [10.5, 12.5], \n",
    "          [7.6, 9.0], \n",
    "          [0.0, 0.9], \n",
    "          [-1.5, 0.0]])\n",
    "\n",
    "astro_x0 = np.random.uniform( \n",
    "            astro_prior_bounds[:, 0], \n",
    "            astro_prior_bounds[:, 1])[None]\n",
    "astro_x0, astro_x0.shape"
   ]
  },
  {
   "cell_type": "markdown",
   "metadata": {},
   "source": [
    "### Load your normalizing flow object"
   ]
  },
  {
   "cell_type": "code",
   "execution_count": 16,
   "metadata": {},
   "outputs": [
    {
     "name": "stderr",
     "output_type": "stream",
     "text": [
      "/tmp/ipykernel_125950/435510844.py:1: FutureWarning: You are using `torch.load` with `weights_only=False` (the current default value), which uses the default pickle module implicitly. It is possible to construct malicious pickle data which will execute arbitrary code during unpickling (See https://github.com/pytorch/pytorch/blob/main/SECURITY.md#untrusted-models for more details). In a future release, the default value for `weights_only` will be flipped to `True`. This limits the functions that could be executed during unpickling. Arbitrary objects will no longer be allowed to be loaded via this mode unless they are explicitly allowlisted by the user via `torch.serialization.add_safe_globals`. We recommend you start setting `weights_only=True` for any use case where you don't have full control of the loaded file. Please open an issue on GitHub for any issues related to this experimental feature.\n",
      "  nf, half_range, B, mean, _, _ = torch.load('../Data/AstroData/PaperFinal/chosenone/lr0.0001_bs1000_decay0/condflow_at_40000.pkl',\n"
     ]
    }
   ],
   "source": [
    "nf, half_range, B, mean, _, _ = torch.load('../Data/AstroData/PaperFinal/chosenone/lr0.0001_bs1000_decay0/condflow_at_40000.pkl',\n",
    "                                            map_location = 'cpu')"
   ]
  },
  {
   "cell_type": "markdown",
   "metadata": {},
   "source": [
    "### Specify the number of astro parameters"
   ]
  },
  {
   "cell_type": "code",
   "execution_count": 20,
   "metadata": {},
   "outputs": [],
   "source": [
    "n_astro_params = 6"
   ]
  },
  {
   "cell_type": "code",
   "execution_count": 21,
   "metadata": {},
   "outputs": [],
   "source": [
    "nf_dist_object = nf_dist.NFastroinference(pyro_nf_object = nf,\n",
    "        mean = np.array(mean),\n",
    "        half_range = np.array(half_range),\n",
    "        scale = B,\n",
    "        gwb_freq_idxs = np.array(range(n_astro_params, n_astro_params + crn_bins), dtype = int),\n",
    "        ast_param_idxs = np.array(range(n_astro_params), dtype = int))"
   ]
  },
  {
   "cell_type": "markdown",
   "metadata": {},
   "source": [
    "### Make the AstroInference object"
   ]
  },
  {
   "cell_type": "code",
   "execution_count": 22,
   "metadata": {},
   "outputs": [
    {
     "name": "stdout",
     "output_type": "stream",
     "text": [
      "Condition number of the TNT matrix before stabilizing is: 5.5744446445107334e+20\n",
      "Condition number of the TNT matrix after stabilizing is: 6.926691275258731e+14\n"
     ]
    }
   ],
   "source": [
    "m = LC.AstroInferenceModel(psrs = psrs,\n",
    "                        nf_dist = nf_dist_object ,\n",
    "                        num_astro_params = n_astro_params,\n",
    "                        astr_prior_lower_lim = astro_prior_bounds[:, 0],\n",
    "                        astr_prior_upper_lim = astro_prior_bounds[:, 1],\n",
    "                        astro_additional_prior_func = astro_prior_func_uniform,\n",
    "                        TNr=jnp.array([False]),\n",
    "                        TNT=jnp.array([False]),\n",
    "                        run_type_object = o,\n",
    "                        noise_dict = noise_dict, \n",
    "                        backend = 'backend', \n",
    "                        tnequad = False, \n",
    "                        inc_ecorr = True, \n",
    "                        del_pta_after_init = True,\n",
    "                        matrix_stabilization = True)"
   ]
  },
  {
   "cell_type": "markdown",
   "metadata": {},
   "source": [
    "### It is VERY important that the initial guess of the model parameters `x0` leads to a finite likelihood! Keep generating new `x0` until the likelihood is finite\n"
   ]
  },
  {
   "cell_type": "code",
   "execution_count": 28,
   "metadata": {},
   "outputs": [
    {
     "data": {
      "text/plain": [
       "array([35317.62], dtype=float32)"
      ]
     },
     "execution_count": 28,
     "metadata": {},
     "output_type": "execute_result"
    }
   ],
   "source": [
    "x0 = m.make_initial_guess()\n",
    "ans = m.get_lnliklihood(x0)\n",
    "assert np.isfinite(ans)\n",
    "ans"
   ]
  },
  {
   "cell_type": "code",
   "execution_count": 29,
   "metadata": {},
   "outputs": [
    {
     "name": "stdout",
     "output_type": "stream",
     "text": [
      "58.2 ms ± 5.21 ms per loop (mean ± std. dev. of 7 runs, 1 loop each)\n"
     ]
    }
   ],
   "source": [
    "%timeit m.get_lnliklihood(x0)"
   ]
  },
  {
   "cell_type": "markdown",
   "metadata": {},
   "source": [
    "### Now perform sampling... "
   ]
  },
  {
   "cell_type": "code",
   "execution_count": null,
   "metadata": {},
   "outputs": [],
   "source": [
    "m.sample(x0 = x0, niter = int(1e6), savedir = '../testnew/', resume=True)"
   ]
  }
 ],
 "metadata": {
  "kernelspec": {
   "display_name": "gent",
   "language": "python",
   "name": "python3"
  },
  "language_info": {
   "codemirror_mode": {
    "name": "ipython",
    "version": 3
   },
   "file_extension": ".py",
   "mimetype": "text/x-python",
   "name": "python",
   "nbconvert_exporter": "python",
   "pygments_lexer": "ipython3",
   "version": "3.9.18"
  }
 },
 "nbformat": 4,
 "nbformat_minor": 2
}
